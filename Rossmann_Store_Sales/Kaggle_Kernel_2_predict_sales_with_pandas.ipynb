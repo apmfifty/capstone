{
 "cells": [
  {
   "cell_type": "markdown",
   "metadata": {},
   "source": [
    "[predict_sales_with_pandas\n",
    "](https://www.kaggle.com/zygmunt/rossmann-store-sales/predict-sales-with-pandas-py)\n",
    "\n",
    "### 1 \"Predict sales as a historical median for a given store, day of week, and promo\"\n",
    "### 2 \"Predict sales as a historical mean for a given store, day of week, and promo\""
   ]
  },
  {
   "cell_type": "code",
   "execution_count": 1,
   "metadata": {
    "collapsed": true
   },
   "outputs": [],
   "source": [
    "import pandas as pd"
   ]
  },
  {
   "cell_type": "code",
   "execution_count": 2,
   "metadata": {
    "collapsed": false
   },
   "outputs": [
    {
     "name": "stderr",
     "output_type": "stream",
     "text": [
      "/Users/pengjuzhao/anaconda/lib/python2.7/site-packages/IPython/core/interactiveshell.py:2723: DtypeWarning: Columns (7) have mixed types. Specify dtype option on import or set low_memory=False.\n",
      "  interactivity=interactivity, compiler=compiler, result=result)\n"
     ]
    }
   ],
   "source": [
    "# Read data\n",
    "train_data=pd.read_csv('data/train.csv')\n",
    "test_data=pd.read_csv('data/test.csv')\n",
    "store_data=pd.read_csv('data/store.csv')"
   ]
  },
  {
   "cell_type": "code",
   "execution_count": 13,
   "metadata": {
    "collapsed": false
   },
   "outputs": [
    {
     "name": "stdout",
     "output_type": "stream",
     "text": [
      "<class 'pandas.core.frame.DataFrame'>\n",
      "RangeIndex: 1017209 entries, 0 to 1017208\n",
      "Data columns (total 9 columns):\n",
      "Store            1017209 non-null int64\n",
      "DayOfWeek        1017209 non-null int64\n",
      "Date             1017209 non-null object\n",
      "Sales            1017209 non-null int64\n",
      "Customers        1017209 non-null int64\n",
      "Open             1017209 non-null int64\n",
      "Promo            1017209 non-null int64\n",
      "StateHoliday     1017209 non-null object\n",
      "SchoolHoliday    1017209 non-null int64\n",
      "dtypes: int64(7), object(2)\n",
      "memory usage: 69.8+ MB\n"
     ]
    }
   ],
   "source": [
    "train_data.info()"
   ]
  },
  {
   "cell_type": "code",
   "execution_count": 8,
   "metadata": {
    "collapsed": true
   },
   "outputs": [],
   "source": [
    "# Get mean/median sales value from store/DayOfWeek,Promo\n",
    "mean_value=train_data[train_data['Open']==1][['Sales','Store','DayOfWeek','Promo']].groupby(['Store','DayOfWeek','Promo']).mean()\n",
    "median_value=train_data[train_data['Open']==1][['Sales','Store','DayOfWeek','Promo']].groupby(['Store','DayOfWeek','Promo']).median()"
   ]
  },
  {
   "cell_type": "code",
   "execution_count": 17,
   "metadata": {
    "collapsed": false
   },
   "outputs": [],
   "source": [
    "def set_testValue(value_df,isOpen,storeId,dayOfWeek,isPromo):\n",
    "    if isOpen==0:\n",
    "        return 0\n",
    "    else:\n",
    "        return value_df.ix[storeId,dayOfWeek,isPromo]\n",
    "# Based on the mean value\n",
    "test_data['Sales_Prediction_Mean']=test_data.apply(lambda row: set_testValue(\n",
    "        mean_value,row['Open'],row['Store'],row['DayOfWeek'],row['Promo']),axis=1)\n"
   ]
  },
  {
   "cell_type": "code",
   "execution_count": 22,
   "metadata": {
    "collapsed": true
   },
   "outputs": [],
   "source": [
    "# Based on the median value\n",
    "test_data['Sales_Prediction_Median']=test_data.apply(lambda row: set_testValue(\n",
    "        median_value,row['Open'],row['Store'],row['DayOfWeek'],row['Promo']),axis=1)\n"
   ]
  },
  {
   "cell_type": "code",
   "execution_count": 42,
   "metadata": {
    "collapsed": false
   },
   "outputs": [],
   "source": [
    "#Output data to csv\n",
    "mean_output=test_data.ix[:,['Id','Sales_Prediction_Mean']].rename(columns={'Sales_Prediction_Mean': 'Sales'})\n",
    "mean_output.to_csv('Kaggle_Kernel_2_predict_sales_with_pandas/rossmann_sales_mean.csv',index=False)\n",
    "\n",
    "median_output=test_data.ix[:,['Id','Sales_Prediction_Median']].rename(columns={'Sales_Prediction_Median': 'Sales'})\n",
    "median_output.to_csv('Kaggle_Kernel_2_predict_sales_with_pandas/rossmann_sales_median.csv',index=False)\n",
    "\n"
   ]
  },
  {
   "cell_type": "code",
   "execution_count": null,
   "metadata": {
    "collapsed": true
   },
   "outputs": [],
   "source": []
  }
 ],
 "metadata": {
  "kernelspec": {
   "display_name": "Python [Root]",
   "language": "python",
   "name": "Python [Root]"
  },
  "language_info": {
   "codemirror_mode": {
    "name": "ipython",
    "version": 2
   },
   "file_extension": ".py",
   "mimetype": "text/x-python",
   "name": "python",
   "nbconvert_exporter": "python",
   "pygments_lexer": "ipython2",
   "version": "2.7.12"
  }
 },
 "nbformat": 4,
 "nbformat_minor": 0
}
