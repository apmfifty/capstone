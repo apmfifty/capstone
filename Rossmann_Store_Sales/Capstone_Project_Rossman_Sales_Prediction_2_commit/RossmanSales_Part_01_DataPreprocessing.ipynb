{
 "cells": [
  {
   "cell_type": "markdown",
   "metadata": {},
   "source": [
    "## 参考文献汇总\n",
    "- Reference 1: Kaggle Kernel [Code sharing, 13th place, no external data](https://www.kaggle.com/c/rossmann-store-sales/discussion/17979)\n",
    "- Reference 2: Kaggle Kernel-[A Journey through Rossmann Stores](https://www.kaggle.com/omarelgabry/rossmann-store-sales/a-journey-through-rossmann-stores)\n",
    "- Reference 3: Kaggle Kernel-[Predict_sales_with_pandas](https://www.kaggle.com/zygmunt/rossmann-store-sales/predict-sales-with-pandas-py)\n",
    "- Reference 4:[XGBoost:Notes on Parameter Tuning](http://xgboost.readthedocs.io/en/latest/how_to/param_tuning.html)\n",
    "- Reference 5:[XGBoost Parameters](http://xgboost.readthedocs.io/en/latest/parameter.html)\n",
    "- Reference 6:[Complete Guide to Parameter Tuning in XGBoost (with codes in Python)](https://www.analyticsvidhya.com/blog/2016/03/complete-guide-parameter-tuning-xgboost-with-codes-python/)\n",
    "- Reference 7:[XGBoost Feature Importance](https://www.kaggle.com/cast42/rossmann-store-sales/xgboost-in-python-with-rmspe-v2)\n",
    "\n",
    "\n",
    "## 程序使用说明\n",
    "1. 运行程序前，从[Kaggle](https://www.kaggle.com/c/rossmann-store-sales/data)官网下载数据store.csv.zip、train.csv.zip和test.csv.zip，将解压后的store.csv、train.csv、test.csv放在与本文档同目录下的data文件夹中\n",
    "2. \"RossmanSales_Part_01_DataPreprocessing.ipynb\"会生成后续数据可视化、模型训练所需要的数据\n",
    "4. \"RossmanSales_Part_02_VisualExploration.ipynb\"为数据可视化，需使用Part 1生成的数据\n",
    "5. “RossmanSales_Part_03_BenchmarkModel.ipynb”生成基准模型，需使用Part 1生成的数据\n",
    "6. “RossmanSales_Part_04_XGBoost_HyperPara_Optimization.ipynb”使用XGBoost方法训练模型，并进行超参数优化；需使用Part 1生成的数据；\n",
    "7. 文件夹说明：\n",
    "    - data： 保存store.csv、train.csv、test.csv\n",
    "    - data_inter_transfer：保存\"RossmanSales_Part_01_DataPreprocessing.ipynb\"生成的数据\n",
    "    - output_csv：保存用来提交到Kaggle的结果文件\n",
    "    - model_saved：保存生成的模型"
   ]
  },
  {
   "cell_type": "markdown",
   "metadata": {},
   "source": [
    "## 准备工作\n",
    "### 0.1 调入库函数"
   ]
  },
  {
   "cell_type": "code",
   "execution_count": 2,
   "metadata": {
    "collapsed": false
   },
   "outputs": [
    {
     "name": "stdout",
     "output_type": "stream",
     "text": [
      "\n"
     ]
    }
   ],
   "source": [
    "#基本计算类\n",
    "import pandas as pd\n",
    "import numpy as np\n",
    "from pandas import Series,DataFrame\n",
    "\n",
    "#可视化\n",
    "import matplotlib.pyplot as plt\n",
    "import seaborn as sns\n",
    "from IPython.display import display \n",
    "\n",
    "#xgboost库函数\n",
    "import xgboost as xgb\n",
    "\n",
    "\n",
    "#时间类\n",
    "import time\n",
    "import datetime\n",
    "from isoweek import Week\n",
    "\n",
    "#文件类\n",
    "import os\n",
    "\n",
    "#其他\n",
    "import itertools\n",
    "import operator\n",
    "\n",
    "#基本设定\n",
    "\n",
    "%matplotlib inline\n",
    "sns.set_style('whitegrid')"
   ]
  },
  {
   "cell_type": "markdown",
   "metadata": {},
   "source": [
    "### 0.2 定义评估指标\n",
    "本项目采用Kaggle比赛的评估指标：RMSPE（误差百分比的均方差），可表示为\n",
    "$$\n",
    "RMSPE= \\sqrt{\\frac{1}{n}\\sum_{i=1}^{n}(\\frac{y_i-\\hat{y_i}}{y_i})^2}\n",
    "$$\n",
    "其中，任何当天销售额为0的数据在评估时将被忽略； $y_i$ 表示某药店在某天的实际销售额，而$\\hat{y_i}$ 表示该药店在对应这一天的预测销售额。"
   ]
  },
  {
   "cell_type": "markdown",
   "metadata": {},
   "source": [
    "### 0.3 Setting seed"
   ]
  },
  {
   "cell_type": "code",
   "execution_count": 3,
   "metadata": {
    "collapsed": true
   },
   "outputs": [],
   "source": [
    "seed_1=42"
   ]
  },
  {
   "cell_type": "markdown",
   "metadata": {
    "collapsed": true
   },
   "source": [
    "## 1. 读入数据，基本数据处理 & 预览数据"
   ]
  },
  {
   "cell_type": "markdown",
   "metadata": {},
   "source": [
    "### 1.1 读入数据\n",
    "#### 1.1.0 读入数据"
   ]
  },
  {
   "cell_type": "code",
   "execution_count": 4,
   "metadata": {
    "collapsed": false
   },
   "outputs": [],
   "source": [
    "train_raw_df=pd.read_csv('data/train.csv',low_memory=False)\n",
    "test_raw_df=pd.read_csv('data/test.csv',low_memory=False)\n",
    "store_raw_df=pd.read_csv('data/store.csv',low_memory=False)"
   ]
  },
  {
   "cell_type": "markdown",
   "metadata": {},
   "source": [
    "#### 1.1.1 数据探索"
   ]
  },
  {
   "cell_type": "code",
   "execution_count": 5,
   "metadata": {
    "collapsed": false
   },
   "outputs": [
    {
     "name": "stdout",
     "output_type": "stream",
     "text": [
      "--------train.csv---------\n"
     ]
    },
    {
     "data": {
      "text/html": [
       "<div>\n",
       "<table border=\"1\" class=\"dataframe\">\n",
       "  <thead>\n",
       "    <tr style=\"text-align: right;\">\n",
       "      <th></th>\n",
       "      <th>Store</th>\n",
       "      <th>DayOfWeek</th>\n",
       "      <th>Date</th>\n",
       "      <th>Sales</th>\n",
       "      <th>Customers</th>\n",
       "      <th>Open</th>\n",
       "      <th>Promo</th>\n",
       "      <th>StateHoliday</th>\n",
       "      <th>SchoolHoliday</th>\n",
       "    </tr>\n",
       "  </thead>\n",
       "  <tbody>\n",
       "    <tr>\n",
       "      <th>0</th>\n",
       "      <td>1</td>\n",
       "      <td>5</td>\n",
       "      <td>2015-07-31</td>\n",
       "      <td>5263</td>\n",
       "      <td>555</td>\n",
       "      <td>1</td>\n",
       "      <td>1</td>\n",
       "      <td>0</td>\n",
       "      <td>1</td>\n",
       "    </tr>\n",
       "    <tr>\n",
       "      <th>1</th>\n",
       "      <td>2</td>\n",
       "      <td>5</td>\n",
       "      <td>2015-07-31</td>\n",
       "      <td>6064</td>\n",
       "      <td>625</td>\n",
       "      <td>1</td>\n",
       "      <td>1</td>\n",
       "      <td>0</td>\n",
       "      <td>1</td>\n",
       "    </tr>\n",
       "  </tbody>\n",
       "</table>\n",
       "</div>"
      ],
      "text/plain": [
       "   Store  DayOfWeek        Date  Sales  Customers  Open  Promo StateHoliday  \\\n",
       "0      1          5  2015-07-31   5263        555     1      1            0   \n",
       "1      2          5  2015-07-31   6064        625     1      1            0   \n",
       "\n",
       "   SchoolHoliday  \n",
       "0              1  \n",
       "1              1  "
      ]
     },
     "metadata": {},
     "output_type": "display_data"
    },
    {
     "name": "stdout",
     "output_type": "stream",
     "text": [
      "--------test.csv---------\n"
     ]
    },
    {
     "data": {
      "text/html": [
       "<div>\n",
       "<table border=\"1\" class=\"dataframe\">\n",
       "  <thead>\n",
       "    <tr style=\"text-align: right;\">\n",
       "      <th></th>\n",
       "      <th>Id</th>\n",
       "      <th>Store</th>\n",
       "      <th>DayOfWeek</th>\n",
       "      <th>Date</th>\n",
       "      <th>Open</th>\n",
       "      <th>Promo</th>\n",
       "      <th>StateHoliday</th>\n",
       "      <th>SchoolHoliday</th>\n",
       "    </tr>\n",
       "  </thead>\n",
       "  <tbody>\n",
       "    <tr>\n",
       "      <th>0</th>\n",
       "      <td>1</td>\n",
       "      <td>1</td>\n",
       "      <td>4</td>\n",
       "      <td>2015-09-17</td>\n",
       "      <td>1.0</td>\n",
       "      <td>1</td>\n",
       "      <td>0</td>\n",
       "      <td>0</td>\n",
       "    </tr>\n",
       "    <tr>\n",
       "      <th>1</th>\n",
       "      <td>2</td>\n",
       "      <td>3</td>\n",
       "      <td>4</td>\n",
       "      <td>2015-09-17</td>\n",
       "      <td>1.0</td>\n",
       "      <td>1</td>\n",
       "      <td>0</td>\n",
       "      <td>0</td>\n",
       "    </tr>\n",
       "  </tbody>\n",
       "</table>\n",
       "</div>"
      ],
      "text/plain": [
       "   Id  Store  DayOfWeek        Date  Open  Promo StateHoliday  SchoolHoliday\n",
       "0   1      1          4  2015-09-17   1.0      1            0              0\n",
       "1   2      3          4  2015-09-17   1.0      1            0              0"
      ]
     },
     "metadata": {},
     "output_type": "display_data"
    },
    {
     "name": "stdout",
     "output_type": "stream",
     "text": [
      "--------store.csv---------\n"
     ]
    },
    {
     "data": {
      "text/html": [
       "<div>\n",
       "<table border=\"1\" class=\"dataframe\">\n",
       "  <thead>\n",
       "    <tr style=\"text-align: right;\">\n",
       "      <th></th>\n",
       "      <th>Store</th>\n",
       "      <th>StoreType</th>\n",
       "      <th>Assortment</th>\n",
       "      <th>CompetitionDistance</th>\n",
       "      <th>CompetitionOpenSinceMonth</th>\n",
       "      <th>CompetitionOpenSinceYear</th>\n",
       "      <th>Promo2</th>\n",
       "      <th>Promo2SinceWeek</th>\n",
       "      <th>Promo2SinceYear</th>\n",
       "      <th>PromoInterval</th>\n",
       "    </tr>\n",
       "  </thead>\n",
       "  <tbody>\n",
       "    <tr>\n",
       "      <th>0</th>\n",
       "      <td>1</td>\n",
       "      <td>c</td>\n",
       "      <td>a</td>\n",
       "      <td>1270.0</td>\n",
       "      <td>9.0</td>\n",
       "      <td>2008.0</td>\n",
       "      <td>0</td>\n",
       "      <td>NaN</td>\n",
       "      <td>NaN</td>\n",
       "      <td>NaN</td>\n",
       "    </tr>\n",
       "    <tr>\n",
       "      <th>1</th>\n",
       "      <td>2</td>\n",
       "      <td>a</td>\n",
       "      <td>a</td>\n",
       "      <td>570.0</td>\n",
       "      <td>11.0</td>\n",
       "      <td>2007.0</td>\n",
       "      <td>1</td>\n",
       "      <td>13.0</td>\n",
       "      <td>2010.0</td>\n",
       "      <td>Jan,Apr,Jul,Oct</td>\n",
       "    </tr>\n",
       "  </tbody>\n",
       "</table>\n",
       "</div>"
      ],
      "text/plain": [
       "   Store StoreType Assortment  CompetitionDistance  CompetitionOpenSinceMonth  \\\n",
       "0      1         c          a               1270.0                        9.0   \n",
       "1      2         a          a                570.0                       11.0   \n",
       "\n",
       "   CompetitionOpenSinceYear  Promo2  Promo2SinceWeek  Promo2SinceYear  \\\n",
       "0                    2008.0       0              NaN              NaN   \n",
       "1                    2007.0       1             13.0           2010.0   \n",
       "\n",
       "     PromoInterval  \n",
       "0              NaN  \n",
       "1  Jan,Apr,Jul,Oct  "
      ]
     },
     "metadata": {},
     "output_type": "display_data"
    }
   ],
   "source": [
    "### 对数据进行预览 1\n",
    "print('--------train.csv---------')\n",
    "display(train_raw_df.head(n=2))\n",
    "print('--------test.csv---------')\n",
    "display(test_raw_df.head(n=2))\n",
    "print('--------store.csv---------')\n",
    "display(store_raw_df.head(n=2))"
   ]
  },
  {
   "cell_type": "code",
   "execution_count": 6,
   "metadata": {
    "collapsed": false
   },
   "outputs": [
    {
     "name": "stdout",
     "output_type": "stream",
     "text": [
      "--------train.csv---------\n",
      "<class 'pandas.core.frame.DataFrame'>\n",
      "RangeIndex: 1017209 entries, 0 to 1017208\n",
      "Data columns (total 9 columns):\n",
      "Store            1017209 non-null int64\n",
      "DayOfWeek        1017209 non-null int64\n",
      "Date             1017209 non-null object\n",
      "Sales            1017209 non-null int64\n",
      "Customers        1017209 non-null int64\n",
      "Open             1017209 non-null int64\n",
      "Promo            1017209 non-null int64\n",
      "StateHoliday     1017209 non-null object\n",
      "SchoolHoliday    1017209 non-null int64\n",
      "dtypes: int64(7), object(2)\n",
      "memory usage: 69.8+ MB\n",
      "--------test.csv---------\n",
      "<class 'pandas.core.frame.DataFrame'>\n",
      "RangeIndex: 41088 entries, 0 to 41087\n",
      "Data columns (total 8 columns):\n",
      "Id               41088 non-null int64\n",
      "Store            41088 non-null int64\n",
      "DayOfWeek        41088 non-null int64\n",
      "Date             41088 non-null object\n",
      "Open             41077 non-null float64\n",
      "Promo            41088 non-null int64\n",
      "StateHoliday     41088 non-null object\n",
      "SchoolHoliday    41088 non-null int64\n",
      "dtypes: float64(1), int64(5), object(2)\n",
      "memory usage: 2.5+ MB\n",
      "--------store.csv---------\n",
      "<class 'pandas.core.frame.DataFrame'>\n",
      "RangeIndex: 1115 entries, 0 to 1114\n",
      "Data columns (total 10 columns):\n",
      "Store                        1115 non-null int64\n",
      "StoreType                    1115 non-null object\n",
      "Assortment                   1115 non-null object\n",
      "CompetitionDistance          1112 non-null float64\n",
      "CompetitionOpenSinceMonth    761 non-null float64\n",
      "CompetitionOpenSinceYear     761 non-null float64\n",
      "Promo2                       1115 non-null int64\n",
      "Promo2SinceWeek              571 non-null float64\n",
      "Promo2SinceYear              571 non-null float64\n",
      "PromoInterval                571 non-null object\n",
      "dtypes: float64(5), int64(2), object(3)\n",
      "memory usage: 87.2+ KB\n"
     ]
    }
   ],
   "source": [
    "#对数据进行预览 2\n",
    "print('--------train.csv---------')\n",
    "train_raw_df.info()\n",
    "print('--------test.csv---------')\n",
    "test_raw_df.info()\n",
    "print('--------store.csv---------')\n",
    "store_raw_df.info()"
   ]
  },
  {
   "cell_type": "code",
   "execution_count": 7,
   "metadata": {
    "collapsed": false
   },
   "outputs": [
    {
     "name": "stdout",
     "output_type": "stream",
     "text": [
      "--------store.csv---------\n"
     ]
    },
    {
     "name": "stderr",
     "output_type": "stream",
     "text": [
      "/Users/pengjuzhao/anaconda/lib/python2.7/site-packages/numpy/lib/function_base.py:3834: RuntimeWarning: Invalid value encountered in percentile\n",
      "  RuntimeWarning)\n"
     ]
    },
    {
     "data": {
      "text/html": [
       "<div>\n",
       "<table border=\"1\" class=\"dataframe\">\n",
       "  <thead>\n",
       "    <tr style=\"text-align: right;\">\n",
       "      <th></th>\n",
       "      <th>Store</th>\n",
       "      <th>CompetitionDistance</th>\n",
       "      <th>CompetitionOpenSinceMonth</th>\n",
       "      <th>CompetitionOpenSinceYear</th>\n",
       "      <th>Promo2</th>\n",
       "      <th>Promo2SinceWeek</th>\n",
       "      <th>Promo2SinceYear</th>\n",
       "    </tr>\n",
       "  </thead>\n",
       "  <tbody>\n",
       "    <tr>\n",
       "      <th>count</th>\n",
       "      <td>1115.00000</td>\n",
       "      <td>1112.000000</td>\n",
       "      <td>761.000000</td>\n",
       "      <td>761.000000</td>\n",
       "      <td>1115.000000</td>\n",
       "      <td>571.000000</td>\n",
       "      <td>571.000000</td>\n",
       "    </tr>\n",
       "    <tr>\n",
       "      <th>mean</th>\n",
       "      <td>558.00000</td>\n",
       "      <td>5404.901079</td>\n",
       "      <td>7.224704</td>\n",
       "      <td>2008.668857</td>\n",
       "      <td>0.512108</td>\n",
       "      <td>23.595447</td>\n",
       "      <td>2011.763573</td>\n",
       "    </tr>\n",
       "    <tr>\n",
       "      <th>std</th>\n",
       "      <td>322.01708</td>\n",
       "      <td>7663.174720</td>\n",
       "      <td>3.212348</td>\n",
       "      <td>6.195983</td>\n",
       "      <td>0.500078</td>\n",
       "      <td>14.141984</td>\n",
       "      <td>1.674935</td>\n",
       "    </tr>\n",
       "    <tr>\n",
       "      <th>min</th>\n",
       "      <td>1.00000</td>\n",
       "      <td>20.000000</td>\n",
       "      <td>1.000000</td>\n",
       "      <td>1900.000000</td>\n",
       "      <td>0.000000</td>\n",
       "      <td>1.000000</td>\n",
       "      <td>2009.000000</td>\n",
       "    </tr>\n",
       "    <tr>\n",
       "      <th>25%</th>\n",
       "      <td>279.50000</td>\n",
       "      <td>NaN</td>\n",
       "      <td>NaN</td>\n",
       "      <td>NaN</td>\n",
       "      <td>0.000000</td>\n",
       "      <td>NaN</td>\n",
       "      <td>NaN</td>\n",
       "    </tr>\n",
       "    <tr>\n",
       "      <th>50%</th>\n",
       "      <td>558.00000</td>\n",
       "      <td>NaN</td>\n",
       "      <td>NaN</td>\n",
       "      <td>NaN</td>\n",
       "      <td>1.000000</td>\n",
       "      <td>NaN</td>\n",
       "      <td>NaN</td>\n",
       "    </tr>\n",
       "    <tr>\n",
       "      <th>75%</th>\n",
       "      <td>836.50000</td>\n",
       "      <td>NaN</td>\n",
       "      <td>NaN</td>\n",
       "      <td>NaN</td>\n",
       "      <td>1.000000</td>\n",
       "      <td>NaN</td>\n",
       "      <td>NaN</td>\n",
       "    </tr>\n",
       "    <tr>\n",
       "      <th>max</th>\n",
       "      <td>1115.00000</td>\n",
       "      <td>75860.000000</td>\n",
       "      <td>12.000000</td>\n",
       "      <td>2015.000000</td>\n",
       "      <td>1.000000</td>\n",
       "      <td>50.000000</td>\n",
       "      <td>2015.000000</td>\n",
       "    </tr>\n",
       "  </tbody>\n",
       "</table>\n",
       "</div>"
      ],
      "text/plain": [
       "            Store  CompetitionDistance  CompetitionOpenSinceMonth  \\\n",
       "count  1115.00000          1112.000000                 761.000000   \n",
       "mean    558.00000          5404.901079                   7.224704   \n",
       "std     322.01708          7663.174720                   3.212348   \n",
       "min       1.00000            20.000000                   1.000000   \n",
       "25%     279.50000                  NaN                        NaN   \n",
       "50%     558.00000                  NaN                        NaN   \n",
       "75%     836.50000                  NaN                        NaN   \n",
       "max    1115.00000         75860.000000                  12.000000   \n",
       "\n",
       "       CompetitionOpenSinceYear       Promo2  Promo2SinceWeek  Promo2SinceYear  \n",
       "count                761.000000  1115.000000       571.000000       571.000000  \n",
       "mean                2008.668857     0.512108        23.595447      2011.763573  \n",
       "std                    6.195983     0.500078        14.141984         1.674935  \n",
       "min                 1900.000000     0.000000         1.000000      2009.000000  \n",
       "25%                         NaN     0.000000              NaN              NaN  \n",
       "50%                         NaN     1.000000              NaN              NaN  \n",
       "75%                         NaN     1.000000              NaN              NaN  \n",
       "max                 2015.000000     1.000000        50.000000      2015.000000  "
      ]
     },
     "execution_count": 7,
     "metadata": {},
     "output_type": "execute_result"
    }
   ],
   "source": [
    "print('--------store.csv---------')\n",
    "store_raw_df.describe()"
   ]
  },
  {
   "cell_type": "code",
   "execution_count": 8,
   "metadata": {
    "collapsed": false,
    "scrolled": false
   },
   "outputs": [
    {
     "name": "stdout",
     "output_type": "stream",
     "text": [
      "--------train.csv---------\n"
     ]
    },
    {
     "data": {
      "text/html": [
       "<div>\n",
       "<table border=\"1\" class=\"dataframe\">\n",
       "  <thead>\n",
       "    <tr style=\"text-align: right;\">\n",
       "      <th></th>\n",
       "      <th>Store</th>\n",
       "      <th>DayOfWeek</th>\n",
       "      <th>Sales</th>\n",
       "      <th>Customers</th>\n",
       "      <th>Open</th>\n",
       "      <th>Promo</th>\n",
       "      <th>SchoolHoliday</th>\n",
       "    </tr>\n",
       "  </thead>\n",
       "  <tbody>\n",
       "    <tr>\n",
       "      <th>count</th>\n",
       "      <td>1.017209e+06</td>\n",
       "      <td>1.017209e+06</td>\n",
       "      <td>1.017209e+06</td>\n",
       "      <td>1.017209e+06</td>\n",
       "      <td>1.017209e+06</td>\n",
       "      <td>1.017209e+06</td>\n",
       "      <td>1.017209e+06</td>\n",
       "    </tr>\n",
       "    <tr>\n",
       "      <th>mean</th>\n",
       "      <td>5.584297e+02</td>\n",
       "      <td>3.998341e+00</td>\n",
       "      <td>5.773819e+03</td>\n",
       "      <td>6.331459e+02</td>\n",
       "      <td>8.301067e-01</td>\n",
       "      <td>3.815145e-01</td>\n",
       "      <td>1.786467e-01</td>\n",
       "    </tr>\n",
       "    <tr>\n",
       "      <th>std</th>\n",
       "      <td>3.219087e+02</td>\n",
       "      <td>1.997391e+00</td>\n",
       "      <td>3.849926e+03</td>\n",
       "      <td>4.644117e+02</td>\n",
       "      <td>3.755392e-01</td>\n",
       "      <td>4.857586e-01</td>\n",
       "      <td>3.830564e-01</td>\n",
       "    </tr>\n",
       "    <tr>\n",
       "      <th>min</th>\n",
       "      <td>1.000000e+00</td>\n",
       "      <td>1.000000e+00</td>\n",
       "      <td>0.000000e+00</td>\n",
       "      <td>0.000000e+00</td>\n",
       "      <td>0.000000e+00</td>\n",
       "      <td>0.000000e+00</td>\n",
       "      <td>0.000000e+00</td>\n",
       "    </tr>\n",
       "    <tr>\n",
       "      <th>25%</th>\n",
       "      <td>2.800000e+02</td>\n",
       "      <td>2.000000e+00</td>\n",
       "      <td>3.727000e+03</td>\n",
       "      <td>4.050000e+02</td>\n",
       "      <td>1.000000e+00</td>\n",
       "      <td>0.000000e+00</td>\n",
       "      <td>0.000000e+00</td>\n",
       "    </tr>\n",
       "    <tr>\n",
       "      <th>50%</th>\n",
       "      <td>5.580000e+02</td>\n",
       "      <td>4.000000e+00</td>\n",
       "      <td>5.744000e+03</td>\n",
       "      <td>6.090000e+02</td>\n",
       "      <td>1.000000e+00</td>\n",
       "      <td>0.000000e+00</td>\n",
       "      <td>0.000000e+00</td>\n",
       "    </tr>\n",
       "    <tr>\n",
       "      <th>75%</th>\n",
       "      <td>8.380000e+02</td>\n",
       "      <td>6.000000e+00</td>\n",
       "      <td>7.856000e+03</td>\n",
       "      <td>8.370000e+02</td>\n",
       "      <td>1.000000e+00</td>\n",
       "      <td>1.000000e+00</td>\n",
       "      <td>0.000000e+00</td>\n",
       "    </tr>\n",
       "    <tr>\n",
       "      <th>max</th>\n",
       "      <td>1.115000e+03</td>\n",
       "      <td>7.000000e+00</td>\n",
       "      <td>4.155100e+04</td>\n",
       "      <td>7.388000e+03</td>\n",
       "      <td>1.000000e+00</td>\n",
       "      <td>1.000000e+00</td>\n",
       "      <td>1.000000e+00</td>\n",
       "    </tr>\n",
       "  </tbody>\n",
       "</table>\n",
       "</div>"
      ],
      "text/plain": [
       "              Store     DayOfWeek         Sales     Customers          Open  \\\n",
       "count  1.017209e+06  1.017209e+06  1.017209e+06  1.017209e+06  1.017209e+06   \n",
       "mean   5.584297e+02  3.998341e+00  5.773819e+03  6.331459e+02  8.301067e-01   \n",
       "std    3.219087e+02  1.997391e+00  3.849926e+03  4.644117e+02  3.755392e-01   \n",
       "min    1.000000e+00  1.000000e+00  0.000000e+00  0.000000e+00  0.000000e+00   \n",
       "25%    2.800000e+02  2.000000e+00  3.727000e+03  4.050000e+02  1.000000e+00   \n",
       "50%    5.580000e+02  4.000000e+00  5.744000e+03  6.090000e+02  1.000000e+00   \n",
       "75%    8.380000e+02  6.000000e+00  7.856000e+03  8.370000e+02  1.000000e+00   \n",
       "max    1.115000e+03  7.000000e+00  4.155100e+04  7.388000e+03  1.000000e+00   \n",
       "\n",
       "              Promo  SchoolHoliday  \n",
       "count  1.017209e+06   1.017209e+06  \n",
       "mean   3.815145e-01   1.786467e-01  \n",
       "std    4.857586e-01   3.830564e-01  \n",
       "min    0.000000e+00   0.000000e+00  \n",
       "25%    0.000000e+00   0.000000e+00  \n",
       "50%    0.000000e+00   0.000000e+00  \n",
       "75%    1.000000e+00   0.000000e+00  \n",
       "max    1.000000e+00   1.000000e+00  "
      ]
     },
     "execution_count": 8,
     "metadata": {},
     "output_type": "execute_result"
    }
   ],
   "source": [
    "#对数据进行预览 3\n",
    "print('--------train.csv---------')\n",
    "train_raw_df.describe()"
   ]
  },
  {
   "cell_type": "code",
   "execution_count": 9,
   "metadata": {
    "collapsed": false
   },
   "outputs": [
    {
     "name": "stdout",
     "output_type": "stream",
     "text": [
      "--------test.csv---------\n"
     ]
    },
    {
     "data": {
      "text/html": [
       "<div>\n",
       "<table border=\"1\" class=\"dataframe\">\n",
       "  <thead>\n",
       "    <tr style=\"text-align: right;\">\n",
       "      <th></th>\n",
       "      <th>Id</th>\n",
       "      <th>Store</th>\n",
       "      <th>DayOfWeek</th>\n",
       "      <th>Open</th>\n",
       "      <th>Promo</th>\n",
       "      <th>SchoolHoliday</th>\n",
       "    </tr>\n",
       "  </thead>\n",
       "  <tbody>\n",
       "    <tr>\n",
       "      <th>count</th>\n",
       "      <td>41088.000000</td>\n",
       "      <td>41088.000000</td>\n",
       "      <td>41088.000000</td>\n",
       "      <td>41077.000000</td>\n",
       "      <td>41088.000000</td>\n",
       "      <td>41088.000000</td>\n",
       "    </tr>\n",
       "    <tr>\n",
       "      <th>mean</th>\n",
       "      <td>20544.500000</td>\n",
       "      <td>555.899533</td>\n",
       "      <td>3.979167</td>\n",
       "      <td>0.854322</td>\n",
       "      <td>0.395833</td>\n",
       "      <td>0.443487</td>\n",
       "    </tr>\n",
       "    <tr>\n",
       "      <th>std</th>\n",
       "      <td>11861.228267</td>\n",
       "      <td>320.274496</td>\n",
       "      <td>2.015481</td>\n",
       "      <td>0.352787</td>\n",
       "      <td>0.489035</td>\n",
       "      <td>0.496802</td>\n",
       "    </tr>\n",
       "    <tr>\n",
       "      <th>min</th>\n",
       "      <td>1.000000</td>\n",
       "      <td>1.000000</td>\n",
       "      <td>1.000000</td>\n",
       "      <td>0.000000</td>\n",
       "      <td>0.000000</td>\n",
       "      <td>0.000000</td>\n",
       "    </tr>\n",
       "    <tr>\n",
       "      <th>25%</th>\n",
       "      <td>10272.750000</td>\n",
       "      <td>279.750000</td>\n",
       "      <td>2.000000</td>\n",
       "      <td>NaN</td>\n",
       "      <td>0.000000</td>\n",
       "      <td>0.000000</td>\n",
       "    </tr>\n",
       "    <tr>\n",
       "      <th>50%</th>\n",
       "      <td>20544.500000</td>\n",
       "      <td>553.500000</td>\n",
       "      <td>4.000000</td>\n",
       "      <td>NaN</td>\n",
       "      <td>0.000000</td>\n",
       "      <td>0.000000</td>\n",
       "    </tr>\n",
       "    <tr>\n",
       "      <th>75%</th>\n",
       "      <td>30816.250000</td>\n",
       "      <td>832.250000</td>\n",
       "      <td>6.000000</td>\n",
       "      <td>NaN</td>\n",
       "      <td>1.000000</td>\n",
       "      <td>1.000000</td>\n",
       "    </tr>\n",
       "    <tr>\n",
       "      <th>max</th>\n",
       "      <td>41088.000000</td>\n",
       "      <td>1115.000000</td>\n",
       "      <td>7.000000</td>\n",
       "      <td>1.000000</td>\n",
       "      <td>1.000000</td>\n",
       "      <td>1.000000</td>\n",
       "    </tr>\n",
       "  </tbody>\n",
       "</table>\n",
       "</div>"
      ],
      "text/plain": [
       "                 Id         Store     DayOfWeek          Open         Promo  \\\n",
       "count  41088.000000  41088.000000  41088.000000  41077.000000  41088.000000   \n",
       "mean   20544.500000    555.899533      3.979167      0.854322      0.395833   \n",
       "std    11861.228267    320.274496      2.015481      0.352787      0.489035   \n",
       "min        1.000000      1.000000      1.000000      0.000000      0.000000   \n",
       "25%    10272.750000    279.750000      2.000000           NaN      0.000000   \n",
       "50%    20544.500000    553.500000      4.000000           NaN      0.000000   \n",
       "75%    30816.250000    832.250000      6.000000           NaN      1.000000   \n",
       "max    41088.000000   1115.000000      7.000000      1.000000      1.000000   \n",
       "\n",
       "       SchoolHoliday  \n",
       "count   41088.000000  \n",
       "mean        0.443487  \n",
       "std         0.496802  \n",
       "min         0.000000  \n",
       "25%         0.000000  \n",
       "50%         0.000000  \n",
       "75%         1.000000  \n",
       "max         1.000000  "
      ]
     },
     "execution_count": 9,
     "metadata": {},
     "output_type": "execute_result"
    }
   ],
   "source": [
    "#对数据进行预览 3\n",
    "print('--------test.csv---------')\n",
    "test_raw_df.describe()"
   ]
  },
  {
   "cell_type": "markdown",
   "metadata": {},
   "source": [
    "#### 1.1.2 train.csv数据探索"
   ]
  },
  {
   "cell_type": "code",
   "execution_count": 10,
   "metadata": {
    "collapsed": false
   },
   "outputs": [
    {
     "name": "stdout",
     "output_type": "stream",
     "text": [
      "max store id: 1115\n",
      "min store id: 1\n"
     ]
    }
   ],
   "source": [
    "print'max store id:',train_raw_df.Store.unique().max()\n",
    "print'min store id:',train_raw_df.Store.unique().min()"
   ]
  },
  {
   "cell_type": "code",
   "execution_count": 11,
   "metadata": {
    "collapsed": false
   },
   "outputs": [
    {
     "name": "stdout",
     "output_type": "stream",
     "text": [
      "max DayOfWeek: 7\n",
      "min DayOfWeek: 1\n"
     ]
    }
   ],
   "source": [
    "print'max DayOfWeek:',train_raw_df.DayOfWeek.unique().max()\n",
    "print'min DayOfWeek:',train_raw_df.DayOfWeek.unique().min()"
   ]
  },
  {
   "cell_type": "code",
   "execution_count": 12,
   "metadata": {
    "collapsed": false
   },
   "outputs": [
    {
     "name": "stdout",
     "output_type": "stream",
     "text": [
      "ealiest date: 2013-01-01\n",
      "latest date: 2015-07-31\n"
     ]
    }
   ],
   "source": [
    "print'ealiest date:',train_raw_df.Date.unique().min()\n",
    "print'latest date:',train_raw_df.Date.unique().max()"
   ]
  },
  {
   "cell_type": "code",
   "execution_count": 13,
   "metadata": {
    "collapsed": false
   },
   "outputs": [
    {
     "name": "stdout",
     "output_type": "stream",
     "text": [
      "Open Unique value: [1 0]\n"
     ]
    }
   ],
   "source": [
    "print 'Open Unique value:', train_raw_df.Open.unique()"
   ]
  },
  {
   "cell_type": "code",
   "execution_count": 14,
   "metadata": {
    "collapsed": false
   },
   "outputs": [
    {
     "name": "stdout",
     "output_type": "stream",
     "text": [
      "Promo Unique value: [1 0]\n"
     ]
    }
   ],
   "source": [
    "print 'Promo Unique value:', train_raw_df.Promo.unique()"
   ]
  },
  {
   "cell_type": "code",
   "execution_count": 15,
   "metadata": {
    "collapsed": false
   },
   "outputs": [
    {
     "name": "stdout",
     "output_type": "stream",
     "text": [
      "StateHoliday Unique value: ['0' 'a' 'b' 'c']\n"
     ]
    }
   ],
   "source": [
    "print 'StateHoliday Unique value:', train_raw_df.StateHoliday.unique()"
   ]
  },
  {
   "cell_type": "code",
   "execution_count": 16,
   "metadata": {
    "collapsed": false
   },
   "outputs": [
    {
     "name": "stdout",
     "output_type": "stream",
     "text": [
      "SchoolHoliday Unique value: [1 0]\n"
     ]
    }
   ],
   "source": [
    "print 'SchoolHoliday Unique value:', train_raw_df.SchoolHoliday.unique()"
   ]
  },
  {
   "cell_type": "markdown",
   "metadata": {},
   "source": [
    "#### 1.1.3 test.csv数据探索"
   ]
  },
  {
   "cell_type": "code",
   "execution_count": 17,
   "metadata": {
    "collapsed": false
   },
   "outputs": [
    {
     "name": "stdout",
     "output_type": "stream",
     "text": [
      "Unique DayOfWeek value: [1 2 3 4 5 6 7]\n"
     ]
    }
   ],
   "source": [
    "print'Unique DayOfWeek value:',np.sort(test_raw_df.DayOfWeek.unique())"
   ]
  },
  {
   "cell_type": "code",
   "execution_count": 18,
   "metadata": {
    "collapsed": false
   },
   "outputs": [
    {
     "name": "stdout",
     "output_type": "stream",
     "text": [
      "Open Unique value: [  1.  nan   0.]\n"
     ]
    }
   ],
   "source": [
    "print 'Open Unique value:', test_raw_df.Open.unique()"
   ]
  },
  {
   "cell_type": "code",
   "execution_count": 19,
   "metadata": {
    "collapsed": false
   },
   "outputs": [
    {
     "name": "stdout",
     "output_type": "stream",
     "text": [
      "Promo Unique value: [1 0]\n"
     ]
    }
   ],
   "source": [
    "print 'Promo Unique value:', test_raw_df.Promo.unique()"
   ]
  },
  {
   "cell_type": "code",
   "execution_count": 20,
   "metadata": {
    "collapsed": false
   },
   "outputs": [
    {
     "name": "stdout",
     "output_type": "stream",
     "text": [
      "SchoolHoliday Unique value: [0 1]\n"
     ]
    }
   ],
   "source": [
    "print 'SchoolHoliday Unique value:', test_raw_df.SchoolHoliday.unique()"
   ]
  },
  {
   "cell_type": "code",
   "execution_count": 22,
   "metadata": {
    "collapsed": false
   },
   "outputs": [
    {
     "name": "stdout",
     "output_type": "stream",
     "text": [
      "Date Unique value: ['2015-09-17' '2015-09-16' '2015-09-15' '2015-09-14' '2015-09-13'\n",
      " '2015-09-12' '2015-09-11' '2015-09-10' '2015-09-09' '2015-09-08'\n",
      " '2015-09-07' '2015-09-06' '2015-09-05' '2015-09-04' '2015-09-03'\n",
      " '2015-09-02' '2015-09-01' '2015-08-31' '2015-08-30' '2015-08-29'\n",
      " '2015-08-28' '2015-08-27' '2015-08-26' '2015-08-25' '2015-08-24'\n",
      " '2015-08-23' '2015-08-22' '2015-08-21' '2015-08-20' '2015-08-19'\n",
      " '2015-08-18' '2015-08-17' '2015-08-16' '2015-08-15' '2015-08-14'\n",
      " '2015-08-13' '2015-08-12' '2015-08-11' '2015-08-10' '2015-08-09'\n",
      " '2015-08-08' '2015-08-07' '2015-08-06' '2015-08-05' '2015-08-04'\n",
      " '2015-08-03' '2015-08-02' '2015-08-01']\n",
      "48\n"
     ]
    }
   ],
   "source": [
    "print 'Date Unique value:', test_raw_df.Date.unique()\n",
    "print len(test_raw_df.Date.unique())"
   ]
  },
  {
   "cell_type": "markdown",
   "metadata": {},
   "source": [
    "#### 1.1.4 store.csv数据探索"
   ]
  },
  {
   "cell_type": "code",
   "execution_count": 16,
   "metadata": {
    "collapsed": false
   },
   "outputs": [
    {
     "name": "stdout",
     "output_type": "stream",
     "text": [
      "StoreType: ['c' 'a' 'd' 'b']\n"
     ]
    }
   ],
   "source": [
    "print 'StoreType:',store_raw_df.StoreType.unique()"
   ]
  },
  {
   "cell_type": "code",
   "execution_count": 17,
   "metadata": {
    "collapsed": false
   },
   "outputs": [
    {
     "name": "stdout",
     "output_type": "stream",
     "text": [
      "Assortment: ['a' 'c' 'b']\n"
     ]
    }
   ],
   "source": [
    "print 'Assortment:',store_raw_df.Assortment.unique()"
   ]
  },
  {
   "cell_type": "code",
   "execution_count": 18,
   "metadata": {
    "collapsed": false
   },
   "outputs": [
    {
     "name": "stdout",
     "output_type": "stream",
     "text": [
      "Promo2: [0 1]\n"
     ]
    }
   ],
   "source": [
    "print 'Promo2:',store_raw_df.Promo2.unique()"
   ]
  },
  {
   "cell_type": "code",
   "execution_count": 19,
   "metadata": {
    "collapsed": false
   },
   "outputs": [
    {
     "name": "stdout",
     "output_type": "stream",
     "text": [
      "PromoInterval: [nan 'Jan,Apr,Jul,Oct' 'Feb,May,Aug,Nov' 'Mar,Jun,Sept,Dec']\n"
     ]
    }
   ],
   "source": [
    "print 'PromoInterval:',store_raw_df.PromoInterval.unique()"
   ]
  },
  {
   "cell_type": "markdown",
   "metadata": {},
   "source": [
    "### 1.2  train_raw_df，test_raw_df数据处理\n"
   ]
  },
  {
   "cell_type": "markdown",
   "metadata": {},
   "source": [
    "#### 1.2.1 train_raw_df，test_raw_df的时间数据处理\n",
    "- Year,Month,Day\n",
    "- DaysThisYear"
   ]
  },
  {
   "cell_type": "code",
   "execution_count": 52,
   "metadata": {
    "collapsed": false
   },
   "outputs": [],
   "source": [
    "#将str格式Date转换为datetime64格式Date\n",
    "train_raw_df['Date_time']=pd.to_datetime(train_raw_df['Date'])\n",
    "test_raw_df['Date_time']=pd.to_datetime(test_raw_df['Date'])\n",
    "#提取int格式的Year，Month，Day\n",
    "var_name='Date_time'\n",
    "train_raw_df['Year']=( pd.Index(train_raw_df[var_name]).year).astype(np.int64)\n",
    "train_raw_df['Month']=( pd.Index(train_raw_df[var_name]).month).astype(np.int64)\n",
    "train_raw_df['Day']=( pd.Index(train_raw_df[var_name]).day).astype(np.int64)\n",
    "train_raw_df['Year-Month']=train_raw_df['Date'].apply(lambda x:(str(x)[:7]))\n",
    "\n",
    "test_raw_df['Year']=( pd.Index(test_raw_df[var_name]).year).astype(np.int64)\n",
    "test_raw_df['Month']=( pd.Index(test_raw_df[var_name]).month).astype(np.int64)\n",
    "test_raw_df['Day']=( pd.Index(test_raw_df[var_name]).day).astype(np.int64)\n",
    "test_raw_df['Year-Month']=test_raw_df['Date'].apply(lambda x:(str(x)[:7]))\n",
    "\n",
    "\n",
    "#将Month转换为string\n",
    "month2str={\n",
    "    1:'Jan',2:'Feb',3:'Mar',4:'Apr',\n",
    "    5:'May',6:'Jun',7:'Jul',8:'Aug',\n",
    "    9:'Sept',10:'Oct',11:'Nov',12:'Dec'\n",
    "}\n",
    "train_raw_df['Month-Str']=train_raw_df['Month'].map(month2str)\n",
    "train_raw_df['DayOfYear']=train_raw_df.Date_time.dt.dayofyear\n",
    "\n",
    "\n",
    "test_raw_df['Month-Str']=test_raw_df['Month'].map(month2str)\n",
    "test_raw_df['DayOfYear']=test_raw_df.Date_time.dt.dayofyear"
   ]
  },
  {
   "cell_type": "markdown",
   "metadata": {},
   "source": [
    "#### 1.2.2 处理test_raw_df Open特征的缺失值\n",
    "- 由评估指标 RMSPE（误差百分比的均方差）的定义可知，RMSPE仅与非零Sales有关；同时考虑到所有Open=0时，Sales也为0，那么将Open的缺失值全部设置为1，将不会引入新的误差：\n",
    "    - 如果缺失值对应的实际Sales为零，那么即使预测Sales非零，也不会被计算入RMSPE；\n",
    "    - 如果缺失值对应的实际Sales非零，那么预测Sales将会被计算入RMSPE；"
   ]
  },
  {
   "cell_type": "code",
   "execution_count": 53,
   "metadata": {
    "collapsed": false
   },
   "outputs": [],
   "source": [
    "test_raw_df.Open.fillna(1,inplace=True)"
   ]
  },
  {
   "cell_type": "markdown",
   "metadata": {},
   "source": [
    "#### 1.2.3 将train_raw_df中的Sales转换为SalesLog"
   ]
  },
  {
   "cell_type": "code",
   "execution_count": 54,
   "metadata": {
    "collapsed": true
   },
   "outputs": [],
   "source": [
    "# train_raw_df['SalesLog']=np.log(train_raw_df['Sales'])\n",
    "train_raw_df['SalesLog']=np.log(train_raw_df['Sales'])"
   ]
  },
  {
   "cell_type": "markdown",
   "metadata": {},
   "source": [
    "#### 1.2.4 将train_raw_df，test_raw_df的StateHoliday转换为分类数据"
   ]
  },
  {
   "cell_type": "code",
   "execution_count": 55,
   "metadata": {
    "collapsed": true
   },
   "outputs": [],
   "source": [
    "StateHoliday_dict={\n",
    "    '0':0, 'a':1, 'b':2, 'c':3\n",
    "}\n",
    "train_raw_df['StateHoliday_cat']=train_raw_df['StateHoliday'].map(StateHoliday_dict)\n",
    "test_raw_df['StateHoliday_cat']=test_raw_df['StateHoliday'].map(StateHoliday_dict)"
   ]
  },
  {
   "cell_type": "markdown",
   "metadata": {},
   "source": [
    "#### 1.2.5 train_raw_df异常值处理\n",
    "- 在模型训练过程中，使用高质量的训练数据是非常重要的，其中一个重要方面是要剔除异常值\n",
    "- 使用MAD（median absolute deviation）方法来标记异常值"
   ]
  },
  {
   "cell_type": "code",
   "execution_count": 56,
   "metadata": {
    "collapsed": false
   },
   "outputs": [],
   "source": [
    "def mad_based_outlier(points, thresh=3.5):\n",
    "    if len(points.shape) == 1:\n",
    "        points = points[:,None]\n",
    "    median = np.median(points, axis=0)\n",
    "    diff = np.sum((points - median)**2, axis=-1)\n",
    "    diff = np.sqrt(diff)\n",
    "    med_abs_deviation = np.median(diff)\n",
    "\n",
    "    modified_z_score = 0.6745 * diff / med_abs_deviation\n",
    "\n",
    "    return modified_z_score > thresh\n",
    "\n",
    "\n",
    "for i in train_raw_df['Store'].unique():    \n",
    "    train_raw_df.loc[(train_raw_df['Store'] == i) & (train_raw_df['Open'] == 1), 'Outlier_3'] = \\\n",
    "        mad_based_outlier(train_raw_df.loc[ (train_raw_df['Store'] == i) & (train_raw_df['Open'] == 1)]['Sales'], 3)"
   ]
  },
  {
   "cell_type": "markdown",
   "metadata": {},
   "source": [
    "### 1.3 store_raw_df数据处理\n",
    "#### 1.3.1 store_raw_df的Competition数据处理\n",
    "- 目的：\n",
    "    - store_raw_df中添加特征InCompetition，CompetitionSinceDate\n",
    "    - 当CompetitionDistance为缺省值时，CompetitionOpenSinceMonth，CompetitionOpenSinceYear亦同时为缺省值，在这种情况下，假定该药店开始竞争的时间为train.csv统计时间结束时（取为2016-01-01），而竞争距离为CompetitionDistance的中位数；\n",
    "    - 当CompetitionDistance不缺省值，而CompetitionOpenSinceMonth，CompetitionOpenSinceYear为缺省值时，假定Competition开始时间太早而无法统计到，将其统一设置为CompetitionOpenSinceMonth/Year的最早值1961-01-01。\n",
    "\n",
    "- 通过验证可知，CompetitionOpenSinceYear与CompetitionOpenSinceMonth同时为NaN or 非NaN\n",
    "- 如果CompetitionDistance 或者CompetitionOpenSinceMonth/Year其中一个不为NaN，则认为该store的InCompetition为True;\n",
    "- 对于CompetitionDistance不为NaN，而CompetitionOpenSinceMonth为NaN的store，**假设**认为Competition开始时间太早而无法统计到，将其统一设置为CompetitionOpenSinceMonth/Year的最早值1961-01-01\n",
    "- 对于CompetitionDistance为NaN的store，**假设** CompetitionOpenSinceMonth /Year 设定为一个在test样本之后的日期2016-01-01,CompetitionDistance的缺失值设为中位数。"
   ]
  },
  {
   "cell_type": "code",
   "execution_count": 57,
   "metadata": {
    "collapsed": false
   },
   "outputs": [
    {
     "data": {
      "text/html": [
       "<div>\n",
       "<table border=\"1\" class=\"dataframe\">\n",
       "  <thead>\n",
       "    <tr style=\"text-align: right;\">\n",
       "      <th></th>\n",
       "      <th>Store</th>\n",
       "      <th>StoreType</th>\n",
       "      <th>Assortment</th>\n",
       "      <th>CompetitionDistance</th>\n",
       "      <th>CompetitionOpenSinceMonth</th>\n",
       "      <th>CompetitionOpenSinceYear</th>\n",
       "      <th>Promo2</th>\n",
       "      <th>Promo2SinceWeek</th>\n",
       "      <th>Promo2SinceYear</th>\n",
       "      <th>PromoInterval</th>\n",
       "    </tr>\n",
       "  </thead>\n",
       "  <tbody>\n",
       "    <tr>\n",
       "      <th>290</th>\n",
       "      <td>291</td>\n",
       "      <td>d</td>\n",
       "      <td>a</td>\n",
       "      <td>NaN</td>\n",
       "      <td>NaN</td>\n",
       "      <td>NaN</td>\n",
       "      <td>0</td>\n",
       "      <td>NaN</td>\n",
       "      <td>NaN</td>\n",
       "      <td>NaN</td>\n",
       "    </tr>\n",
       "    <tr>\n",
       "      <th>621</th>\n",
       "      <td>622</td>\n",
       "      <td>a</td>\n",
       "      <td>c</td>\n",
       "      <td>NaN</td>\n",
       "      <td>NaN</td>\n",
       "      <td>NaN</td>\n",
       "      <td>0</td>\n",
       "      <td>NaN</td>\n",
       "      <td>NaN</td>\n",
       "      <td>NaN</td>\n",
       "    </tr>\n",
       "    <tr>\n",
       "      <th>878</th>\n",
       "      <td>879</td>\n",
       "      <td>d</td>\n",
       "      <td>a</td>\n",
       "      <td>NaN</td>\n",
       "      <td>NaN</td>\n",
       "      <td>NaN</td>\n",
       "      <td>1</td>\n",
       "      <td>5.0</td>\n",
       "      <td>2013.0</td>\n",
       "      <td>Feb,May,Aug,Nov</td>\n",
       "    </tr>\n",
       "  </tbody>\n",
       "</table>\n",
       "</div>"
      ],
      "text/plain": [
       "     Store StoreType Assortment  CompetitionDistance  \\\n",
       "290    291         d          a                  NaN   \n",
       "621    622         a          c                  NaN   \n",
       "878    879         d          a                  NaN   \n",
       "\n",
       "     CompetitionOpenSinceMonth  CompetitionOpenSinceYear  Promo2  \\\n",
       "290                        NaN                       NaN       0   \n",
       "621                        NaN                       NaN       0   \n",
       "878                        NaN                       NaN       1   \n",
       "\n",
       "     Promo2SinceWeek  Promo2SinceYear    PromoInterval  \n",
       "290              NaN              NaN              NaN  \n",
       "621              NaN              NaN              NaN  \n",
       "878              5.0           2013.0  Feb,May,Aug,Nov  "
      ]
     },
     "execution_count": 57,
     "metadata": {},
     "output_type": "execute_result"
    }
   ],
   "source": [
    "store_raw_df[store_raw_df.CompetitionDistance.isnull()]"
   ]
  },
  {
   "cell_type": "code",
   "execution_count": 58,
   "metadata": {
    "collapsed": false
   },
   "outputs": [
    {
     "name": "stdout",
     "output_type": "stream",
     "text": [
      "count of CompetitionOpenSinceYear!=CompetitionOpenSinceMonth is 0\n"
     ]
    }
   ],
   "source": [
    "print(\"count of CompetitionOpenSinceYear!=CompetitionOpenSinceMonth is {}\".format(\n",
    "        np.sum(store_raw_df.CompetitionOpenSinceYear.isnull()!=store_raw_df.CompetitionOpenSinceMonth.isnull()\n",
    "              )))\n",
    "\n",
    "#如果CompetitionDistance 或者CompetitionOpenSinceMonth/Year其中一个不为NaN，则认为该store的InCompetition为True\n",
    "store_raw_df['InCompetition']=0\n",
    "store_raw_df['InCompetition']=np.logical_or(\n",
    "        store_raw_df.CompetitionDistance.notnull(),\n",
    "        store_raw_df.CompetitionOpenSinceMonth.notnull())\n",
    "\n",
    "# store_raw_df中CompetitionDistance为NaN的设为CompetitionDistance的中位数\n",
    "store_raw_df['CompetitionDistance'].fillna(\n",
    "    np.median(store_raw_df['CompetitionDistance'][store_raw_df['CompetitionDistance'].notnull()]),\n",
    "    inplace=True)\n",
    "#将CompetitionDistance不为NaN，而CompetitionOpenSinceMonth/Year为NaN设置为1961-01-01\n",
    "store_raw_df['CompetitionOpenSinceYear'].fillna(1961,inplace=True)\n",
    "store_raw_df['CompetitionOpenSinceMonth'].fillna(1,inplace=True)\n",
    "# 将CompetitionDistance为NaN的CompetitionOpenSinceMonth/Year设置为2016-01-01\n",
    "store_raw_df.loc[store_raw_df['InCompetition']==0,'CompetitionOpenSinceYear']=2016\n",
    "# 将CompetitionOpenSinceMonth/Year格式改为np.int64\n",
    "store_raw_df['CompetitionOpenSinceMonth']=store_raw_df['CompetitionOpenSinceMonth'].astype(np.int64)\n",
    "store_raw_df['CompetitionOpenSinceYear']=store_raw_df['CompetitionOpenSinceYear'].astype(np.int64)\n",
    "\n",
    "for index, row in store_raw_df.iterrows():\n",
    "    store_raw_df.loc[index,'CompetitionSinceDate']=(pd.to_datetime(str(row['CompetitionOpenSinceYear'])+'-'+str(row['CompetitionOpenSinceMonth'])+'-'+str(1)))"
   ]
  },
  {
   "cell_type": "code",
   "execution_count": 59,
   "metadata": {
    "collapsed": false
   },
   "outputs": [
    {
     "name": "stdout",
     "output_type": "stream",
     "text": [
      "CompetitionDistance，CompetitionOpenSinceMonth，CompetitionOpenSinceYear同时为缺省值时替换后的结果：\n"
     ]
    },
    {
     "data": {
      "text/html": [
       "<div>\n",
       "<table border=\"1\" class=\"dataframe\">\n",
       "  <thead>\n",
       "    <tr style=\"text-align: right;\">\n",
       "      <th></th>\n",
       "      <th>Store</th>\n",
       "      <th>StoreType</th>\n",
       "      <th>Assortment</th>\n",
       "      <th>CompetitionDistance</th>\n",
       "      <th>CompetitionOpenSinceMonth</th>\n",
       "      <th>CompetitionOpenSinceYear</th>\n",
       "      <th>Promo2</th>\n",
       "      <th>Promo2SinceWeek</th>\n",
       "      <th>Promo2SinceYear</th>\n",
       "      <th>PromoInterval</th>\n",
       "      <th>InCompetition</th>\n",
       "      <th>CompetitionSinceDate</th>\n",
       "    </tr>\n",
       "  </thead>\n",
       "  <tbody>\n",
       "    <tr>\n",
       "      <th>290</th>\n",
       "      <td>291</td>\n",
       "      <td>d</td>\n",
       "      <td>a</td>\n",
       "      <td>2325.0</td>\n",
       "      <td>1</td>\n",
       "      <td>2016</td>\n",
       "      <td>0</td>\n",
       "      <td>NaN</td>\n",
       "      <td>NaN</td>\n",
       "      <td>NaN</td>\n",
       "      <td>False</td>\n",
       "      <td>2016-01-01</td>\n",
       "    </tr>\n",
       "    <tr>\n",
       "      <th>621</th>\n",
       "      <td>622</td>\n",
       "      <td>a</td>\n",
       "      <td>c</td>\n",
       "      <td>2325.0</td>\n",
       "      <td>1</td>\n",
       "      <td>2016</td>\n",
       "      <td>0</td>\n",
       "      <td>NaN</td>\n",
       "      <td>NaN</td>\n",
       "      <td>NaN</td>\n",
       "      <td>False</td>\n",
       "      <td>2016-01-01</td>\n",
       "    </tr>\n",
       "    <tr>\n",
       "      <th>878</th>\n",
       "      <td>879</td>\n",
       "      <td>d</td>\n",
       "      <td>a</td>\n",
       "      <td>2325.0</td>\n",
       "      <td>1</td>\n",
       "      <td>2016</td>\n",
       "      <td>1</td>\n",
       "      <td>5.0</td>\n",
       "      <td>2013.0</td>\n",
       "      <td>Feb,May,Aug,Nov</td>\n",
       "      <td>False</td>\n",
       "      <td>2016-01-01</td>\n",
       "    </tr>\n",
       "  </tbody>\n",
       "</table>\n",
       "</div>"
      ],
      "text/plain": [
       "     Store StoreType Assortment  CompetitionDistance  \\\n",
       "290    291         d          a               2325.0   \n",
       "621    622         a          c               2325.0   \n",
       "878    879         d          a               2325.0   \n",
       "\n",
       "     CompetitionOpenSinceMonth  CompetitionOpenSinceYear  Promo2  \\\n",
       "290                          1                      2016       0   \n",
       "621                          1                      2016       0   \n",
       "878                          1                      2016       1   \n",
       "\n",
       "     Promo2SinceWeek  Promo2SinceYear    PromoInterval InCompetition  \\\n",
       "290              NaN              NaN              NaN         False   \n",
       "621              NaN              NaN              NaN         False   \n",
       "878              5.0           2013.0  Feb,May,Aug,Nov         False   \n",
       "\n",
       "    CompetitionSinceDate  \n",
       "290           2016-01-01  \n",
       "621           2016-01-01  \n",
       "878           2016-01-01  "
      ]
     },
     "execution_count": 59,
     "metadata": {},
     "output_type": "execute_result"
    }
   ],
   "source": [
    "print 'CompetitionDistance，CompetitionOpenSinceMonth，CompetitionOpenSinceYear同时为缺省值时替换后的结果：'\n",
    "store_raw_df[store_raw_df['InCompetition']==0]"
   ]
  },
  {
   "cell_type": "code",
   "execution_count": 60,
   "metadata": {
    "collapsed": false
   },
   "outputs": [
    {
     "name": "stdout",
     "output_type": "stream",
     "text": [
      "CompetitionDistance不缺省，而CompetitionOpenSinceMonth，CompetitionOpenSinceYear为缺省值时替换后的结果：\n"
     ]
    },
    {
     "data": {
      "text/html": [
       "<div>\n",
       "<table border=\"1\" class=\"dataframe\">\n",
       "  <thead>\n",
       "    <tr style=\"text-align: right;\">\n",
       "      <th></th>\n",
       "      <th>Store</th>\n",
       "      <th>StoreType</th>\n",
       "      <th>Assortment</th>\n",
       "      <th>CompetitionDistance</th>\n",
       "      <th>CompetitionOpenSinceMonth</th>\n",
       "      <th>CompetitionOpenSinceYear</th>\n",
       "      <th>Promo2</th>\n",
       "      <th>Promo2SinceWeek</th>\n",
       "      <th>Promo2SinceYear</th>\n",
       "      <th>PromoInterval</th>\n",
       "      <th>InCompetition</th>\n",
       "      <th>CompetitionSinceDate</th>\n",
       "    </tr>\n",
       "  </thead>\n",
       "  <tbody>\n",
       "    <tr>\n",
       "      <th>11</th>\n",
       "      <td>12</td>\n",
       "      <td>a</td>\n",
       "      <td>c</td>\n",
       "      <td>1070.0</td>\n",
       "      <td>1</td>\n",
       "      <td>1961</td>\n",
       "      <td>1</td>\n",
       "      <td>13.0</td>\n",
       "      <td>2010.0</td>\n",
       "      <td>Jan,Apr,Jul,Oct</td>\n",
       "      <td>True</td>\n",
       "      <td>1961-01-01</td>\n",
       "    </tr>\n",
       "    <tr>\n",
       "      <th>12</th>\n",
       "      <td>13</td>\n",
       "      <td>d</td>\n",
       "      <td>a</td>\n",
       "      <td>310.0</td>\n",
       "      <td>1</td>\n",
       "      <td>1961</td>\n",
       "      <td>1</td>\n",
       "      <td>45.0</td>\n",
       "      <td>2009.0</td>\n",
       "      <td>Feb,May,Aug,Nov</td>\n",
       "      <td>True</td>\n",
       "      <td>1961-01-01</td>\n",
       "    </tr>\n",
       "    <tr>\n",
       "      <th>15</th>\n",
       "      <td>16</td>\n",
       "      <td>a</td>\n",
       "      <td>c</td>\n",
       "      <td>3270.0</td>\n",
       "      <td>1</td>\n",
       "      <td>1961</td>\n",
       "      <td>0</td>\n",
       "      <td>NaN</td>\n",
       "      <td>NaN</td>\n",
       "      <td>NaN</td>\n",
       "      <td>True</td>\n",
       "      <td>1961-01-01</td>\n",
       "    </tr>\n",
       "    <tr>\n",
       "      <th>18</th>\n",
       "      <td>19</td>\n",
       "      <td>a</td>\n",
       "      <td>c</td>\n",
       "      <td>3240.0</td>\n",
       "      <td>1</td>\n",
       "      <td>1961</td>\n",
       "      <td>1</td>\n",
       "      <td>22.0</td>\n",
       "      <td>2011.0</td>\n",
       "      <td>Mar,Jun,Sept,Dec</td>\n",
       "      <td>True</td>\n",
       "      <td>1961-01-01</td>\n",
       "    </tr>\n",
       "    <tr>\n",
       "      <th>21</th>\n",
       "      <td>22</td>\n",
       "      <td>a</td>\n",
       "      <td>a</td>\n",
       "      <td>1040.0</td>\n",
       "      <td>1</td>\n",
       "      <td>1961</td>\n",
       "      <td>1</td>\n",
       "      <td>22.0</td>\n",
       "      <td>2012.0</td>\n",
       "      <td>Jan,Apr,Jul,Oct</td>\n",
       "      <td>True</td>\n",
       "      <td>1961-01-01</td>\n",
       "    </tr>\n",
       "  </tbody>\n",
       "</table>\n",
       "</div>"
      ],
      "text/plain": [
       "    Store StoreType Assortment  CompetitionDistance  \\\n",
       "11     12         a          c               1070.0   \n",
       "12     13         d          a                310.0   \n",
       "15     16         a          c               3270.0   \n",
       "18     19         a          c               3240.0   \n",
       "21     22         a          a               1040.0   \n",
       "\n",
       "    CompetitionOpenSinceMonth  CompetitionOpenSinceYear  Promo2  \\\n",
       "11                          1                      1961       1   \n",
       "12                          1                      1961       1   \n",
       "15                          1                      1961       0   \n",
       "18                          1                      1961       1   \n",
       "21                          1                      1961       1   \n",
       "\n",
       "    Promo2SinceWeek  Promo2SinceYear     PromoInterval InCompetition  \\\n",
       "11             13.0           2010.0   Jan,Apr,Jul,Oct          True   \n",
       "12             45.0           2009.0   Feb,May,Aug,Nov          True   \n",
       "15              NaN              NaN               NaN          True   \n",
       "18             22.0           2011.0  Mar,Jun,Sept,Dec          True   \n",
       "21             22.0           2012.0   Jan,Apr,Jul,Oct          True   \n",
       "\n",
       "   CompetitionSinceDate  \n",
       "11           1961-01-01  \n",
       "12           1961-01-01  \n",
       "15           1961-01-01  \n",
       "18           1961-01-01  \n",
       "21           1961-01-01  "
      ]
     },
     "execution_count": 60,
     "metadata": {},
     "output_type": "execute_result"
    }
   ],
   "source": [
    "\n",
    "\n",
    "print 'CompetitionDistance不缺省，而CompetitionOpenSinceMonth，CompetitionOpenSinceYear为缺省值时替换后的结果：'\n",
    "store_raw_df[store_raw_df['CompetitionOpenSinceYear']==1961].head()"
   ]
  },
  {
   "cell_type": "markdown",
   "metadata": {},
   "source": [
    "#### 1.3.2 store_raw_df的Promo数据处理\n",
    "- 目的：\n",
    "    - store_raw_df中添加特征Promo2SinceDate\n",
    "    - PromoInterval 将缺失值替代为''\n",
    "- 如果Promo2为0，那么Promo2SinceDate为test样本之后的日期(本项目取为2016-W1-Monday)"
   ]
  },
  {
   "cell_type": "code",
   "execution_count": 61,
   "metadata": {
    "collapsed": false
   },
   "outputs": [],
   "source": [
    "\n",
    "# 将所有为Promo2为0的Promo2SinceWeek/Year设置为2016 Week-01\n",
    "store_raw_df['Promo2SinceWeek'].fillna(1,inplace=True)\n",
    "store_raw_df['Promo2SinceYear'].fillna(2016,inplace=True)\n",
    "# 将Promo2SinceWeek/Year格式改为np.int64\n",
    "store_raw_df['Promo2SinceWeek']=store_raw_df['Promo2SinceWeek'].astype(np.int64)\n",
    "store_raw_df['Promo2SinceYear']=store_raw_df['Promo2SinceYear'].astype(np.int64)\n",
    "\n",
    "for index, row in store_raw_df.iterrows():\n",
    "    store_raw_df.loc[index,'Promo2SinceDate']=Week(row['Promo2SinceYear'], row['Promo2SinceWeek'] ).monday()\n",
    "\n",
    "store_raw_df['PromoInterval'].fillna('',inplace=True)"
   ]
  },
  {
   "cell_type": "markdown",
   "metadata": {},
   "source": [
    "#### 1.3.3 处理store_raw_df的StoreType和Assortment\n",
    "- 转换为分类特征"
   ]
  },
  {
   "cell_type": "code",
   "execution_count": 62,
   "metadata": {
    "collapsed": true
   },
   "outputs": [],
   "source": [
    "store_raw_df['StoreType_cat'] = store_raw_df['StoreType'].astype('category').cat.codes.astype(np.int64)\n",
    "store_raw_df['Assortment_cat'] = store_raw_df['Assortment'].astype('category').cat.codes.astype(np.int64)"
   ]
  },
  {
   "cell_type": "markdown",
   "metadata": {},
   "source": [
    "### 1.4 将train、est和store数据进行合并，并进行处理\n",
    "#### 1.4.1 将train/test和store数据进行合并"
   ]
  },
  {
   "cell_type": "code",
   "execution_count": 63,
   "metadata": {
    "collapsed": true
   },
   "outputs": [],
   "source": [
    "\n",
    "train_store_raw_df=train_raw_df.merge(store_raw_df,on='Store')\n",
    "test_store_raw_df=test_raw_df.merge(store_raw_df,on='Store')"
   ]
  },
  {
   "cell_type": "markdown",
   "metadata": {},
   "source": [
    "#### 1.4.2 train_store_raw_df,test_store_raw_df中的Competition数据处理\n",
    "- 目的：\n",
    "    - train_store_raw_df中添加特征InCompetitionToday,DaysCountSinceCompetition\n",
    "    - 注意：在计算好的DaysCountSinceCompetition后加1，这样如果已经开始Competition的药店最小值为1，而DaysCountSinceCompetition为0时仅表示那些还没有开始竞争的药店；"
   ]
  },
  {
   "cell_type": "code",
   "execution_count": 65,
   "metadata": {
    "collapsed": true
   },
   "outputs": [],
   "source": [
    "\n",
    "#train_store_raw_df中添加特征InCompetitionToday,DaysCountSinceCompetition\n",
    "train_store_raw_df['InCompetitionToday']=pd.to_datetime(train_store_raw_df['CompetitionSinceDate'])<(train_store_raw_df['Date_time'])\n",
    "train_store_raw_df['DaysCountSinceCompetition']=0\n",
    "\n",
    "mask=train_store_raw_df['InCompetitionToday']==True\n",
    "train_store_raw_df.loc[mask,'DaysCountSinceCompetition']=(((train_store_raw_df.loc[mask,'Date_time'])-pd.to_datetime(train_store_raw_df.loc[mask,'CompetitionSinceDate'])) / np.timedelta64(1, 'D')).astype(int)+1.0\n",
    "\n",
    "#test_store_raw_df中添加特征InCompetitionToday,DaysCountSinceCompetition\n",
    "test_store_raw_df['InCompetitionToday']=pd.to_datetime(test_store_raw_df['CompetitionSinceDate'])<(test_store_raw_df['Date_time'])\n",
    "test_store_raw_df['DaysCountSinceCompetition']=0\n",
    "\n",
    "mask=test_store_raw_df['InCompetitionToday']==True\n",
    "test_store_raw_df.loc[mask,'DaysCountSinceCompetition']=(((test_store_raw_df.loc[mask,'Date_time'])-pd.to_datetime(test_store_raw_df.loc[mask,'CompetitionSinceDate'])) / np.timedelta64(1, 'D')).astype(int)+1.0"
   ]
  },
  {
   "cell_type": "markdown",
   "metadata": {},
   "source": [
    "#### 1.4.3 train_store_raw_df中的Promo2数据处理\n",
    "- 目的：\n",
    "    - train_store_raw_df中添加特征InPromo2Today,DaysCountSincePromo2\n",
    "    - 注意：在计算好的天数后加1，这样如果已经开始Promo2的药店最小值为1，而DaysCountSincePromo2为0时仅表示那些还没有开始促销的药店；"
   ]
  },
  {
   "cell_type": "code",
   "execution_count": 66,
   "metadata": {
    "collapsed": true
   },
   "outputs": [],
   "source": [
    "\n",
    "train_store_raw_df['InPromo2Today']=0\n",
    "mask=(pd.to_datetime(train_store_raw_df['Promo2SinceDate'])<(train_store_raw_df['Date_time']))&(train_store_raw_df['PromoInterval']!='')\n",
    "for interval in train_store_raw_df[mask].PromoInterval.unique():\n",
    "    for month in interval.split(','):\n",
    "        train_store_raw_df.loc[mask & (train_store_raw_df['Month-Str']==month)&(train_store_raw_df['PromoInterval']==interval) ,\n",
    "                              'InPromo2Today']=1        \n",
    "        \n",
    "train_store_raw_df['DaysCountSincePromo2']=0\n",
    "mask=train_store_raw_df['InPromo2Today']==True\n",
    "train_store_raw_df.loc[mask,'DaysCountSincePromo2']=(((train_store_raw_df.loc[mask,'Date_time'])-pd.to_datetime(train_store_raw_df.loc[mask,'Promo2SinceDate'])) / np.timedelta64(1, 'D')).astype(int)+1.0\n",
    "\n",
    "test_store_raw_df['InPromo2Today']=0\n",
    "mask=(pd.to_datetime(test_store_raw_df['Promo2SinceDate'])<(test_store_raw_df['Date_time']))&(test_store_raw_df['PromoInterval']!='')\n",
    "for interval in test_store_raw_df[mask].PromoInterval.unique():\n",
    "    for month in interval.split(','):\n",
    "        test_store_raw_df.loc[mask & (test_store_raw_df['Month-Str']==month)&(test_store_raw_df['PromoInterval']==interval) ,\n",
    "                              'InPromo2Today']=1        \n",
    "        \n",
    "test_store_raw_df['DaysCountSincePromo2']=0\n",
    "mask=test_store_raw_df['InPromo2Today']==True\n",
    "test_store_raw_df.loc[mask,'DaysCountSincePromo2']=(((test_store_raw_df.loc[mask,'Date_time'])-pd.to_datetime(test_store_raw_df.loc[mask,'Promo2SinceDate'])) / np.timedelta64(1, 'D')).astype(int)+1.0\n"
   ]
  },
  {
   "cell_type": "markdown",
   "metadata": {},
   "source": [
    "\n",
    "### 1.5 数据范围调整\n",
    "- 将连续量离散，方便进行embedding操作\n",
    "- 调整参数\n",
    "    - CompetitionDistance -->log2\n",
    "    - DaysCountSincePromo2 --> log2\n",
    "    - DaysCountSinceCompetition ---> log2"
   ]
  },
  {
   "cell_type": "code",
   "execution_count": 67,
   "metadata": {
    "collapsed": false
   },
   "outputs": [],
   "source": [
    "\n",
    "test_store_raw_df['CompetitionDistance_log']=np.round(np.log2(test_store_raw_df['CompetitionDistance']+1.0))\n",
    "test_store_raw_df['DaysCountSinceCompetition_log']=np.round(np.log2(test_store_raw_df['DaysCountSinceCompetition']+1.0))\n",
    "test_store_raw_df['DaysCountSincePromo2_log']=np.round(np.log2(test_store_raw_df['DaysCountSincePromo2']+1.0))\n",
    "train_store_raw_df['CompetitionDistance_log']=np.round(np.log2(train_store_raw_df['CompetitionDistance']+1.0))\n",
    "train_store_raw_df['DaysCountSinceCompetition_log']=np.round(np.log2(train_store_raw_df['DaysCountSinceCompetition']+1.0))\n",
    "train_store_raw_df['DaysCountSincePromo2_log']=np.round(np.log2(train_store_raw_df['DaysCountSincePromo2']+1.0))"
   ]
  },
  {
   "cell_type": "code",
   "execution_count": 68,
   "metadata": {
    "collapsed": false
   },
   "outputs": [
    {
     "data": {
      "text/plain": [
       "array([ 10.,   9.,  14.,  15.,   8.,  13.,  11.,  12.,   6.,   5.,   7.,\n",
       "        16.,   4.])"
      ]
     },
     "execution_count": 68,
     "metadata": {},
     "output_type": "execute_result"
    }
   ],
   "source": [
    "train_store_raw_df['CompetitionDistance_log'].unique()"
   ]
  },
  {
   "cell_type": "markdown",
   "metadata": {},
   "source": [
    "### 1.6 预览数据"
   ]
  },
  {
   "cell_type": "code",
   "execution_count": 69,
   "metadata": {
    "collapsed": false
   },
   "outputs": [
    {
     "name": "stdout",
     "output_type": "stream",
     "text": [
      "--------train.csv---------\n"
     ]
    },
    {
     "data": {
      "text/html": [
       "<div>\n",
       "<table border=\"1\" class=\"dataframe\">\n",
       "  <thead>\n",
       "    <tr style=\"text-align: right;\">\n",
       "      <th></th>\n",
       "      <th>Store</th>\n",
       "      <th>DayOfWeek</th>\n",
       "      <th>Date</th>\n",
       "      <th>Sales</th>\n",
       "      <th>Customers</th>\n",
       "      <th>Open</th>\n",
       "      <th>Promo</th>\n",
       "      <th>StateHoliday</th>\n",
       "      <th>SchoolHoliday</th>\n",
       "      <th>Date_time</th>\n",
       "      <th>Year</th>\n",
       "      <th>Month</th>\n",
       "      <th>Day</th>\n",
       "      <th>Year-Month</th>\n",
       "      <th>Month-Str</th>\n",
       "      <th>DayOfYear</th>\n",
       "      <th>SalesLog</th>\n",
       "      <th>StateHoliday_cat</th>\n",
       "      <th>Outlier_3</th>\n",
       "    </tr>\n",
       "  </thead>\n",
       "  <tbody>\n",
       "    <tr>\n",
       "      <th>0</th>\n",
       "      <td>1</td>\n",
       "      <td>5</td>\n",
       "      <td>2015-07-31</td>\n",
       "      <td>5263</td>\n",
       "      <td>555</td>\n",
       "      <td>1</td>\n",
       "      <td>1</td>\n",
       "      <td>0</td>\n",
       "      <td>1</td>\n",
       "      <td>2015-07-31</td>\n",
       "      <td>2015</td>\n",
       "      <td>7</td>\n",
       "      <td>31</td>\n",
       "      <td>2015-07</td>\n",
       "      <td>Jul</td>\n",
       "      <td>212</td>\n",
       "      <td>8.568456</td>\n",
       "      <td>0</td>\n",
       "      <td>False</td>\n",
       "    </tr>\n",
       "    <tr>\n",
       "      <th>1</th>\n",
       "      <td>2</td>\n",
       "      <td>5</td>\n",
       "      <td>2015-07-31</td>\n",
       "      <td>6064</td>\n",
       "      <td>625</td>\n",
       "      <td>1</td>\n",
       "      <td>1</td>\n",
       "      <td>0</td>\n",
       "      <td>1</td>\n",
       "      <td>2015-07-31</td>\n",
       "      <td>2015</td>\n",
       "      <td>7</td>\n",
       "      <td>31</td>\n",
       "      <td>2015-07</td>\n",
       "      <td>Jul</td>\n",
       "      <td>212</td>\n",
       "      <td>8.710125</td>\n",
       "      <td>0</td>\n",
       "      <td>False</td>\n",
       "    </tr>\n",
       "  </tbody>\n",
       "</table>\n",
       "</div>"
      ],
      "text/plain": [
       "   Store  DayOfWeek        Date  Sales  Customers  Open  Promo StateHoliday  \\\n",
       "0      1          5  2015-07-31   5263        555     1      1            0   \n",
       "1      2          5  2015-07-31   6064        625     1      1            0   \n",
       "\n",
       "   SchoolHoliday  Date_time  Year  Month  Day Year-Month Month-Str  DayOfYear  \\\n",
       "0              1 2015-07-31  2015      7   31    2015-07       Jul        212   \n",
       "1              1 2015-07-31  2015      7   31    2015-07       Jul        212   \n",
       "\n",
       "   SalesLog  StateHoliday_cat Outlier_3  \n",
       "0  8.568456                 0     False  \n",
       "1  8.710125                 0     False  "
      ]
     },
     "metadata": {},
     "output_type": "display_data"
    },
    {
     "name": "stdout",
     "output_type": "stream",
     "text": [
      "--------test.csv---------\n"
     ]
    },
    {
     "data": {
      "text/html": [
       "<div>\n",
       "<table border=\"1\" class=\"dataframe\">\n",
       "  <thead>\n",
       "    <tr style=\"text-align: right;\">\n",
       "      <th></th>\n",
       "      <th>Id</th>\n",
       "      <th>Store</th>\n",
       "      <th>DayOfWeek</th>\n",
       "      <th>Date</th>\n",
       "      <th>Open</th>\n",
       "      <th>Promo</th>\n",
       "      <th>StateHoliday</th>\n",
       "      <th>SchoolHoliday</th>\n",
       "      <th>Date_time</th>\n",
       "      <th>Year</th>\n",
       "      <th>Month</th>\n",
       "      <th>Day</th>\n",
       "      <th>Year-Month</th>\n",
       "      <th>Month-Str</th>\n",
       "      <th>DayOfYear</th>\n",
       "      <th>StateHoliday_cat</th>\n",
       "    </tr>\n",
       "  </thead>\n",
       "  <tbody>\n",
       "    <tr>\n",
       "      <th>0</th>\n",
       "      <td>1</td>\n",
       "      <td>1</td>\n",
       "      <td>4</td>\n",
       "      <td>2015-09-17</td>\n",
       "      <td>1.0</td>\n",
       "      <td>1</td>\n",
       "      <td>0</td>\n",
       "      <td>0</td>\n",
       "      <td>2015-09-17</td>\n",
       "      <td>2015</td>\n",
       "      <td>9</td>\n",
       "      <td>17</td>\n",
       "      <td>2015-09</td>\n",
       "      <td>Sept</td>\n",
       "      <td>260</td>\n",
       "      <td>0</td>\n",
       "    </tr>\n",
       "    <tr>\n",
       "      <th>1</th>\n",
       "      <td>2</td>\n",
       "      <td>3</td>\n",
       "      <td>4</td>\n",
       "      <td>2015-09-17</td>\n",
       "      <td>1.0</td>\n",
       "      <td>1</td>\n",
       "      <td>0</td>\n",
       "      <td>0</td>\n",
       "      <td>2015-09-17</td>\n",
       "      <td>2015</td>\n",
       "      <td>9</td>\n",
       "      <td>17</td>\n",
       "      <td>2015-09</td>\n",
       "      <td>Sept</td>\n",
       "      <td>260</td>\n",
       "      <td>0</td>\n",
       "    </tr>\n",
       "  </tbody>\n",
       "</table>\n",
       "</div>"
      ],
      "text/plain": [
       "   Id  Store  DayOfWeek        Date  Open  Promo StateHoliday  SchoolHoliday  \\\n",
       "0   1      1          4  2015-09-17   1.0      1            0              0   \n",
       "1   2      3          4  2015-09-17   1.0      1            0              0   \n",
       "\n",
       "   Date_time  Year  Month  Day Year-Month Month-Str  DayOfYear  \\\n",
       "0 2015-09-17  2015      9   17    2015-09      Sept        260   \n",
       "1 2015-09-17  2015      9   17    2015-09      Sept        260   \n",
       "\n",
       "   StateHoliday_cat  \n",
       "0                 0  \n",
       "1                 0  "
      ]
     },
     "metadata": {},
     "output_type": "display_data"
    },
    {
     "name": "stdout",
     "output_type": "stream",
     "text": [
      "--------store.csv---------\n"
     ]
    },
    {
     "data": {
      "text/html": [
       "<div>\n",
       "<table border=\"1\" class=\"dataframe\">\n",
       "  <thead>\n",
       "    <tr style=\"text-align: right;\">\n",
       "      <th></th>\n",
       "      <th>Store</th>\n",
       "      <th>StoreType</th>\n",
       "      <th>Assortment</th>\n",
       "      <th>CompetitionDistance</th>\n",
       "      <th>CompetitionOpenSinceMonth</th>\n",
       "      <th>CompetitionOpenSinceYear</th>\n",
       "      <th>Promo2</th>\n",
       "      <th>Promo2SinceWeek</th>\n",
       "      <th>Promo2SinceYear</th>\n",
       "      <th>PromoInterval</th>\n",
       "      <th>InCompetition</th>\n",
       "      <th>CompetitionSinceDate</th>\n",
       "      <th>Promo2SinceDate</th>\n",
       "      <th>StoreType_cat</th>\n",
       "      <th>Assortment_cat</th>\n",
       "    </tr>\n",
       "  </thead>\n",
       "  <tbody>\n",
       "    <tr>\n",
       "      <th>0</th>\n",
       "      <td>1</td>\n",
       "      <td>c</td>\n",
       "      <td>a</td>\n",
       "      <td>1270.0</td>\n",
       "      <td>9</td>\n",
       "      <td>2008</td>\n",
       "      <td>0</td>\n",
       "      <td>1</td>\n",
       "      <td>2016</td>\n",
       "      <td></td>\n",
       "      <td>True</td>\n",
       "      <td>2008-09-01</td>\n",
       "      <td>2016-01-04</td>\n",
       "      <td>2</td>\n",
       "      <td>0</td>\n",
       "    </tr>\n",
       "    <tr>\n",
       "      <th>1</th>\n",
       "      <td>2</td>\n",
       "      <td>a</td>\n",
       "      <td>a</td>\n",
       "      <td>570.0</td>\n",
       "      <td>11</td>\n",
       "      <td>2007</td>\n",
       "      <td>1</td>\n",
       "      <td>13</td>\n",
       "      <td>2010</td>\n",
       "      <td>Jan,Apr,Jul,Oct</td>\n",
       "      <td>True</td>\n",
       "      <td>2007-11-01</td>\n",
       "      <td>2010-03-29</td>\n",
       "      <td>0</td>\n",
       "      <td>0</td>\n",
       "    </tr>\n",
       "  </tbody>\n",
       "</table>\n",
       "</div>"
      ],
      "text/plain": [
       "   Store StoreType Assortment  CompetitionDistance  CompetitionOpenSinceMonth  \\\n",
       "0      1         c          a               1270.0                          9   \n",
       "1      2         a          a                570.0                         11   \n",
       "\n",
       "   CompetitionOpenSinceYear  Promo2  Promo2SinceWeek  Promo2SinceYear  \\\n",
       "0                      2008       0                1             2016   \n",
       "1                      2007       1               13             2010   \n",
       "\n",
       "     PromoInterval InCompetition CompetitionSinceDate Promo2SinceDate  \\\n",
       "0                           True           2008-09-01      2016-01-04   \n",
       "1  Jan,Apr,Jul,Oct          True           2007-11-01      2010-03-29   \n",
       "\n",
       "   StoreType_cat  Assortment_cat  \n",
       "0              2               0  \n",
       "1              0               0  "
      ]
     },
     "metadata": {},
     "output_type": "display_data"
    },
    {
     "name": "stdout",
     "output_type": "stream",
     "text": [
      "--------train_store_raw_df---------\n"
     ]
    },
    {
     "data": {
      "text/html": [
       "<div>\n",
       "<table border=\"1\" class=\"dataframe\">\n",
       "  <thead>\n",
       "    <tr style=\"text-align: right;\">\n",
       "      <th></th>\n",
       "      <th>Store</th>\n",
       "      <th>DayOfWeek</th>\n",
       "      <th>Date</th>\n",
       "      <th>Sales</th>\n",
       "      <th>Customers</th>\n",
       "      <th>Open</th>\n",
       "      <th>Promo</th>\n",
       "      <th>StateHoliday</th>\n",
       "      <th>SchoolHoliday</th>\n",
       "      <th>Date_time</th>\n",
       "      <th>...</th>\n",
       "      <th>Promo2SinceDate</th>\n",
       "      <th>StoreType_cat</th>\n",
       "      <th>Assortment_cat</th>\n",
       "      <th>InCompetitionToday</th>\n",
       "      <th>DaysCountSinceCompetition</th>\n",
       "      <th>InPromo2Today</th>\n",
       "      <th>DaysCountSincePromo2</th>\n",
       "      <th>CompetitionDistance_log</th>\n",
       "      <th>DaysCountSinceCompetition_log</th>\n",
       "      <th>DaysCountSincePromo2_log</th>\n",
       "    </tr>\n",
       "  </thead>\n",
       "  <tbody>\n",
       "    <tr>\n",
       "      <th>0</th>\n",
       "      <td>1</td>\n",
       "      <td>5</td>\n",
       "      <td>2015-07-31</td>\n",
       "      <td>5263</td>\n",
       "      <td>555</td>\n",
       "      <td>1</td>\n",
       "      <td>1</td>\n",
       "      <td>0</td>\n",
       "      <td>1</td>\n",
       "      <td>2015-07-31</td>\n",
       "      <td>...</td>\n",
       "      <td>2016-01-04</td>\n",
       "      <td>2</td>\n",
       "      <td>0</td>\n",
       "      <td>True</td>\n",
       "      <td>2525.0</td>\n",
       "      <td>0</td>\n",
       "      <td>0.0</td>\n",
       "      <td>10.0</td>\n",
       "      <td>11.0</td>\n",
       "      <td>0.0</td>\n",
       "    </tr>\n",
       "    <tr>\n",
       "      <th>1</th>\n",
       "      <td>1</td>\n",
       "      <td>4</td>\n",
       "      <td>2015-07-30</td>\n",
       "      <td>5020</td>\n",
       "      <td>546</td>\n",
       "      <td>1</td>\n",
       "      <td>1</td>\n",
       "      <td>0</td>\n",
       "      <td>1</td>\n",
       "      <td>2015-07-30</td>\n",
       "      <td>...</td>\n",
       "      <td>2016-01-04</td>\n",
       "      <td>2</td>\n",
       "      <td>0</td>\n",
       "      <td>True</td>\n",
       "      <td>2524.0</td>\n",
       "      <td>0</td>\n",
       "      <td>0.0</td>\n",
       "      <td>10.0</td>\n",
       "      <td>11.0</td>\n",
       "      <td>0.0</td>\n",
       "    </tr>\n",
       "  </tbody>\n",
       "</table>\n",
       "<p>2 rows × 40 columns</p>\n",
       "</div>"
      ],
      "text/plain": [
       "   Store  DayOfWeek        Date  Sales  Customers  Open  Promo StateHoliday  \\\n",
       "0      1          5  2015-07-31   5263        555     1      1            0   \n",
       "1      1          4  2015-07-30   5020        546     1      1            0   \n",
       "\n",
       "   SchoolHoliday  Date_time           ...             Promo2SinceDate  \\\n",
       "0              1 2015-07-31           ...                  2016-01-04   \n",
       "1              1 2015-07-30           ...                  2016-01-04   \n",
       "\n",
       "   StoreType_cat  Assortment_cat InCompetitionToday DaysCountSinceCompetition  \\\n",
       "0              2               0               True                    2525.0   \n",
       "1              2               0               True                    2524.0   \n",
       "\n",
       "   InPromo2Today  DaysCountSincePromo2  CompetitionDistance_log  \\\n",
       "0              0                   0.0                     10.0   \n",
       "1              0                   0.0                     10.0   \n",
       "\n",
       "  DaysCountSinceCompetition_log DaysCountSincePromo2_log  \n",
       "0                          11.0                      0.0  \n",
       "1                          11.0                      0.0  \n",
       "\n",
       "[2 rows x 40 columns]"
      ]
     },
     "metadata": {},
     "output_type": "display_data"
    },
    {
     "name": "stdout",
     "output_type": "stream",
     "text": [
      "--------test_store_raw_df---------\n"
     ]
    },
    {
     "data": {
      "text/html": [
       "<div>\n",
       "<table border=\"1\" class=\"dataframe\">\n",
       "  <thead>\n",
       "    <tr style=\"text-align: right;\">\n",
       "      <th></th>\n",
       "      <th>Id</th>\n",
       "      <th>Store</th>\n",
       "      <th>DayOfWeek</th>\n",
       "      <th>Date</th>\n",
       "      <th>Open</th>\n",
       "      <th>Promo</th>\n",
       "      <th>StateHoliday</th>\n",
       "      <th>SchoolHoliday</th>\n",
       "      <th>Date_time</th>\n",
       "      <th>Year</th>\n",
       "      <th>...</th>\n",
       "      <th>Promo2SinceDate</th>\n",
       "      <th>StoreType_cat</th>\n",
       "      <th>Assortment_cat</th>\n",
       "      <th>InCompetitionToday</th>\n",
       "      <th>DaysCountSinceCompetition</th>\n",
       "      <th>InPromo2Today</th>\n",
       "      <th>DaysCountSincePromo2</th>\n",
       "      <th>CompetitionDistance_log</th>\n",
       "      <th>DaysCountSinceCompetition_log</th>\n",
       "      <th>DaysCountSincePromo2_log</th>\n",
       "    </tr>\n",
       "  </thead>\n",
       "  <tbody>\n",
       "    <tr>\n",
       "      <th>0</th>\n",
       "      <td>1</td>\n",
       "      <td>1</td>\n",
       "      <td>4</td>\n",
       "      <td>2015-09-17</td>\n",
       "      <td>1.0</td>\n",
       "      <td>1</td>\n",
       "      <td>0</td>\n",
       "      <td>0</td>\n",
       "      <td>2015-09-17</td>\n",
       "      <td>2015</td>\n",
       "      <td>...</td>\n",
       "      <td>2016-01-04</td>\n",
       "      <td>2</td>\n",
       "      <td>0</td>\n",
       "      <td>True</td>\n",
       "      <td>2573.0</td>\n",
       "      <td>0</td>\n",
       "      <td>0.0</td>\n",
       "      <td>10.0</td>\n",
       "      <td>11.0</td>\n",
       "      <td>0.0</td>\n",
       "    </tr>\n",
       "    <tr>\n",
       "      <th>1</th>\n",
       "      <td>857</td>\n",
       "      <td>1</td>\n",
       "      <td>3</td>\n",
       "      <td>2015-09-16</td>\n",
       "      <td>1.0</td>\n",
       "      <td>1</td>\n",
       "      <td>0</td>\n",
       "      <td>0</td>\n",
       "      <td>2015-09-16</td>\n",
       "      <td>2015</td>\n",
       "      <td>...</td>\n",
       "      <td>2016-01-04</td>\n",
       "      <td>2</td>\n",
       "      <td>0</td>\n",
       "      <td>True</td>\n",
       "      <td>2572.0</td>\n",
       "      <td>0</td>\n",
       "      <td>0.0</td>\n",
       "      <td>10.0</td>\n",
       "      <td>11.0</td>\n",
       "      <td>0.0</td>\n",
       "    </tr>\n",
       "  </tbody>\n",
       "</table>\n",
       "<p>2 rows × 37 columns</p>\n",
       "</div>"
      ],
      "text/plain": [
       "    Id  Store  DayOfWeek        Date  Open  Promo StateHoliday  SchoolHoliday  \\\n",
       "0    1      1          4  2015-09-17   1.0      1            0              0   \n",
       "1  857      1          3  2015-09-16   1.0      1            0              0   \n",
       "\n",
       "   Date_time  Year            ...             Promo2SinceDate  StoreType_cat  \\\n",
       "0 2015-09-17  2015            ...                  2016-01-04              2   \n",
       "1 2015-09-16  2015            ...                  2016-01-04              2   \n",
       "\n",
       "  Assortment_cat InCompetitionToday  DaysCountSinceCompetition  InPromo2Today  \\\n",
       "0              0               True                     2573.0              0   \n",
       "1              0               True                     2572.0              0   \n",
       "\n",
       "  DaysCountSincePromo2 CompetitionDistance_log  DaysCountSinceCompetition_log  \\\n",
       "0                  0.0                    10.0                           11.0   \n",
       "1                  0.0                    10.0                           11.0   \n",
       "\n",
       "   DaysCountSincePromo2_log  \n",
       "0                       0.0  \n",
       "1                       0.0  \n",
       "\n",
       "[2 rows x 37 columns]"
      ]
     },
     "metadata": {},
     "output_type": "display_data"
    }
   ],
   "source": [
    "### 对数据进行预览 1\n",
    "print('--------train.csv---------')\n",
    "display(train_raw_df.head(n=2))\n",
    "print('--------test.csv---------')\n",
    "display(test_raw_df.head(n=2))\n",
    "print('--------store.csv---------')\n",
    "display(store_raw_df.head(n=2))\n",
    "print('--------train_store_raw_df---------')\n",
    "display(train_store_raw_df.head(n=2))\n",
    "print('--------test_store_raw_df---------')\n",
    "display(test_store_raw_df.head(n=2))"
   ]
  },
  {
   "cell_type": "code",
   "execution_count": 70,
   "metadata": {
    "collapsed": false,
    "scrolled": false
   },
   "outputs": [
    {
     "name": "stdout",
     "output_type": "stream",
     "text": [
      "--------train.csv---------\n",
      "<class 'pandas.core.frame.DataFrame'>\n",
      "RangeIndex: 1017209 entries, 0 to 1017208\n",
      "Data columns (total 19 columns):\n",
      "Store               1017209 non-null int64\n",
      "DayOfWeek           1017209 non-null int64\n",
      "Date                1017209 non-null object\n",
      "Sales               1017209 non-null int64\n",
      "Customers           1017209 non-null int64\n",
      "Open                1017209 non-null int64\n",
      "Promo               1017209 non-null int64\n",
      "StateHoliday        1017209 non-null object\n",
      "SchoolHoliday       1017209 non-null int64\n",
      "Date_time           1017209 non-null datetime64[ns]\n",
      "Year                1017209 non-null int64\n",
      "Month               1017209 non-null int64\n",
      "Day                 1017209 non-null int64\n",
      "Year-Month          1017209 non-null object\n",
      "Month-Str           1017209 non-null object\n",
      "DayOfYear           1017209 non-null int64\n",
      "SalesLog            1017209 non-null float64\n",
      "StateHoliday_cat    1017209 non-null int64\n",
      "Outlier_3           844392 non-null object\n",
      "dtypes: datetime64[ns](1), float64(1), int64(12), object(5)\n",
      "memory usage: 147.5+ MB\n",
      "--------test.csv---------\n",
      "<class 'pandas.core.frame.DataFrame'>\n",
      "RangeIndex: 41088 entries, 0 to 41087\n",
      "Data columns (total 16 columns):\n",
      "Id                  41088 non-null int64\n",
      "Store               41088 non-null int64\n",
      "DayOfWeek           41088 non-null int64\n",
      "Date                41088 non-null object\n",
      "Open                41088 non-null float64\n",
      "Promo               41088 non-null int64\n",
      "StateHoliday        41088 non-null object\n",
      "SchoolHoliday       41088 non-null int64\n",
      "Date_time           41088 non-null datetime64[ns]\n",
      "Year                41088 non-null int64\n",
      "Month               41088 non-null int64\n",
      "Day                 41088 non-null int64\n",
      "Year-Month          41088 non-null object\n",
      "Month-Str           41088 non-null object\n",
      "DayOfYear           41088 non-null int64\n",
      "StateHoliday_cat    41088 non-null int64\n",
      "dtypes: datetime64[ns](1), float64(1), int64(10), object(4)\n",
      "memory usage: 5.0+ MB\n",
      "--------store.csv---------\n",
      "<class 'pandas.core.frame.DataFrame'>\n",
      "RangeIndex: 1115 entries, 0 to 1114\n",
      "Data columns (total 15 columns):\n",
      "Store                        1115 non-null int64\n",
      "StoreType                    1115 non-null object\n",
      "Assortment                   1115 non-null object\n",
      "CompetitionDistance          1115 non-null float64\n",
      "CompetitionOpenSinceMonth    1115 non-null int64\n",
      "CompetitionOpenSinceYear     1115 non-null int64\n",
      "Promo2                       1115 non-null int64\n",
      "Promo2SinceWeek              1115 non-null int64\n",
      "Promo2SinceYear              1115 non-null int64\n",
      "PromoInterval                1115 non-null object\n",
      "InCompetition                1115 non-null bool\n",
      "CompetitionSinceDate         1115 non-null datetime64[ns]\n",
      "Promo2SinceDate              1115 non-null object\n",
      "StoreType_cat                1115 non-null int64\n",
      "Assortment_cat               1115 non-null int64\n",
      "dtypes: bool(1), datetime64[ns](1), float64(1), int64(8), object(4)\n",
      "memory usage: 123.1+ KB\n",
      "--------train_store_raw_df---------\n",
      "<class 'pandas.core.frame.DataFrame'>\n",
      "Int64Index: 1017209 entries, 0 to 1017208\n",
      "Data columns (total 40 columns):\n",
      "Store                            1017209 non-null int64\n",
      "DayOfWeek                        1017209 non-null int64\n",
      "Date                             1017209 non-null object\n",
      "Sales                            1017209 non-null int64\n",
      "Customers                        1017209 non-null int64\n",
      "Open                             1017209 non-null int64\n",
      "Promo                            1017209 non-null int64\n",
      "StateHoliday                     1017209 non-null object\n",
      "SchoolHoliday                    1017209 non-null int64\n",
      "Date_time                        1017209 non-null datetime64[ns]\n",
      "Year                             1017209 non-null int64\n",
      "Month                            1017209 non-null int64\n",
      "Day                              1017209 non-null int64\n",
      "Year-Month                       1017209 non-null object\n",
      "Month-Str                        1017209 non-null object\n",
      "DayOfYear                        1017209 non-null int64\n",
      "SalesLog                         1017209 non-null float64\n",
      "StateHoliday_cat                 1017209 non-null int64\n",
      "Outlier_3                        844392 non-null object\n",
      "StoreType                        1017209 non-null object\n",
      "Assortment                       1017209 non-null object\n",
      "CompetitionDistance              1017209 non-null float64\n",
      "CompetitionOpenSinceMonth        1017209 non-null int64\n",
      "CompetitionOpenSinceYear         1017209 non-null int64\n",
      "Promo2                           1017209 non-null int64\n",
      "Promo2SinceWeek                  1017209 non-null int64\n",
      "Promo2SinceYear                  1017209 non-null int64\n",
      "PromoInterval                    1017209 non-null object\n",
      "InCompetition                    1017209 non-null bool\n",
      "CompetitionSinceDate             1017209 non-null datetime64[ns]\n",
      "Promo2SinceDate                  1017209 non-null object\n",
      "StoreType_cat                    1017209 non-null int64\n",
      "Assortment_cat                   1017209 non-null int64\n",
      "InCompetitionToday               1017209 non-null bool\n",
      "DaysCountSinceCompetition        1017209 non-null float64\n",
      "InPromo2Today                    1017209 non-null int64\n",
      "DaysCountSincePromo2             1017209 non-null float64\n",
      "CompetitionDistance_log          1017209 non-null float64\n",
      "DaysCountSinceCompetition_log    1017209 non-null float64\n",
      "DaysCountSincePromo2_log         1017209 non-null float64\n",
      "dtypes: bool(2), datetime64[ns](2), float64(7), int64(20), object(9)\n",
      "memory usage: 304.6+ MB\n",
      "--------test_store_raw_df---------\n",
      "<class 'pandas.core.frame.DataFrame'>\n",
      "Int64Index: 41088 entries, 0 to 41087\n",
      "Data columns (total 37 columns):\n",
      "Id                               41088 non-null int64\n",
      "Store                            41088 non-null int64\n",
      "DayOfWeek                        41088 non-null int64\n",
      "Date                             41088 non-null object\n",
      "Open                             41088 non-null float64\n",
      "Promo                            41088 non-null int64\n",
      "StateHoliday                     41088 non-null object\n",
      "SchoolHoliday                    41088 non-null int64\n",
      "Date_time                        41088 non-null datetime64[ns]\n",
      "Year                             41088 non-null int64\n",
      "Month                            41088 non-null int64\n",
      "Day                              41088 non-null int64\n",
      "Year-Month                       41088 non-null object\n",
      "Month-Str                        41088 non-null object\n",
      "DayOfYear                        41088 non-null int64\n",
      "StateHoliday_cat                 41088 non-null int64\n",
      "StoreType                        41088 non-null object\n",
      "Assortment                       41088 non-null object\n",
      "CompetitionDistance              41088 non-null float64\n",
      "CompetitionOpenSinceMonth        41088 non-null int64\n",
      "CompetitionOpenSinceYear         41088 non-null int64\n",
      "Promo2                           41088 non-null int64\n",
      "Promo2SinceWeek                  41088 non-null int64\n",
      "Promo2SinceYear                  41088 non-null int64\n",
      "PromoInterval                    41088 non-null object\n",
      "InCompetition                    41088 non-null bool\n",
      "CompetitionSinceDate             41088 non-null datetime64[ns]\n",
      "Promo2SinceDate                  41088 non-null object\n",
      "StoreType_cat                    41088 non-null int64\n",
      "Assortment_cat                   41088 non-null int64\n",
      "InCompetitionToday               41088 non-null bool\n",
      "DaysCountSinceCompetition        41088 non-null float64\n",
      "InPromo2Today                    41088 non-null int64\n",
      "DaysCountSincePromo2             41088 non-null float64\n",
      "CompetitionDistance_log          41088 non-null float64\n",
      "DaysCountSinceCompetition_log    41088 non-null float64\n",
      "DaysCountSincePromo2_log         41088 non-null float64\n",
      "dtypes: bool(2), datetime64[ns](2), float64(7), int64(18), object(8)\n",
      "memory usage: 11.4+ MB\n"
     ]
    }
   ],
   "source": [
    "#对数据进行预览 2\n",
    "print('--------train.csv---------')\n",
    "train_raw_df.info()\n",
    "print('--------test.csv---------')\n",
    "test_raw_df.info()\n",
    "print('--------store.csv---------')\n",
    "store_raw_df.info()\n",
    "print('--------train_store_raw_df---------')\n",
    "train_store_raw_df.info()\n",
    "print('--------test_store_raw_df---------')\n",
    "test_store_raw_df.info()"
   ]
  },
  {
   "cell_type": "markdown",
   "metadata": {},
   "source": [
    "### 1.6 将处理好的数据保存本地硬盘\n",
    "- feature_x_list & feature_y_list\n",
    "- train_store_raw_df & test_store_raw_df"
   ]
  },
  {
   "cell_type": "code",
   "execution_count": 71,
   "metadata": {
    "collapsed": true
   },
   "outputs": [],
   "source": [
    "#feature\n",
    "feature_x_list=['Store','DayOfWeek',#'Open',\n",
    "                'Year','Month','Day','DayOfYear',\n",
    "                \n",
    "                'StoreType_cat','Assortment_cat','StateHoliday_cat','SchoolHoliday',\n",
    "                \n",
    "                'Promo','Promo2','InPromo2Today','DaysCountSinceCompetition_log',\n",
    "\n",
    "#                 'Outlier_3','Outlier_2','Outlier_2_5',\n",
    "                'InCompetition',\n",
    "                'InCompetitionToday','CompetitionDistance_log','DaysCountSincePromo2_log'                \n",
    "               ]\n",
    "feature_y_list=['Sales']\n",
    "#write file\n",
    "file_train_store_raw_df='train_store_raw_df.pickle'\n",
    "file_test_store_raw_df='test_store_raw_df.pickle'\n",
    "file_feature='feature_x_list.pickle'\n",
    "path='data_inter_transfer'\n",
    "\n",
    "train_store_raw_df.to_pickle(os.path.join(path, file_train_store_raw_df))\n",
    "test_store_raw_df.to_pickle(os.path.join(path, file_test_store_raw_df))\n",
    "\n",
    "(pd.Series(feature_x_list)).to_pickle(os.path.join(path, file_feature))\n",
    "\n",
    "file_train_raw_df='train_raw_df.pickle'\n",
    "train_raw_df.to_pickle(os.path.join(path, file_train_raw_df))\n",
    "\n",
    "file_store_raw_df='store_raw_df.pickle'\n",
    "store_raw_df.to_pickle(os.path.join(path, file_store_raw_df))\n"
   ]
  }
 ],
 "metadata": {
  "anaconda-cloud": {},
  "kernelspec": {
   "display_name": "Python [Root]",
   "language": "python",
   "name": "Python [Root]"
  },
  "language_info": {
   "codemirror_mode": {
    "name": "ipython",
    "version": 2
   },
   "file_extension": ".py",
   "mimetype": "text/x-python",
   "name": "python",
   "nbconvert_exporter": "python",
   "pygments_lexer": "ipython2",
   "version": "2.7.12"
  }
 },
 "nbformat": 4,
 "nbformat_minor": 0
}
