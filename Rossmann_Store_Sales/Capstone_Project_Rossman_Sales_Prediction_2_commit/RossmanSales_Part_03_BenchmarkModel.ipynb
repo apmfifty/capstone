{
 "cells": [
  {
   "cell_type": "markdown",
   "metadata": {},
   "source": [
    "## 参考文献汇总\n",
    "- Reference 1: Kaggle Kernel [Code sharing, 13th place, no external data](https://www.kaggle.com/c/rossmann-store-sales/discussion/17979)\n",
    "- Reference 2: Kaggle Kernel-[A Journey through Rossmann Stores](https://www.kaggle.com/omarelgabry/rossmann-store-sales/a-journey-through-rossmann-stores)\n",
    "- Reference 3: Kaggle Kernel-[Predict_sales_with_pandas](https://www.kaggle.com/zygmunt/rossmann-store-sales/predict-sales-with-pandas-py)\n",
    "- Reference 4:[XGBoost:Notes on Parameter Tuning](http://xgboost.readthedocs.io/en/latest/how_to/param_tuning.html)\n",
    "- Reference 5:[XGBoost Parameters](http://xgboost.readthedocs.io/en/latest/parameter.html)\n",
    "- Reference 6:[Complete Guide to Parameter Tuning in XGBoost (with codes in Python)](https://www.analyticsvidhya.com/blog/2016/03/complete-guide-parameter-tuning-xgboost-with-codes-python/)\n",
    "- Reference 7:[XGBoost Feature Importance](https://www.kaggle.com/cast42/rossmann-store-sales/xgboost-in-python-with-rmspe-v2)\n",
    "\n",
    "\n",
    "## 程序使用说明\n",
    "1. 运行程序前，从[Kaggle](https://www.kaggle.com/c/rossmann-store-sales/data)官网下载数据store.csv.zip、train.csv.zip和test.csv.zip，将解压后的store.csv、train.csv、test.csv放在与本文档同目录下的data文件夹中\n",
    "2. \"RossmanSales_Part_01_DataPreprocessing.ipynb\"会生成后续数据可视化、模型训练所需要的数据\n",
    "4. \"RossmanSales_Part_02_VisualExploration.ipynb\"为数据可视化，需使用Part 1生成的数据\n",
    "5. “RossmanSales_Part_03_BenchmarkModel.ipynb”生成基准模型，需使用Part 1生成的数据\n",
    "6. “RossmanSales_Part_04_XGBoost_HyperPara_Optimization.ipynb”使用XGBoost方法训练模型，并进行超参数优化；需使用Part 1生成的数据；\n",
    "7. 文件夹说明：\n",
    "    - data： 保存store.csv、train.csv、test.csv\n",
    "    - data_inter_transfer：保存\"RossmanSales_Part_01_DataPreprocessing.ipynb\"生成的数据\n",
    "    - output_csv：保存用来提交到Kaggle的结果文件\n",
    "    - model_saved：保存生成的模型"
   ]
  },
  {
   "cell_type": "markdown",
   "metadata": {},
   "source": [
    "## 准备工作\n",
    "### 0.1 调入库函数"
   ]
  },
  {
   "cell_type": "code",
   "execution_count": 2,
   "metadata": {
    "collapsed": false
   },
   "outputs": [],
   "source": [
    "\n",
    "#基本计算类\n",
    "import pandas as pd\n",
    "import numpy as np\n",
    "from pandas import Series,DataFrame\n",
    "\n",
    "#可视化\n",
    "import matplotlib.pyplot as plt\n",
    "import seaborn as sns\n",
    "from IPython.display import display \n",
    "\n",
    "#xgboost库函数\n",
    "import xgboost as xgb\n",
    "\n",
    "\n",
    "#时间类\n",
    "import time\n",
    "import datetime\n",
    "from isoweek import Week\n",
    "\n",
    "#文件类\n",
    "import os\n",
    "\n",
    "#其他\n",
    "import itertools\n",
    "import operator\n",
    "\n",
    "#基本设定\n",
    "\n",
    "%matplotlib inline\n",
    "sns.set_style('whitegrid')"
   ]
  },
  {
   "cell_type": "markdown",
   "metadata": {},
   "source": [
    "### 0.2 定义评估指标\n",
    "本项目采用Kaggle比赛的评估指标：RMSPE（误差百分比的均方差），可表示为\n",
    "$$\n",
    "RMSPE= \\sqrt{\\frac{1}{n}\\sum_{i=1}^{n}(\\frac{y_i-\\hat{y_i}}{y_i})^2}\n",
    "$$\n",
    "其中，任何当天销售额为0的数据在评估时将被忽略； $y_i$ 表示某药店在某天的实际销售额，而$\\hat{y_i}$ 表示该药店在对应这一天的预测销售额。"
   ]
  },
  {
   "cell_type": "markdown",
   "metadata": {},
   "source": [
    "### 0.3 Setting seed"
   ]
  },
  {
   "cell_type": "code",
   "execution_count": 3,
   "metadata": {
    "collapsed": true
   },
   "outputs": [],
   "source": [
    "seed_1=42"
   ]
  },
  {
   "cell_type": "markdown",
   "metadata": {},
   "source": [
    "## 3. 训练基准模型"
   ]
  },
  {
   "cell_type": "markdown",
   "metadata": {},
   "source": [
    "###  3.0 将处理好的数据从本地硬盘读入"
   ]
  },
  {
   "cell_type": "code",
   "execution_count": 4,
   "metadata": {
    "collapsed": false
   },
   "outputs": [],
   "source": [
    "path='data_inter_transfer'\n",
    "file_train_store_raw_df='train_store_raw_df.pickle'\n",
    "file_test_store_raw_df='test_store_raw_df.pickle'\n",
    "\n",
    "train_store_raw_df=pd.read_pickle(os.path.join(path, file_train_store_raw_df))\n",
    "test_store_raw_df=pd.read_pickle(os.path.join(path, file_test_store_raw_df))"
   ]
  },
  {
   "cell_type": "markdown",
   "metadata": {},
   "source": [
    "### 3.1 从train_store_raw_df数据集中划分出：训练集和验证集，使用训练集训练模型，使用验证集验证模型的泛化效果\n",
    "- 用2015-06-22之前的数据作为训练集\n",
    "- 将2015-06-22之后的数据作为验证集"
   ]
  },
  {
   "cell_type": "code",
   "execution_count": 5,
   "metadata": {
    "collapsed": true
   },
   "outputs": [],
   "source": [
    "startValidDate='2015-06-15'\n",
    "mask_train=train_store_raw_df['Date']<startValidDate\n",
    "mask_valid=(train_store_raw_df['Date']>=startValidDate) \n",
    "\n",
    "\n",
    "benchmark_train_df=train_store_raw_df[mask_train].copy()\n",
    "benchmark_valid_df=train_store_raw_df[mask_valid].copy()"
   ]
  },
  {
   "cell_type": "markdown",
   "metadata": {},
   "source": [
    "### 3.2 挑选出最优的特征组合训练基准模型\n",
    "\n",
    "#### 3.2.1  训练基准模型\n",
    "- 基准模型采用具有相同特征参数数据子集的中位数；\n",
    "- 采用的特征包含药店编号、星期几，月份、是否促销等；\n",
    "- 将特征组合与对应RMSPE存到dict features_RMSPE\n",
    "\n",
    "#### 3.2.2 对验证集进行测试\n",
    "- 利用选好的特征，训练出基准模型\n",
    "- 将model结果以dict形式进行保存，以便于高效计算\n",
    "- 使用训练好的基准模型对验证集进行测试：applymap方法可以非常高效地求出映射结果\n",
    "\n",
    "#### 3.2.3 定义评估函数\n",
    "本项目采用Kaggle比赛的评估指标：RMSPE（误差百分比的均方差），可表示为\n",
    "$$\n",
    "RMSPE= \\sqrt{\\frac{1}{n}\\sum_{i=1}^{n}(\\frac{y_i-\\hat{y_i}}{y_i})^2}\n",
    "$$\n",
    "其中，任何当天销售额为0的数据在评估时将被忽略； $y_i$ 表示某药店在某天的实际销售额，而$\\hat{y_i}$ 表示该药店在对应这一天的预测销售额。\n",
    "\n",
    "#### 3.2.4 求出基准模型在验证集上的RMSPE"
   ]
  },
  {
   "cell_type": "code",
   "execution_count": 6,
   "metadata": {
    "collapsed": false
   },
   "outputs": [],
   "source": [
    "#使用训练好的基准模型对验证集进行测试：applymap方法可以非常高效地求出映射结果\n",
    "def predict_benchmark_model(df,features,map_dict):\n",
    "    mask_0=df['Open']==0\n",
    "    mask_1=df['Open']!=0\n",
    "    df.loc[mask_0,'Sales_Predicted']=0\n",
    "    df['tuple_map']=df[features].apply(tuple,axis=1)\n",
    "    df.loc[mask_1,'Sales_Predicted']=df.loc[mask_1,'tuple_map'].map(map_dict)\n",
    "    return df\n",
    "\n",
    "#定义评估函数\n",
    "def calc_RMSPE(input_df,true_label='Sales',predicted_label='Sales_Predicted'):\n",
    "    mask=input_df[true_label]>0\n",
    "    sale=input_df.loc[mask,[true_label,predicted_label]]\n",
    "    sale['errror']=np.power((sale[true_label]-sale[predicted_label])/sale[true_label],2.0)\n",
    "    return np.sqrt(np.sum(sale['errror'])/(len(sale)))\n",
    "\n",
    "#采用的特征包含药店编号、星期几，月份、是否促销、当天是否促销2等；\n",
    "features_benchmark=(['Store','DayOfWeek','Promo','Month','InPromo2Today'])\n",
    "#将特征组合与对应RMSPE存到dict features_RMSPE\n",
    "features_RMSPE={}\n",
    "#将特征组合与对应dict存到benchmark_model_dict，不用再次计算\n",
    "benchmark_model_dict={}\n",
    "\n",
    "#提取出所有可能的特征组合放入subset\n",
    "for L in range(2, len(features_benchmark)+1):\n",
    "    for subset in itertools.combinations(features_benchmark, L):\n",
    "        valid_df=benchmark_valid_df.copy()\n",
    "        \n",
    "        features=list(subset)\n",
    "        features_sales=features+['Sales']\n",
    "        \n",
    "        #利用选好的特征，训练出基准模型\n",
    "        benchmark_model=benchmark_train_df[benchmark_train_df['Open']==1][features_sales].groupby(features).median()\n",
    "        #将model结果以dict形式进行保存，以便于高效计算\n",
    "        benchmark_model_dict[subset]=benchmark_model['Sales'].to_dict()\n",
    "        \n",
    "        valid_df= predict_benchmark_model(valid_df,features,benchmark_model_dict[subset])   \n",
    "        RMSPE_valid_benchmark=calc_RMSPE(valid_df)\n",
    "        features_RMSPE[subset]=RMSPE_valid_benchmark"
   ]
  },
  {
   "cell_type": "markdown",
   "metadata": {},
   "source": [
    "#### 3.2.5 打印在验证集上features_RMSPE中数值较小的三个"
   ]
  },
  {
   "cell_type": "code",
   "execution_count": 7,
   "metadata": {
    "collapsed": false
   },
   "outputs": [
    {
     "name": "stdout",
     "output_type": "stream",
     "text": [
      "-----------RMSPE较小的三个特征组合与在对应验证集的RMSPE-------------\n",
      "('Store', 'DayOfWeek', 'Promo', 'InPromo2Today') :0.14091\n",
      "('Store', 'DayOfWeek', 'Promo') :0.14123\n",
      "('Store', 'DayOfWeek', 'Promo', 'Month', 'InPromo2Today') :0.14657\n",
      "--------------------------------------------------------------------\n",
      "Featuress for benchmark model: ['Store', 'DayOfWeek', 'Promo', 'InPromo2Today']\n"
     ]
    }
   ],
   "source": [
    "#打印features_RMSPE中数值较小的三个\n",
    "sorted_RMSPE = sorted(features_RMSPE.items(), key=operator.itemgetter(1))\n",
    "print(\"-----------RMSPE较小的三个特征组合与在对应验证集的RMSPE-------------\")\n",
    "for ii in range(3):\n",
    "    print sorted_RMSPE[ii][0],':%.5f'%(sorted_RMSPE[ii][1])\n",
    "print ('--------------------------------------------------------------------')\n",
    "benchmark_features=list(sorted_RMSPE[0][0])\n",
    "print 'Featuress for benchmark model:',benchmark_features"
   ]
  },
  {
   "cell_type": "markdown",
   "metadata": {},
   "source": [
    "### 3.3 挑出使得验证集结果最好的特征组合作为基准模型的特征，并求出在验证集和测试集的结果"
   ]
  },
  {
   "cell_type": "code",
   "execution_count": 8,
   "metadata": {
    "collapsed": false
   },
   "outputs": [
    {
     "name": "stdout",
     "output_type": "stream",
     "text": [
      "基准模型在训练集上的RMSPE:0.225588\n",
      "基准模型在验证集上的RMSPE:0.140907\n"
     ]
    }
   ],
   "source": [
    "benchmark_train_df= predict_benchmark_model(benchmark_train_df,benchmark_features,benchmark_model_dict[tuple(benchmark_features)])   \n",
    "RMSPE_train_benchmark=calc_RMSPE(benchmark_train_df)\n",
    "print('基准模型在训练集上的RMSPE:{:.6f}'.format(RMSPE_train_benchmark))\n",
    "\n",
    "benchmark_valid_df= predict_benchmark_model(benchmark_valid_df,benchmark_features,benchmark_model_dict[tuple(benchmark_features)])   \n",
    "RMSPE_valid_benchmark=calc_RMSPE(benchmark_valid_df)\n",
    "print('基准模型在验证集上的RMSPE:{:.6f}'.format(RMSPE_valid_benchmark))\n"
   ]
  },
  {
   "cell_type": "markdown",
   "metadata": {},
   "source": [
    "### 3.4 使用基准模型对测试集进行预测，并输出结果"
   ]
  },
  {
   "cell_type": "code",
   "execution_count": 8,
   "metadata": {
    "collapsed": true
   },
   "outputs": [],
   "source": [
    "test_store_raw_df= predict_benchmark_model(test_store_raw_df,benchmark_features,benchmark_model_dict[tuple(benchmark_features)])   \n",
    "path='output_csv'\n",
    "file_name='benchmark_using_'+'_'.join(benchmark_features)+'.csv'\n",
    "\n",
    "pd.DataFrame({'Id':test_store_raw_df['Id'],'Sales':test_store_raw_df['Sales_Predicted']}).to_csv(os.path.join(path,file_name),index=False)"
   ]
  },
  {
   "cell_type": "markdown",
   "metadata": {},
   "source": [
    "提交到Kaggle官网，可以得到 Public Score=0.14210，Private Score=0.14976"
   ]
  },
  {
   "cell_type": "markdown",
   "metadata": {},
   "source": [
    "### 3.5 使用基准模型对验证集进行预测，并分析结果"
   ]
  },
  {
   "cell_type": "code",
   "execution_count": 13,
   "metadata": {
    "collapsed": false
   },
   "outputs": [
    {
     "name": "stdout",
     "output_type": "stream",
     "text": [
      "mean=756.3\n",
      "median=534.0\n",
      "max=32626.0\n",
      "min=0.0\n",
      "sum=34669773.0\n",
      "sum_percent=10.58%\n",
      "median_percent=8.14%\n"
     ]
    },
    {
     "data": {
      "image/png": "[encoded data removed]",
      "text/plain": [
       "<matplotlib.figure.Figure at 0x11af8cd10>"
      ]
     },
     "metadata": {},
     "output_type": "display_data"
    }
   ],
   "source": [
    "mask=benchmark_valid_df['Open']==1\n",
    "y_diff=np.abs((benchmark_valid_df['Sales']-benchmark_valid_df['Sales_Predicted'])[mask])\n",
    "print 'mean={:.1f}'.format(y_diff.mean())\n",
    "print 'median={:.1f}'.format(y_diff.median())\n",
    "print 'max={:.1f}'.format(y_diff.max())\n",
    "print 'min={:.1f}'.format(y_diff.min())\n",
    "print 'sum={:.1f}'.format(y_diff.sum())\n",
    "print 'sum_percent={:.2f}%'.format(100.0*y_diff.sum()/abs(np.sum(benchmark_valid_df[mask]['Sales'])))\n",
    "print 'median_percent={:.2f}%'.format(100.0*y_diff.median()/abs(np.median(benchmark_valid_df[mask]['Sales'])))\n",
    "\n",
    "\n",
    "fig,(axis1)=plt.subplots(1,1,figsize=(7,5))\n",
    "#Sales\n",
    "_ =y_diff.plot(kind='hist',bins=100,xlim=(0,10000),ax=axis1,title='Distribution of abs(Prediction Sales -Actual Sales)')"
   ]
  },
  {
   "cell_type": "code",
   "execution_count": null,
   "metadata": {
    "collapsed": true
   },
   "outputs": [],
   "source": []
  }
 ],
 "metadata": {
  "anaconda-cloud": {},
  "kernelspec": {
   "display_name": "Python [Root]",
   "language": "python",
   "name": "Python [Root]"
  },
  "language_info": {
   "codemirror_mode": {
    "name": "ipython",
    "version": 2
   },
   "file_extension": ".py",
   "mimetype": "text/x-python",
   "name": "python",
   "nbconvert_exporter": "python",
   "pygments_lexer": "ipython2",
   "version": "2.7.12"
  }
 },
 "nbformat": 4,
 "nbformat_minor": 0
}
