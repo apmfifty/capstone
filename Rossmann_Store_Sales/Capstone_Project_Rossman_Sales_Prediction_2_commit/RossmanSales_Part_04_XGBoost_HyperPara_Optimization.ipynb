{
 "cells": [
  {
   "cell_type": "markdown",
   "metadata": {},
   "source": [
    "## 参考文献汇总\n",
    "- Reference 1: Kaggle Kernel [Code sharing, 13th place, no external data](https://www.kaggle.com/c/rossmann-store-sales/discussion/17979)\n",
    "- Reference 2: Kaggle Kernel-[A Journey through Rossmann Stores](https://www.kaggle.com/omarelgabry/rossmann-store-sales/a-journey-through-rossmann-stores)\n",
    "- Reference 3: Kaggle Kernel-[Predict_sales_with_pandas](https://www.kaggle.com/zygmunt/rossmann-store-sales/predict-sales-with-pandas-py)\n",
    "- Reference 4:[XGBoost:Notes on Parameter Tuning](http://xgboost.readthedocs.io/en/latest/how_to/param_tuning.html)\n",
    "- Reference 5:[XGBoost Parameters](http://xgboost.readthedocs.io/en/latest/parameter.html)\n",
    "- Reference 6:[Complete Guide to Parameter Tuning in XGBoost (with codes in Python)](https://www.analyticsvidhya.com/blog/2016/03/complete-guide-parameter-tuning-xgboost-with-codes-python/)\n",
    "- Reference 7:[XGBoost Feature Importance](https://www.kaggle.com/cast42/rossmann-store-sales/xgboost-in-python-with-rmspe-v2)\n",
    "\n",
    "\n",
    "## 程序使用说明\n",
    "1. 运行程序前，从[Kaggle](https://www.kaggle.com/c/rossmann-store-sales/data)官网下载数据store.csv.zip、train.csv.zip和test.csv.zip，将解压后的store.csv、train.csv、test.csv放在与本文档同目录下的data文件夹中\n",
    "2. \"RossmanSales_Part_01_DataPreprocessing.ipynb\"会生成后续数据可视化、模型训练所需要的数据\n",
    "4. \"RossmanSales_Part_02_VisualExploration.ipynb\"为数据可视化，需使用Part 1生成的数据\n",
    "5. “RossmanSales_Part_03_BenchmarkModel.ipynb”生成基准模型，需使用Part 1生成的数据\n",
    "6. “RossmanSales_Part_04_XGBoost_HyperPara_Optimization.ipynb”使用XGBoost方法训练模型，并进行超参数优化；需使用Part 1生成的数据；\n",
    "7. 文件夹说明：\n",
    "    - data： 保存store.csv、train.csv、test.csv\n",
    "    - data_inter_transfer：保存\"RossmanSales_Part_01_DataPreprocessing.ipynb\"生成的数据\n",
    "    - output_csv：保存用来提交到Kaggle的结果文件\n",
    "    - model_saved：保存生成的模型"
   ]
  },
  {
   "cell_type": "markdown",
   "metadata": {},
   "source": [
    "## 准备工作\n",
    "### 0.1 调入库函数"
   ]
  },
  {
   "cell_type": "code",
   "execution_count": 1,
   "metadata": {
    "collapsed": false
   },
   "outputs": [],
   "source": [
    "\n",
    "#基本计算类\n",
    "import pandas as pd\n",
    "import numpy as np\n",
    "from pandas import Series,DataFrame\n",
    "\n",
    "#可视化\n",
    "import matplotlib.pyplot as plt\n",
    "import seaborn as sns\n",
    "from IPython.display import display \n",
    "\n",
    "#xgboost库函数\n",
    "import xgboost as xgb\n",
    "\n",
    "\n",
    "#时间类\n",
    "import time\n",
    "import datetime\n",
    "from isoweek import Week\n",
    "\n",
    "#文件类\n",
    "import os\n",
    "import pickle\n",
    "\n",
    "#其他\n",
    "import itertools\n",
    "import operator\n",
    "\n",
    "\n",
    "\n",
    "#基本设定\n",
    "\n",
    "%matplotlib inline\n",
    "sns.set_style('whitegrid')"
   ]
  },
  {
   "cell_type": "markdown",
   "metadata": {},
   "source": [
    "### 0.2 定义评估指标\n",
    "本项目采用Kaggle比赛的评估指标：RMSPE（误差百分比的均方差），可表示为\n",
    "$$\n",
    "RMSPE= \\sqrt{\\frac{1}{n}\\sum_{i=1}^{n}(\\frac{y_i-\\hat{y_i}}{y_i})^2}\n",
    "$$\n",
    "其中，任何当天销售额为0的数据在评估时将被忽略； $y_i$ 表示某药店在某天的实际销售额，而$\\hat{y_i}$ 表示该药店在对应这一天的预测销售额。"
   ]
  },
  {
   "cell_type": "markdown",
   "metadata": {},
   "source": [
    "### 0.3 Setting seed"
   ]
  },
  {
   "cell_type": "code",
   "execution_count": 2,
   "metadata": {
    "collapsed": true
   },
   "outputs": [],
   "source": [
    "seed_1=42"
   ]
  },
  {
   "cell_type": "markdown",
   "metadata": {},
   "source": [
    "## 4. 构建XGBoost初始模型，并预测结果\n"
   ]
  },
  {
   "cell_type": "markdown",
   "metadata": {},
   "source": [
    "###  4.0数据读入及预处理\n",
    "#### 4.0.1 将处理好的数据从本地硬盘读入"
   ]
  },
  {
   "cell_type": "code",
   "execution_count": 3,
   "metadata": {
    "collapsed": false
   },
   "outputs": [],
   "source": [
    "file_train_store_raw_df='train_store_raw_df.pickle'\n",
    "file_test_store_raw_df='test_store_raw_df.pickle'\n",
    "\n",
    "file_feature='feature_x_list.pickle'\n",
    "file_train_raw_df='train_raw_df.pickle'\n",
    "file_store_raw_df='store_raw_df.pickle'\n",
    "path='data_inter_transfer'\n",
    "\n",
    "train_raw_df=pd.read_pickle(os.path.join(path, file_train_raw_df))\n",
    "\n",
    "store_raw_df=pd.read_pickle(os.path.join(path, file_store_raw_df))\n",
    "\n",
    "train_store_raw_df=pd.read_pickle(os.path.join(path, file_train_store_raw_df))\n",
    "\n",
    "test_store_raw_df=pd.read_pickle(os.path.join(path, file_test_store_raw_df))\n",
    "\n",
    "\n",
    "feature_x_list=pd.read_pickle(os.path.join(path, file_feature)).tolist()\n",
    "# feature_x_list=['Store','DayOfWeek',\n",
    "#                 'Year','Month','Day','DayOfYear',\n",
    "                \n",
    "#                 'StoreType_cat','Assortment_cat','StateHoliday_cat','SchoolHoliday',\n",
    "                \n",
    "#                 'Promo','Promo2','InPromo2Today','DaysCountSinceCompetition_log',\n",
    "\n",
    "\n",
    "#                 'InCompetition',\n",
    "#                 'InCompetitionToday','CompetitionDistance_log','DaysCountSincePromo2_log'                \n",
    "#                ]"
   ]
  },
  {
   "cell_type": "markdown",
   "metadata": {},
   "source": [
    "#### 4.0.2 每个特征所对应的unique数值\n",
    "- dict_feature_range：每个feature所对应的范围\n",
    "- dict_feature_offset：每个feature最小值移到0所对应的offset"
   ]
  },
  {
   "cell_type": "code",
   "execution_count": 4,
   "metadata": {
    "collapsed": false
   },
   "outputs": [
    {
     "name": "stdout",
     "output_type": "stream",
     "text": [
      "Store                          : unique= 1115  ,max= 1115  ,min= 1     ,range= 1115  ,offset= 1    \n",
      "DayOfWeek                      : unique= 7     ,max= 7     ,min= 1     ,range= 7     ,offset= 1    \n",
      "Year                           : unique= 3     ,max= 2015  ,min= 2013  ,range= 3     ,offset= 2013 \n",
      "Month                          : unique= 12    ,max= 12    ,min= 1     ,range= 12    ,offset= 1    \n",
      "Day                            : unique= 31    ,max= 31    ,min= 1     ,range= 31    ,offset= 1    \n",
      "DayOfYear                      : unique= 365   ,max= 365   ,min= 1     ,range= 365   ,offset= 1    \n",
      "StoreType_cat                  : unique= 4     ,max= 3     ,min= 0     ,range= 4     ,offset= 0    \n",
      "Assortment_cat                 : unique= 3     ,max= 2     ,min= 0     ,range= 3     ,offset= 0    \n",
      "StateHoliday_cat               : unique= 4     ,max= 3     ,min= 0     ,range= 4     ,offset= 0    \n",
      "SchoolHoliday                  : unique= 2     ,max= 1     ,min= 0     ,range= 2     ,offset= 0    \n",
      "Promo                          : unique= 2     ,max= 1     ,min= 0     ,range= 2     ,offset= 0    \n",
      "Promo2                         : unique= 2     ,max= 1     ,min= 0     ,range= 2     ,offset= 0    \n",
      "InPromo2Today                  : unique= 2     ,max= 1     ,min= 0     ,range= 2     ,offset= 0    \n",
      "DaysCountSinceCompetition_log  : unique= 15    ,max= 15.0  ,min= 0.0   ,range= 16    ,offset= 0    \n",
      "InCompetition                  : unique= 2     ,max= 1     ,min= 0     ,range= 2     ,offset= 0    \n",
      "InCompetitionToday             : unique= 2     ,max= 1     ,min= 0     ,range= 2     ,offset= 0    \n",
      "CompetitionDistance_log        : unique= 13    ,max= 16.0  ,min= 4.0   ,range= 13    ,offset= 4    \n",
      "DaysCountSincePromo2_log       : unique= 11    ,max= 11.0  ,min= 0.0   ,range= 12    ,offset= 0    \n"
     ]
    }
   ],
   "source": [
    "dict_feature_range={}\n",
    "dict_feature_offset={}\n",
    "\n",
    "for ii in feature_x_list:\n",
    "    unique_list=train_store_raw_df[ii].unique()\n",
    "    max_v=max(unique_list)\n",
    "    min_v=min(unique_list)\n",
    "    dict_feature_range[ii]=(int)(max_v-min_v+1)\n",
    "    dict_feature_offset[ii]=(int)(min_v)\n",
    "    print '{0: <30}'.format(ii),':','unique=','{0: <5}'.format(len(unique_list)),\\\n",
    "    ',max=','{0: <5}'.format((max_v)),',min=','{0: <5}'.format((min_v)), \\\n",
    "    ',range=','{0: <5}'.format((dict_feature_range[ii])),',offset=','{0: <5}'.format((dict_feature_offset[ii]))\n"
   ]
  },
  {
   "cell_type": "markdown",
   "metadata": {},
   "source": [
    "#### 4.0.3 将数据对应feature_x_list每列添加offset，将数据的最小值设为0"
   ]
  },
  {
   "cell_type": "code",
   "execution_count": 5,
   "metadata": {
    "collapsed": false
   },
   "outputs": [
    {
     "name": "stdout",
     "output_type": "stream",
     "text": [
      "Store                          : unique= 1115  ,max= 1114  ,min= 0     ,range= 1115  ,offset= 0    \n",
      "DayOfWeek                      : unique= 7     ,max= 6     ,min= 0     ,range= 7     ,offset= 0    \n",
      "Year                           : unique= 3     ,max= 2     ,min= 0     ,range= 3     ,offset= 0    \n",
      "Month                          : unique= 12    ,max= 11    ,min= 0     ,range= 12    ,offset= 0    \n",
      "Day                            : unique= 31    ,max= 30    ,min= 0     ,range= 31    ,offset= 0    \n",
      "DayOfYear                      : unique= 365   ,max= 364   ,min= 0     ,range= 365   ,offset= 0    \n",
      "StoreType_cat                  : unique= 4     ,max= 3     ,min= 0     ,range= 4     ,offset= 0    \n",
      "Assortment_cat                 : unique= 3     ,max= 2     ,min= 0     ,range= 3     ,offset= 0    \n",
      "StateHoliday_cat               : unique= 4     ,max= 3     ,min= 0     ,range= 4     ,offset= 0    \n",
      "SchoolHoliday                  : unique= 2     ,max= 1     ,min= 0     ,range= 2     ,offset= 0    \n",
      "Promo                          : unique= 2     ,max= 1     ,min= 0     ,range= 2     ,offset= 0    \n",
      "Promo2                         : unique= 2     ,max= 1     ,min= 0     ,range= 2     ,offset= 0    \n",
      "InPromo2Today                  : unique= 2     ,max= 1     ,min= 0     ,range= 2     ,offset= 0    \n",
      "DaysCountSinceCompetition_log  : unique= 15    ,max= 15.0  ,min= 0.0   ,range= 16    ,offset= 0    \n",
      "InCompetition                  : unique= 2     ,max= 1     ,min= 0     ,range= 2     ,offset= 0    \n",
      "InCompetitionToday             : unique= 2     ,max= 1     ,min= 0     ,range= 2     ,offset= 0    \n",
      "CompetitionDistance_log        : unique= 13    ,max= 12.0  ,min= 0.0   ,range= 13    ,offset= 0    \n",
      "DaysCountSincePromo2_log       : unique= 11    ,max= 11.0  ,min= 0.0   ,range= 12    ,offset= 0    \n"
     ]
    }
   ],
   "source": [
    "modified_train_store_raw_df=train_store_raw_df.copy()\n",
    "modified_test_store_raw_df=test_store_raw_df.copy()\n",
    "\n",
    "for col in feature_x_list:\n",
    "    modified_train_store_raw_df[col]=modified_train_store_raw_df[col]-dict_feature_offset[col]\n",
    "    modified_test_store_raw_df[col]=modified_test_store_raw_df[col]-dict_feature_offset[col]\n",
    "    \n",
    "for ii in feature_x_list:\n",
    "    unique_list=modified_train_store_raw_df[ii].unique()\n",
    "    max_v=max(unique_list)\n",
    "    min_v=min(unique_list)\n",
    "    print '{0: <30}'.format(ii),':','unique=','{0: <5}'.format(len(unique_list)),\\\n",
    "    ',max=','{0: <5}'.format((max_v)),',min=','{0: <5}'.format((min_v)), \\\n",
    "    ',range=','{0: <5}'.format((int)(max_v-min_v+1)),',offset=','{0: <5}'.format((int)(min_v))    "
   ]
  },
  {
   "cell_type": "markdown",
   "metadata": {},
   "source": [
    "#### 4.0.4 构造train_df数据，valid_df数据,test_df数据"
   ]
  },
  {
   "cell_type": "code",
   "execution_count": 6,
   "metadata": {
    "collapsed": false
   },
   "outputs": [],
   "source": [
    "startValidDate='2015-06-15'\n",
    "\n",
    "mask_train=(modified_train_store_raw_df['Date']<startValidDate) &(modified_train_store_raw_df['Outlier_3']==False) \\\n",
    "            & (modified_train_store_raw_df['Open']==1) & (modified_train_store_raw_df['Sales']>0)\n",
    "mask_valid=(modified_train_store_raw_df['Date']>=startValidDate)\\\n",
    "            & (modified_train_store_raw_df['Open']==1)\\\n",
    "            & (modified_train_store_raw_df['Sales']>0)\n",
    "\n",
    "\n",
    "    \n",
    "    \n",
    "df_train=modified_train_store_raw_df.loc[mask_train,feature_x_list]\n",
    "df_valid=modified_train_store_raw_df.loc[mask_valid,feature_x_list]\n",
    "\n",
    "\n",
    "\n"
   ]
  },
  {
   "cell_type": "markdown",
   "metadata": {},
   "source": [
    "#### 4.0.5 构造XGBoost模型所需要的train, valid数据"
   ]
  },
  {
   "cell_type": "code",
   "execution_count": 7,
   "metadata": {
    "collapsed": false
   },
   "outputs": [],
   "source": [
    "X_train,X_valid=df_train,df_valid\n",
    "\n",
    "y_train=modified_train_store_raw_df.loc[mask_train,'SalesLog']\n",
    "y_valid=modified_train_store_raw_df.loc[mask_valid,'SalesLog']\n",
    "\n",
    "\n",
    "\n"
   ]
  },
  {
   "cell_type": "markdown",
   "metadata": {},
   "source": [
    "#### 4.0.6 验证valid数据中每个feature是否有不包含在train数据中的unique数值"
   ]
  },
  {
   "cell_type": "code",
   "execution_count": 8,
   "metadata": {
    "collapsed": false
   },
   "outputs": [
    {
     "name": "stdout",
     "output_type": "stream",
     "text": [
      "Store                          = 1\n",
      "DayOfWeek                      = 1\n",
      "Year                           = 1\n",
      "Month                          = 1\n",
      "Day                            = 1\n",
      "DayOfYear                      = 1\n",
      "StoreType_cat                  = 1\n",
      "Assortment_cat                 = 1\n",
      "StateHoliday_cat               = 1\n",
      "SchoolHoliday                  = 1\n",
      "Promo                          = 1\n",
      "Promo2                         = 1\n",
      "InPromo2Today                  = 1\n",
      "DaysCountSinceCompetition_log  = 1\n",
      "InCompetition                  = 1\n",
      "InCompetitionToday             = 1\n",
      "CompetitionDistance_log        = 1\n",
      "DaysCountSincePromo2_log       = 1\n"
     ]
    }
   ],
   "source": [
    "mask_test=(modified_test_store_raw_df['Open']==1)\n",
    "\n",
    "for ii in feature_x_list:\n",
    "    set_unique_train=set(df_train[ii].unique())\n",
    "    set_unique_valid=set(df_valid[ii].unique())\n",
    "    set_unique_test=set((modified_test_store_raw_df[mask_test][ii]).unique())\n",
    "\n",
    "    \n",
    "    if set_unique_train.issuperset(set_unique_valid) &(set_unique_train.issuperset(set_unique_test) ):\n",
    "        print '{0: <30}'.format(ii),'= 1'\n",
    "    else:\n",
    "        print '{0: <30}'.format(ii),'= 0'"
   ]
  },
  {
   "cell_type": "markdown",
   "metadata": {},
   "source": [
    "### 4.1 设置XGBoost的初始学习率eta和其他待优化参数的初始值，训练模型并保存，在验证集上预测结果\n",
    "- 结果保存在 dict_para_valid_model\n",
    "- dict_para_valid_model的key包含7个数值的list，其中按顺序每个数值的含义如下\n",
    "    - 'eta' 也就是learning rate学习率\n",
    "    - 'max_depth'\n",
    "    - 'min_child_weight'\n",
    "    - 'subsample'\n",
    "    - 'colsample_bytree'\n",
    "    - 'seed'\n",
    "    - ‘early_stopping_round'\n",
    "- dict_para_valid_model中每个key对应的value应包含3个dict，相应的key应如下所示：\n",
    "    - model_name 将模型保存好的名字\n",
    "    - valid_result\n",
    "    - train_time"
   ]
  },
  {
   "cell_type": "code",
   "execution_count": 9,
   "metadata": {
    "collapsed": false,
    "scrolled": true
   },
   "outputs": [
    {
     "name": "stdout",
     "output_type": "stream",
     "text": [
      "----------starting to train model using paras-------\n"
     ]
    },
    {
     "data": {
      "text/plain": [
       "{'colsample_bytree': 0.95,\n",
       " 'eta': 0.3,\n",
       " 'max_depth': 8,\n",
       " 'min_child_weight': 1,\n",
       " 'objective': 'reg:linear',\n",
       " 'seed': 42,\n",
       " 'silent': 1,\n",
       " 'subsample': 0.95}"
      ]
     },
     "metadata": {},
     "output_type": "display_data"
    },
    {
     "name": "stdout",
     "output_type": "stream",
     "text": [
      "early_stopping_round=33\n"
     ]
    },
    {
     "name": "stderr",
     "output_type": "stream",
     "text": [
      "Will train until eval error hasn't decreased in 33 rounds.\n",
      "Stopping. Best iteration:\n",
      "[524]\ttrain-rmspe:0.085322\teval-rmspe:0.126617\n",
      "\n"
     ]
    },
    {
     "name": "stdout",
     "output_type": "stream",
     "text": [
      "Validating\n",
      "XGBoost模型在验证集上的RMSPE:0.126653\n",
      "-------------Trained model done: 646 seconds -------------\n"
     ]
    }
   ],
   "source": [
    "dict_para_valid_model={}\n",
    "#构造xgboost所需要的训练集和预测集\n",
    "dtrain=xgb.DMatrix(X_train[feature_x_list],y_train)\n",
    "dvalid=xgb.DMatrix(X_valid[feature_x_list],y_valid)\n",
    "watchlist=[(dtrain,'train'),(dvalid,'eval')]\n",
    "num_boost_round=20000 #最大训练次数\n",
    "\n",
    "const_para={       \n",
    "          'seed':seed_1,\n",
    "         'silent':1, \n",
    "         'objective':'reg:linear'}\n",
    "selected_para={\n",
    "        'max_depth':8,\n",
    "         'min_child_weight':1,\n",
    "         'subsample':0.95,\n",
    "         'colsample_bytree':0.95,    \n",
    "         'eta':0.3    \n",
    "}\n",
    "\n",
    "early_stopping_round=int(10/selected_para['eta'])\n",
    "\n",
    "#dict用来存放最优的参数组合\n",
    "best_paras=selected_para.copy()\n",
    "best_early_stopping_round=early_stopping_round\n",
    "min_error=1.0\n",
    "\n",
    "\n",
    "#构造训练所需要目标函数\n",
    "def rmspe(y,yhat):\n",
    "    return np.sqrt(np.mean((yhat/y-1)**2))\n",
    "def rmspe_xg(yhat,y):\n",
    "    y=np.expm1(y.get_label())\n",
    "    yhat=np.expm1(yhat)\n",
    "    return 'rmspe',rmspe(y,yhat)\n",
    "\n",
    "#函数用来生成保存训练好xgboost模型所用名称\n",
    "def create_model_name(dict_para,early_stopping_round,valid_result):\n",
    "    assert (valid_result>0) &(valid_result<1.0)\n",
    "    return 'rsmpe'+(str)((int)(valid_result*100000))\\\n",
    "            +'sd'+(str)(dict_para['seed'])\\\n",
    "            +'md'+(str)(dict_para['max_depth'])\\\n",
    "            +'mcw'+(str)(dict_para['min_child_weight'])\\\n",
    "            +'sd'+(str)(dict_para['seed'])\\\n",
    "            +'s'+(str)((int)(100*dict_para['subsample']))\\\n",
    "            +'cb'+(str)((int)(100*dict_para['colsample_bytree']))\\\n",
    "            +'eta'+(str)((int)(100*dict_para['eta']))\\\n",
    "            +'es'+(str)((int)(early_stopping_round))\\\n",
    "            +'.model'\n",
    "\n",
    "#函数用来生成被索引参数            \n",
    "def create_output_paras(params,early_stopping_round):\n",
    "    return tuple([params['eta'],\n",
    "              params['max_depth'],\n",
    "              params['min_child_weight'],\n",
    "              params['subsample'],\n",
    "              params['colsample_bytree'],\n",
    "              params['seed'],\n",
    "              early_stopping_round\n",
    "             ])\n",
    "#用来执行模型训练、预测验证集、更新最优参数、保存模型到本地等主体功能 \n",
    "# def run_function(const_para,selected_para,early_stopping_round,best_paras,best_early_stopping_round,min_error,dict_para_valid_model):          \n",
    "params = dict(const_para.items() + selected_para.items())\n",
    "output_paras=create_output_paras(params,early_stopping_round)\n",
    "if output_paras not in dict_para_valid_model:    \n",
    "    print('----------starting to train model using paras-------')\n",
    "    start_time = time.time()\n",
    "    display(params)\n",
    "    print('early_stopping_round=%s'%early_stopping_round)\n",
    "\n",
    "    gbm_0=xgb.train(params,dtrain,num_boost_round,evals=watchlist,early_stopping_rounds=early_stopping_round,feval=rmspe_xg,verbose_eval=False)\n",
    "\n",
    "    #用训练好的模型预测验证集\n",
    "    print('Validating')\n",
    "    yhat=gbm_0.predict(xgb.DMatrix(X_valid[feature_x_list]))\n",
    "    error=rmspe(np.exp(y_valid),np.exp(yhat))\n",
    "    print('XGBoost模型在验证集上的RMSPE:{:.6f}'.format(error))\n",
    "\n",
    "    #如果新训练模型比以往模型训练效果都好，那么就需要对参数进行更新\n",
    "    if error<min_error:\n",
    "        min_error=error\n",
    "        best_early_stopping_round=early_stopping_round\n",
    "        best_paras=selected_para.copy()\n",
    "\n",
    "\n",
    "    #将模型保存到本地\n",
    "    train_time=(int)(time.time() - start_time)\n",
    "    path='model_saved'\n",
    "    file_name=create_model_name(params,early_stopping_round,error)\n",
    "    gbm_0.save_model(os.path.join(path,file_name))\n",
    "\n",
    "    dict_para_valid_model[(output_paras)]={\n",
    "        'model_name':file_name,\n",
    "        'valid_result':error,\n",
    "        'train_time':train_time}\n",
    "\n",
    "    print(\"-------------Trained model done: %s seconds -------------\" % train_time)\n",
    "#         return best_paras,best_early_stopping_round,min_error,dict_para_valid_model\n",
    "\n",
    "\n",
    "\n",
    "# best_paras,best_early_stopping_round,min_error,dict_para_valid_model=run_function(const_para,selected_para,early_stopping_round,best_paras,best_early_stopping_round,min_error,dict_para_valid_model)\n"
   ]
  },
  {
   "cell_type": "code",
   "execution_count": 244,
   "metadata": {
    "collapsed": false
   },
   "outputs": [
    {
     "name": "stdout",
     "output_type": "stream",
     "text": [
      "-------Start to predict using model：rsmpe12665sd42md8mcw1sd42s95cb95eta30es33.model\n"
     ]
    }
   ],
   "source": [
    "model_name='rsmpe12665sd42md8mcw1sd42s95cb95eta30es33.model'\n",
    "print('-------Start to predict using model：'+model_name)\n",
    "#reload model from local\n",
    "reload_xgb_model=xgb.Booster()\n",
    "reload_xgb_model.load_model(os.path.join('model_saved',model_name) )\n",
    "\n",
    "\n",
    "#预测测试集\n",
    "test_data=modified_test_store_raw_df.copy()\n",
    "mask_test=(test_data['Open']==1)\n",
    "test_probs=reload_xgb_model.predict(dtest)\n",
    "test_data['Sales_Predicted']=0\n",
    "test_data.loc[mask_test,'Sales_Predicted']=test_probs\n",
    "\n",
    "#make submission\n",
    "result=pd.DataFrame({\"Id\":test_data['Id'],'Sales':np.expm1(test_data['Sales_Predicted'])})\n",
    "path='output_csv'\n",
    "file_name=os.path.splitext(model_name)[0]+'.csv'\n",
    "result.to_csv(os.path.join(path,file_name),index=False)"
   ]
  },
  {
   "cell_type": "code",
   "execution_count": null,
   "metadata": {
    "collapsed": true
   },
   "outputs": [],
   "source": []
  },
  {
   "cell_type": "markdown",
   "metadata": {},
   "source": [
    "### 4.2 优化 max_depth 和 min_child_weight\n",
    "- 第一次优化挑出max_depth 和 min_child_weight\n",
    "    - max_depth可选范围 4 6 8 10\n",
    "    - min_child_weight可选范围 2 4 6\n",
    "- 第二次优化挑出最终的selected_max_depth 和 selected_min_child_weight\n",
    "    - max_depth可选范围[max_depth-1,max_depth,max_depth+1]\n",
    "    - min_child_weight可选范围[min_child_weight-1,min_child_weight,min_child_weight+1]\n",
    "- 训练前，需要检查该参数组合是否被训练过"
   ]
  },
  {
   "cell_type": "code",
   "execution_count": 10,
   "metadata": {
    "collapsed": false,
    "scrolled": true
   },
   "outputs": [
    {
     "name": "stdout",
     "output_type": "stream",
     "text": [
      "----------starting to train model using paras-------\n"
     ]
    },
    {
     "data": {
      "text/plain": [
       "{'colsample_bytree': 0.95,\n",
       " 'eta': 0.3,\n",
       " 'max_depth': 4,\n",
       " 'min_child_weight': 2,\n",
       " 'objective': 'reg:linear',\n",
       " 'seed': 42,\n",
       " 'silent': 1,\n",
       " 'subsample': 0.95}"
      ]
     },
     "metadata": {},
     "output_type": "display_data"
    },
    {
     "name": "stdout",
     "output_type": "stream",
     "text": [
      "early_stopping_round=33\n"
     ]
    },
    {
     "name": "stderr",
     "output_type": "stream",
     "text": [
      "Will train until eval error hasn't decreased in 33 rounds.\n",
      "Stopping. Best iteration:\n",
      "[2296]\ttrain-rmspe:0.152525\teval-rmspe:0.128541\n",
      "\n"
     ]
    },
    {
     "name": "stdout",
     "output_type": "stream",
     "text": [
      "Validating\n",
      "XGBoost模型在验证集上的RMSPE:0.128647\n",
      "-------------Trained model done: 1389 seconds -------------\n",
      "----------starting to train model using paras-------\n"
     ]
    },
    {
     "data": {
      "text/plain": [
       "{'colsample_bytree': 0.95,\n",
       " 'eta': 0.3,\n",
       " 'max_depth': 4,\n",
       " 'min_child_weight': 4,\n",
       " 'objective': 'reg:linear',\n",
       " 'seed': 42,\n",
       " 'silent': 1,\n",
       " 'subsample': 0.95}"
      ]
     },
     "metadata": {},
     "output_type": "display_data"
    },
    {
     "name": "stdout",
     "output_type": "stream",
     "text": [
      "early_stopping_round=33\n"
     ]
    },
    {
     "name": "stderr",
     "output_type": "stream",
     "text": [
      "Will train until eval error hasn't decreased in 33 rounds.\n",
      "Stopping. Best iteration:\n",
      "[1315]\ttrain-rmspe:0.159006\teval-rmspe:0.138688\n",
      "\n"
     ]
    },
    {
     "name": "stdout",
     "output_type": "stream",
     "text": [
      "Validating\n",
      "XGBoost模型在验证集上的RMSPE:0.138671\n",
      "-------------Trained model done: 772 seconds -------------\n",
      "----------starting to train model using paras-------\n"
     ]
    },
    {
     "data": {
      "text/plain": [
       "{'colsample_bytree': 0.95,\n",
       " 'eta': 0.3,\n",
       " 'max_depth': 4,\n",
       " 'min_child_weight': 6,\n",
       " 'objective': 'reg:linear',\n",
       " 'seed': 42,\n",
       " 'silent': 1,\n",
       " 'subsample': 0.95}"
      ]
     },
     "metadata": {},
     "output_type": "display_data"
    },
    {
     "name": "stdout",
     "output_type": "stream",
     "text": [
      "early_stopping_round=33\n"
     ]
    },
    {
     "name": "stderr",
     "output_type": "stream",
     "text": [
      "Will train until eval error hasn't decreased in 33 rounds.\n",
      "Stopping. Best iteration:\n",
      "[958]\ttrain-rmspe:0.160818\teval-rmspe:0.142526\n",
      "\n"
     ]
    },
    {
     "name": "stdout",
     "output_type": "stream",
     "text": [
      "Validating\n",
      "XGBoost模型在验证集上的RMSPE:0.142583\n",
      "-------------Trained model done: 559 seconds -------------\n",
      "----------starting to train model using paras-------\n"
     ]
    },
    {
     "data": {
      "text/plain": [
       "{'colsample_bytree': 0.95,\n",
       " 'eta': 0.3,\n",
       " 'max_depth': 6,\n",
       " 'min_child_weight': 2,\n",
       " 'objective': 'reg:linear',\n",
       " 'seed': 42,\n",
       " 'silent': 1,\n",
       " 'subsample': 0.95}"
      ]
     },
     "metadata": {},
     "output_type": "display_data"
    },
    {
     "name": "stdout",
     "output_type": "stream",
     "text": [
      "early_stopping_round=33\n"
     ]
    },
    {
     "name": "stderr",
     "output_type": "stream",
     "text": [
      "Will train until eval error hasn't decreased in 33 rounds.\n",
      "Stopping. Best iteration:\n",
      "[620]\ttrain-rmspe:0.145142\teval-rmspe:0.130439\n",
      "\n"
     ]
    },
    {
     "name": "stdout",
     "output_type": "stream",
     "text": [
      "Validating\n",
      "XGBoost模型在验证集上的RMSPE:0.134726\n",
      "-------------Trained model done: 565 seconds -------------\n",
      "----------starting to train model using paras-------\n"
     ]
    },
    {
     "data": {
      "text/plain": [
       "{'colsample_bytree': 0.95,\n",
       " 'eta': 0.3,\n",
       " 'max_depth': 6,\n",
       " 'min_child_weight': 4,\n",
       " 'objective': 'reg:linear',\n",
       " 'seed': 42,\n",
       " 'silent': 1,\n",
       " 'subsample': 0.95}"
      ]
     },
     "metadata": {},
     "output_type": "display_data"
    },
    {
     "name": "stdout",
     "output_type": "stream",
     "text": [
      "early_stopping_round=33\n"
     ]
    },
    {
     "name": "stderr",
     "output_type": "stream",
     "text": [
      "Will train until eval error hasn't decreased in 33 rounds.\n",
      "Stopping. Best iteration:\n",
      "[1205]\ttrain-rmspe:0.111956\teval-rmspe:0.123771\n",
      "\n"
     ]
    },
    {
     "name": "stdout",
     "output_type": "stream",
     "text": [
      "Validating\n",
      "XGBoost模型在验证集上的RMSPE:0.123762\n",
      "-------------Trained model done: 2726 seconds -------------\n",
      "----------starting to train model using paras-------\n"
     ]
    },
    {
     "data": {
      "text/plain": [
       "{'colsample_bytree': 0.95,\n",
       " 'eta': 0.3,\n",
       " 'max_depth': 6,\n",
       " 'min_child_weight': 6,\n",
       " 'objective': 'reg:linear',\n",
       " 'seed': 42,\n",
       " 'silent': 1,\n",
       " 'subsample': 0.95}"
      ]
     },
     "metadata": {},
     "output_type": "display_data"
    },
    {
     "name": "stdout",
     "output_type": "stream",
     "text": [
      "early_stopping_round=33\n"
     ]
    },
    {
     "name": "stderr",
     "output_type": "stream",
     "text": [
      "Will train until eval error hasn't decreased in 33 rounds.\n",
      "Stopping. Best iteration:\n",
      "[1633]\ttrain-rmspe:0.109865\teval-rmspe:0.121818\n",
      "\n"
     ]
    },
    {
     "name": "stdout",
     "output_type": "stream",
     "text": [
      "Validating\n",
      "XGBoost模型在验证集上的RMSPE:0.121965\n",
      "-------------Trained model done: 1413 seconds -------------\n",
      "----------starting to train model using paras-------\n"
     ]
    },
    {
     "data": {
      "text/plain": [
       "{'colsample_bytree': 0.95,\n",
       " 'eta': 0.3,\n",
       " 'max_depth': 8,\n",
       " 'min_child_weight': 2,\n",
       " 'objective': 'reg:linear',\n",
       " 'seed': 42,\n",
       " 'silent': 1,\n",
       " 'subsample': 0.95}"
      ]
     },
     "metadata": {},
     "output_type": "display_data"
    },
    {
     "name": "stdout",
     "output_type": "stream",
     "text": [
      "early_stopping_round=33\n"
     ]
    },
    {
     "name": "stderr",
     "output_type": "stream",
     "text": [
      "Will train until eval error hasn't decreased in 33 rounds.\n",
      "Stopping. Best iteration:\n",
      "[532]\ttrain-rmspe:0.085376\teval-rmspe:0.128532\n",
      "\n"
     ]
    },
    {
     "name": "stdout",
     "output_type": "stream",
     "text": [
      "Validating\n",
      "XGBoost模型在验证集上的RMSPE:0.128603\n",
      "-------------Trained model done: 639 seconds -------------\n",
      "----------starting to train model using paras-------\n"
     ]
    },
    {
     "data": {
      "text/plain": [
       "{'colsample_bytree': 0.95,\n",
       " 'eta': 0.3,\n",
       " 'max_depth': 8,\n",
       " 'min_child_weight': 4,\n",
       " 'objective': 'reg:linear',\n",
       " 'seed': 42,\n",
       " 'silent': 1,\n",
       " 'subsample': 0.95}"
      ]
     },
     "metadata": {},
     "output_type": "display_data"
    },
    {
     "name": "stdout",
     "output_type": "stream",
     "text": [
      "early_stopping_round=33\n"
     ]
    },
    {
     "name": "stderr",
     "output_type": "stream",
     "text": [
      "Will train until eval error hasn't decreased in 33 rounds.\n",
      "Stopping. Best iteration:\n",
      "[840]\ttrain-rmspe:0.081324\teval-rmspe:0.128134\n",
      "\n"
     ]
    },
    {
     "name": "stdout",
     "output_type": "stream",
     "text": [
      "Validating\n",
      "XGBoost模型在验证集上的RMSPE:0.128197\n",
      "-------------Trained model done: 991 seconds -------------\n",
      "----------starting to train model using paras-------\n"
     ]
    },
    {
     "data": {
      "text/plain": [
       "{'colsample_bytree': 0.95,\n",
       " 'eta': 0.3,\n",
       " 'max_depth': 8,\n",
       " 'min_child_weight': 6,\n",
       " 'objective': 'reg:linear',\n",
       " 'seed': 42,\n",
       " 'silent': 1,\n",
       " 'subsample': 0.95}"
      ]
     },
     "metadata": {},
     "output_type": "display_data"
    },
    {
     "name": "stdout",
     "output_type": "stream",
     "text": [
      "early_stopping_round=33\n"
     ]
    },
    {
     "name": "stderr",
     "output_type": "stream",
     "text": [
      "Will train until eval error hasn't decreased in 33 rounds.\n",
      "Stopping. Best iteration:\n",
      "[487]\ttrain-rmspe:0.099293\teval-rmspe:0.127464\n",
      "\n"
     ]
    },
    {
     "name": "stdout",
     "output_type": "stream",
     "text": [
      "Validating\n",
      "XGBoost模型在验证集上的RMSPE:0.127658\n",
      "-------------Trained model done: 588 seconds -------------\n",
      "----------starting to train model using paras-------\n"
     ]
    },
    {
     "data": {
      "text/plain": [
       "{'colsample_bytree': 0.95,\n",
       " 'eta': 0.3,\n",
       " 'max_depth': 10,\n",
       " 'min_child_weight': 2,\n",
       " 'objective': 'reg:linear',\n",
       " 'seed': 42,\n",
       " 'silent': 1,\n",
       " 'subsample': 0.95}"
      ]
     },
     "metadata": {},
     "output_type": "display_data"
    },
    {
     "name": "stdout",
     "output_type": "stream",
     "text": [
      "early_stopping_round=33\n"
     ]
    },
    {
     "name": "stderr",
     "output_type": "stream",
     "text": [
      "Will train until eval error hasn't decreased in 33 rounds.\n",
      "Stopping. Best iteration:\n",
      "[278]\ttrain-rmspe:0.078395\teval-rmspe:0.126962\n",
      "\n"
     ]
    },
    {
     "name": "stdout",
     "output_type": "stream",
     "text": [
      "Validating\n",
      "XGBoost模型在验证集上的RMSPE:0.127040\n",
      "-------------Trained model done: 443 seconds -------------\n",
      "----------starting to train model using paras-------\n"
     ]
    },
    {
     "data": {
      "text/plain": [
       "{'colsample_bytree': 0.95,\n",
       " 'eta': 0.3,\n",
       " 'max_depth': 10,\n",
       " 'min_child_weight': 4,\n",
       " 'objective': 'reg:linear',\n",
       " 'seed': 42,\n",
       " 'silent': 1,\n",
       " 'subsample': 0.95}"
      ]
     },
     "metadata": {},
     "output_type": "display_data"
    },
    {
     "name": "stdout",
     "output_type": "stream",
     "text": [
      "early_stopping_round=33\n"
     ]
    },
    {
     "name": "stderr",
     "output_type": "stream",
     "text": [
      "Will train until eval error hasn't decreased in 33 rounds.\n",
      "Stopping. Best iteration:\n",
      "[451]\ttrain-rmspe:0.070054\teval-rmspe:0.129062\n",
      "\n"
     ]
    },
    {
     "name": "stdout",
     "output_type": "stream",
     "text": [
      "Validating\n",
      "XGBoost模型在验证集上的RMSPE:0.129097\n",
      "-------------Trained model done: 690 seconds -------------\n",
      "----------starting to train model using paras-------\n"
     ]
    },
    {
     "data": {
      "text/plain": [
       "{'colsample_bytree': 0.95,\n",
       " 'eta': 0.3,\n",
       " 'max_depth': 10,\n",
       " 'min_child_weight': 6,\n",
       " 'objective': 'reg:linear',\n",
       " 'seed': 42,\n",
       " 'silent': 1,\n",
       " 'subsample': 0.95}"
      ]
     },
     "metadata": {},
     "output_type": "display_data"
    },
    {
     "name": "stdout",
     "output_type": "stream",
     "text": [
      "early_stopping_round=33\n"
     ]
    },
    {
     "name": "stderr",
     "output_type": "stream",
     "text": [
      "Will train until eval error hasn't decreased in 33 rounds.\n",
      "Stopping. Best iteration:\n",
      "[499]\ttrain-rmspe:0.071254\teval-rmspe:0.133337\n",
      "\n"
     ]
    },
    {
     "name": "stdout",
     "output_type": "stream",
     "text": [
      "Validating\n",
      "XGBoost模型在验证集上的RMSPE:0.133378\n",
      "-------------Trained model done: 759 seconds -------------\n"
     ]
    }
   ],
   "source": [
    "range_max_depth=range(4,11,2) #[4, 6, 8, 10]\n",
    "range_min_child_weight=range(2,7,2) #[2, 4, 6]\n",
    "selected_para=best_paras.copy()\n",
    "\n",
    "for max_depth in range_max_depth:\n",
    "    selected_para['max_depth']=max_depth\n",
    "    for min_child_weight in range_min_child_weight:\n",
    "        selected_para['min_child_weight']=min_child_weight        \n",
    "        params = dict(const_para.items() + selected_para.items())\n",
    "        output_paras=create_output_paras(params,early_stopping_round)\n",
    "        if output_paras not in dict_para_valid_model:    \n",
    "            print('----------starting to train model using paras-------')\n",
    "            start_time = time.time()\n",
    "            display(params)11\n",
    "            \n",
    "            \n",
    "            \n",
    "            print('early_stopping_round=%s'%early_stopping_round)\n",
    "\n",
    "            gbm_0=xgb.train(params,dtrain,num_boost_round,evals=watchlist,early_stopping_rounds=early_stopping_round,feval=rmspe_xg,verbose_eval=False)\n",
    "\n",
    "            #用训练好的模型预测验证集\n",
    "            print('Validating')\n",
    "            yhat=gbm_0.predict(xgb.DMatrix(X_valid[feature_x_list]))\n",
    "            error=rmspe(np.exp(y_valid),np.exp(yhat))\n",
    "            print('XGBoost模型在验证集上的RMSPE:{:.6f}'.format(error))\n",
    "\n",
    "            #如果新训练模型比以往模型训练效果都好，那么就需要对参数进行更新\n",
    "            if error<min_error:\n",
    "                min_error=error\n",
    "                best_early_stopping_round=early_stopping_round\n",
    "                best_paras=selected_para.copy()\n",
    "\n",
    "\n",
    "            #将模型保存到本地\n",
    "            train_time=(int)(time.time() - start_time)\n",
    "            path='model_saved'\n",
    "            file_name=create_model_name(params,early_stopping_round,error)\n",
    "            gbm_0.save_model(os.path.join(path,file_name))\n",
    "\n",
    "            dict_para_valid_model[(output_paras)]={\n",
    "                'model_name':file_name,\n",
    "                'valid_result':error,\n",
    "                'train_time':train_time}\n",
    "            \n",
    "            print(\"-------------Trained model done: %s seconds -------------\" % train_time)        \n"
   ]
  },
  {
   "cell_type": "code",
   "execution_count": 11,
   "metadata": {
    "collapsed": false,
    "scrolled": true
   },
   "outputs": [
    {
     "name": "stdout",
     "output_type": "stream",
     "text": [
      "----------starting to train model using paras-------\n"
     ]
    },
    {
     "data": {
      "text/plain": [
       "{'colsample_bytree': 0.95,\n",
       " 'eta': 0.3,\n",
       " 'max_depth': 5,\n",
       " 'min_child_weight': 5,\n",
       " 'objective': 'reg:linear',\n",
       " 'seed': 42,\n",
       " 'silent': 1,\n",
       " 'subsample': 0.95}"
      ]
     },
     "metadata": {},
     "output_type": "display_data"
    },
    {
     "name": "stdout",
     "output_type": "stream",
     "text": [
      "early_stopping_round=33\n"
     ]
    },
    {
     "name": "stderr",
     "output_type": "stream",
     "text": [
      "Will train until eval error hasn't decreased in 33 rounds.\n",
      "Stopping. Best iteration:\n",
      "[470]\ttrain-rmspe:0.164672\teval-rmspe:0.146128\n",
      "\n"
     ]
    },
    {
     "name": "stdout",
     "output_type": "stream",
     "text": [
      "Validating\n",
      "XGBoost模型在验证集上的RMSPE:0.146379\n",
      "-------------Trained model done: 354 seconds -------------\n",
      "----------starting to train model using paras-------\n"
     ]
    },
    {
     "data": {
      "text/plain": [
       "{'colsample_bytree': 0.95,\n",
       " 'eta': 0.3,\n",
       " 'max_depth': 5,\n",
       " 'min_child_weight': 6,\n",
       " 'objective': 'reg:linear',\n",
       " 'seed': 42,\n",
       " 'silent': 1,\n",
       " 'subsample': 0.95}"
      ]
     },
     "metadata": {},
     "output_type": "display_data"
    },
    {
     "name": "stdout",
     "output_type": "stream",
     "text": [
      "early_stopping_round=33\n"
     ]
    },
    {
     "name": "stderr",
     "output_type": "stream",
     "text": [
      "Will train until eval error hasn't decreased in 33 rounds.\n",
      "Stopping. Best iteration:\n",
      "[834]\ttrain-rmspe:0.155580\teval-rmspe:0.138297\n",
      "\n"
     ]
    },
    {
     "name": "stdout",
     "output_type": "stream",
     "text": [
      "Validating\n",
      "XGBoost模型在验证集上的RMSPE:0.138366\n",
      "-------------Trained model done: 611 seconds -------------\n",
      "----------starting to train model using paras-------\n"
     ]
    },
    {
     "data": {
      "text/plain": [
       "{'colsample_bytree': 0.95,\n",
       " 'eta': 0.3,\n",
       " 'max_depth': 5,\n",
       " 'min_child_weight': 7,\n",
       " 'objective': 'reg:linear',\n",
       " 'seed': 42,\n",
       " 'silent': 1,\n",
       " 'subsample': 0.95}"
      ]
     },
     "metadata": {},
     "output_type": "display_data"
    },
    {
     "name": "stdout",
     "output_type": "stream",
     "text": [
      "early_stopping_round=33\n"
     ]
    },
    {
     "name": "stderr",
     "output_type": "stream",
     "text": [
      "Will train until eval error hasn't decreased in 33 rounds.\n",
      "Stopping. Best iteration:\n",
      "[958]\ttrain-rmspe:0.147731\teval-rmspe:0.130951\n",
      "\n"
     ]
    },
    {
     "name": "stdout",
     "output_type": "stream",
     "text": [
      "Validating\n",
      "XGBoost模型在验证集上的RMSPE:0.130990\n",
      "-------------Trained model done: 698 seconds -------------\n",
      "----------starting to train model using paras-------\n"
     ]
    },
    {
     "data": {
      "text/plain": [
       "{'colsample_bytree': 0.95,\n",
       " 'eta': 0.3,\n",
       " 'max_depth': 6,\n",
       " 'min_child_weight': 5,\n",
       " 'objective': 'reg:linear',\n",
       " 'seed': 42,\n",
       " 'silent': 1,\n",
       " 'subsample': 0.95}"
      ]
     },
     "metadata": {},
     "output_type": "display_data"
    },
    {
     "name": "stdout",
     "output_type": "stream",
     "text": [
      "early_stopping_round=33\n"
     ]
    },
    {
     "name": "stderr",
     "output_type": "stream",
     "text": [
      "Will train until eval error hasn't decreased in 33 rounds.\n",
      "Stopping. Best iteration:\n",
      "[1514]\ttrain-rmspe:0.120566\teval-rmspe:0.121392\n",
      "\n"
     ]
    },
    {
     "name": "stdout",
     "output_type": "stream",
     "text": [
      "Validating\n",
      "XGBoost模型在验证集上的RMSPE:0.121380\n",
      "-------------Trained model done: 1310 seconds -------------\n",
      "----------starting to train model using paras-------\n"
     ]
    },
    {
     "data": {
      "text/plain": [
       "{'colsample_bytree': 0.95,\n",
       " 'eta': 0.3,\n",
       " 'max_depth': 6,\n",
       " 'min_child_weight': 7,\n",
       " 'objective': 'reg:linear',\n",
       " 'seed': 42,\n",
       " 'silent': 1,\n",
       " 'subsample': 0.95}"
      ]
     },
     "metadata": {},
     "output_type": "display_data"
    },
    {
     "name": "stdout",
     "output_type": "stream",
     "text": [
      "early_stopping_round=33\n"
     ]
    },
    {
     "name": "stderr",
     "output_type": "stream",
     "text": [
      "Will train until eval error hasn't decreased in 33 rounds.\n",
      "Stopping. Best iteration:\n",
      "[704]\ttrain-rmspe:0.133185\teval-rmspe:0.126474\n",
      "\n"
     ]
    },
    {
     "name": "stdout",
     "output_type": "stream",
     "text": [
      "Validating\n",
      "XGBoost模型在验证集上的RMSPE:0.126599\n",
      "-------------Trained model done: 607 seconds -------------\n",
      "----------starting to train model using paras-------\n"
     ]
    },
    {
     "data": {
      "text/plain": [
       "{'colsample_bytree': 0.95,\n",
       " 'eta': 0.3,\n",
       " 'max_depth': 7,\n",
       " 'min_child_weight': 5,\n",
       " 'objective': 'reg:linear',\n",
       " 'seed': 42,\n",
       " 'silent': 1,\n",
       " 'subsample': 0.95}"
      ]
     },
     "metadata": {},
     "output_type": "display_data"
    },
    {
     "name": "stdout",
     "output_type": "stream",
     "text": [
      "early_stopping_round=33\n"
     ]
    },
    {
     "name": "stderr",
     "output_type": "stream",
     "text": [
      "Will train until eval error hasn't decreased in 33 rounds.\n",
      "Stopping. Best iteration:\n",
      "[781]\ttrain-rmspe:0.100899\teval-rmspe:0.127506\n",
      "\n"
     ]
    },
    {
     "name": "stdout",
     "output_type": "stream",
     "text": [
      "Validating\n",
      "XGBoost模型在验证集上的RMSPE:0.127542\n",
      "-------------Trained model done: 762 seconds -------------\n",
      "----------starting to train model using paras-------\n"
     ]
    },
    {
     "data": {
      "text/plain": [
       "{'colsample_bytree': 0.95,\n",
       " 'eta': 0.3,\n",
       " 'max_depth': 7,\n",
       " 'min_child_weight': 6,\n",
       " 'objective': 'reg:linear',\n",
       " 'seed': 42,\n",
       " 'silent': 1,\n",
       " 'subsample': 0.95}"
      ]
     },
     "metadata": {},
     "output_type": "display_data"
    },
    {
     "name": "stdout",
     "output_type": "stream",
     "text": [
      "early_stopping_round=33\n"
     ]
    },
    {
     "name": "stderr",
     "output_type": "stream",
     "text": [
      "Will train until eval error hasn't decreased in 33 rounds.\n",
      "Stopping. Best iteration:\n",
      "[710]\ttrain-rmspe:0.107384\teval-rmspe:0.127621\n",
      "\n"
     ]
    },
    {
     "name": "stdout",
     "output_type": "stream",
     "text": [
      "Validating\n",
      "XGBoost模型在验证集上的RMSPE:0.127684\n",
      "-------------Trained model done: 694 seconds -------------\n",
      "----------starting to train model using paras-------\n"
     ]
    },
    {
     "data": {
      "text/plain": [
       "{'colsample_bytree': 0.95,\n",
       " 'eta': 0.3,\n",
       " 'max_depth': 7,\n",
       " 'min_child_weight': 7,\n",
       " 'objective': 'reg:linear',\n",
       " 'seed': 42,\n",
       " 'silent': 1,\n",
       " 'subsample': 0.95}"
      ]
     },
     "metadata": {},
     "output_type": "display_data"
    },
    {
     "name": "stdout",
     "output_type": "stream",
     "text": [
      "early_stopping_round=33\n"
     ]
    },
    {
     "name": "stderr",
     "output_type": "stream",
     "text": [
      "Will train until eval error hasn't decreased in 33 rounds.\n",
      "Stopping. Best iteration:\n",
      "[904]\ttrain-rmspe:0.114174\teval-rmspe:0.125878\n",
      "\n"
     ]
    },
    {
     "name": "stdout",
     "output_type": "stream",
     "text": [
      "Validating\n",
      "XGBoost模型在验证集上的RMSPE:0.126238\n",
      "-------------Trained model done: 874 seconds -------------\n"
     ]
    }
   ],
   "source": [
    "range_max_depth=[best_paras['max_depth']-1,best_paras['max_depth'],(best_paras['max_depth']+1)]\n",
    "range_min_child_weight=[(best_paras['min_child_weight']-1),best_paras['min_child_weight'],(best_paras['min_child_weight']+1)]\n",
    "selected_para=best_paras.copy()\n",
    "\n",
    "for max_depth in range_max_depth:\n",
    "    selected_para['max_depth']=max_depth\n",
    "    for min_child_weight in range_min_child_weight:\n",
    "        selected_para['min_child_weight']=min_child_weight        \n",
    "        params = dict(const_para.items() + selected_para.items())\n",
    "        output_paras=create_output_paras(params,early_stopping_round)\n",
    "        if output_paras not in dict_para_valid_model:    \n",
    "            print('----------starting to train model using paras-------')\n",
    "            start_time = time.time()\n",
    "            display(params)\n",
    "            print('early_stopping_round=%s'%early_stopping_round)\n",
    "\n",
    "            gbm_0=xgb.train(params,dtrain,num_boost_round,evals=watchlist,early_stopping_rounds=early_stopping_round,feval=rmspe_xg,verbose_eval=False)\n",
    "\n",
    "            #用训练好的模型预测验证集\n",
    "            print('Validating')\n",
    "            yhat=gbm_0.predict(xgb.DMatrix(X_valid[feature_x_list]))\n",
    "            error=rmspe(np.exp(y_valid),np.exp(yhat))\n",
    "            print('XGBoost模型在验证集上的RMSPE:{:.6f}'.format(error))\n",
    "\n",
    "            #如果新训练模型比以往模型训练效果都好，那么就需要对参数进行更新\n",
    "            if error<min_error:\n",
    "                min_error=error\n",
    "                best_early_stopping_round=early_stopping_round\n",
    "                best_paras=selected_para.copy()\n",
    "\n",
    "\n",
    "            #将模型保存到本地\n",
    "            train_time=(int)(time.time() - start_time)\n",
    "            path='model_saved'\n",
    "            file_name=create_model_name(params,early_stopping_round,error)\n",
    "            gbm_0.save_model(os.path.join(path,file_name))\n",
    "\n",
    "            dict_para_valid_model[(output_paras)]={\n",
    "                'model_name':file_name,\n",
    "                'valid_result':error,\n",
    "                'train_time':train_time}\n",
    "\n",
    "            print(\"-------------Trained model done: %s seconds -------------\" % train_time)"
   ]
  },
  {
   "cell_type": "markdown",
   "metadata": {},
   "source": [
    "#### 优化后的 'max_depth'为 6,'min_child_weight'为5。\n"
   ]
  },
  {
   "cell_type": "markdown",
   "metadata": {},
   "source": [
    "### 4.3 优化 subsample 和 colsample_bytree\n",
    "- 第一次优化挑出 subsample 和 colsample_bytree\n",
    "    - subsample 可选范围 0.6,0.7,0.8,0.9\n",
    "    - colsample_bytree 可选范围 0.6,0.7,0.8,0.9\n",
    "- 第二次优化\n",
    "    - subsample 可选范围[subsample-0.05,subsample,subsample+0.05]\n",
    "    - colsample_bytree 可选范围[colsample_bytree-0.05,colsample_bytree,colsample_bytree+0.05]\n",
    "- 训练前，需要检查该参数组合是否被训练过 "
   ]
  },
  {
   "cell_type": "code",
   "execution_count": 12,
   "metadata": {
    "collapsed": false
   },
   "outputs": [
    {
     "name": "stdout",
     "output_type": "stream",
     "text": [
      "----------starting to train model using paras-------\n"
     ]
    },
    {
     "data": {
      "text/plain": [
       "{'colsample_bytree': 0.59999999999999998,\n",
       " 'eta': 0.3,\n",
       " 'max_depth': 6,\n",
       " 'min_child_weight': 5,\n",
       " 'objective': 'reg:linear',\n",
       " 'seed': 42,\n",
       " 'silent': 1,\n",
       " 'subsample': 0.59999999999999998}"
      ]
     },
     "metadata": {},
     "output_type": "display_data"
    },
    {
     "name": "stdout",
     "output_type": "stream",
     "text": [
      "early_stopping_round=33\n"
     ]
    },
    {
     "name": "stderr",
     "output_type": "stream",
     "text": [
      "Will train until eval error hasn't decreased in 33 rounds.\n",
      "Stopping. Best iteration:\n",
      "[705]\ttrain-rmspe:0.150235\teval-rmspe:0.135215\n",
      "\n"
     ]
    },
    {
     "name": "stdout",
     "output_type": "stream",
     "text": [
      "Validating\n",
      "XGBoost模型在验证集上的RMSPE:0.135716\n",
      "-------------Trained model done: 447 seconds -------------\n",
      "----------starting to train model using paras-------\n"
     ]
    },
    {
     "data": {
      "text/plain": [
       "{'colsample_bytree': 0.69999999999999996,\n",
       " 'eta': 0.3,\n",
       " 'max_depth': 6,\n",
       " 'min_child_weight': 5,\n",
       " 'objective': 'reg:linear',\n",
       " 'seed': 42,\n",
       " 'silent': 1,\n",
       " 'subsample': 0.59999999999999998}"
      ]
     },
     "metadata": {},
     "output_type": "display_data"
    },
    {
     "name": "stdout",
     "output_type": "stream",
     "text": [
      "early_stopping_round=33\n"
     ]
    },
    {
     "name": "stderr",
     "output_type": "stream",
     "text": [
      "Will train until eval error hasn't decreased in 33 rounds.\n",
      "Stopping. Best iteration:\n",
      "[624]\ttrain-rmspe:0.149200\teval-rmspe:0.134229\n",
      "\n"
     ]
    },
    {
     "name": "stdout",
     "output_type": "stream",
     "text": [
      "Validating\n",
      "XGBoost模型在验证集上的RMSPE:0.134322\n",
      "-------------Trained model done: 458 seconds -------------\n",
      "----------starting to train model using paras-------\n"
     ]
    },
    {
     "data": {
      "text/plain": [
       "{'colsample_bytree': 0.79999999999999993,\n",
       " 'eta': 0.3,\n",
       " 'max_depth': 6,\n",
       " 'min_child_weight': 5,\n",
       " 'objective': 'reg:linear',\n",
       " 'seed': 42,\n",
       " 'silent': 1,\n",
       " 'subsample': 0.59999999999999998}"
      ]
     },
     "metadata": {},
     "output_type": "display_data"
    },
    {
     "name": "stdout",
     "output_type": "stream",
     "text": [
      "early_stopping_round=33\n"
     ]
    },
    {
     "name": "stderr",
     "output_type": "stream",
     "text": [
      "Will train until eval error hasn't decreased in 33 rounds.\n",
      "Stopping. Best iteration:\n",
      "[819]\ttrain-rmspe:0.135845\teval-rmspe:0.129644\n",
      "\n"
     ]
    },
    {
     "name": "stdout",
     "output_type": "stream",
     "text": [
      "Validating\n",
      "XGBoost模型在验证集上的RMSPE:0.131252\n",
      "-------------Trained model done: 678 seconds -------------\n",
      "----------starting to train model using paras-------\n"
     ]
    },
    {
     "data": {
      "text/plain": [
       "{'colsample_bytree': 0.89999999999999991,\n",
       " 'eta': 0.3,\n",
       " 'max_depth': 6,\n",
       " 'min_child_weight': 5,\n",
       " 'objective': 'reg:linear',\n",
       " 'seed': 42,\n",
       " 'silent': 1,\n",
       " 'subsample': 0.59999999999999998}"
      ]
     },
     "metadata": {},
     "output_type": "display_data"
    },
    {
     "name": "stdout",
     "output_type": "stream",
     "text": [
      "early_stopping_round=33\n"
     ]
    },
    {
     "name": "stderr",
     "output_type": "stream",
     "text": [
      "Will train until eval error hasn't decreased in 33 rounds.\n",
      "Stopping. Best iteration:\n",
      "[898]\ttrain-rmspe:0.140072\teval-rmspe:0.131567\n",
      "\n"
     ]
    },
    {
     "name": "stdout",
     "output_type": "stream",
     "text": [
      "Validating\n",
      "XGBoost模型在验证集上的RMSPE:0.131878\n",
      "-------------Trained model done: 831 seconds -------------\n",
      "----------starting to train model using paras-------\n"
     ]
    },
    {
     "data": {
      "text/plain": [
       "{'colsample_bytree': 0.59999999999999998,\n",
       " 'eta': 0.3,\n",
       " 'max_depth': 6,\n",
       " 'min_child_weight': 5,\n",
       " 'objective': 'reg:linear',\n",
       " 'seed': 42,\n",
       " 'silent': 1,\n",
       " 'subsample': 0.69999999999999996}"
      ]
     },
     "metadata": {},
     "output_type": "display_data"
    },
    {
     "name": "stdout",
     "output_type": "stream",
     "text": [
      "early_stopping_round=33\n"
     ]
    },
    {
     "name": "stderr",
     "output_type": "stream",
     "text": [
      "Will train until eval error hasn't decreased in 33 rounds.\n",
      "Stopping. Best iteration:\n",
      "[930]\ttrain-rmspe:0.138551\teval-rmspe:0.132749\n",
      "\n"
     ]
    },
    {
     "name": "stdout",
     "output_type": "stream",
     "text": [
      "Validating\n",
      "XGBoost模型在验证集上的RMSPE:0.133112\n",
      "-------------Trained model done: 559 seconds -------------\n",
      "----------starting to train model using paras-------\n"
     ]
    },
    {
     "data": {
      "text/plain": [
       "{'colsample_bytree': 0.69999999999999996,\n",
       " 'eta': 0.3,\n",
       " 'max_depth': 6,\n",
       " 'min_child_weight': 5,\n",
       " 'objective': 'reg:linear',\n",
       " 'seed': 42,\n",
       " 'silent': 1,\n",
       " 'subsample': 0.69999999999999996}"
      ]
     },
     "metadata": {},
     "output_type": "display_data"
    },
    {
     "name": "stdout",
     "output_type": "stream",
     "text": [
      "early_stopping_round=33\n"
     ]
    },
    {
     "name": "stderr",
     "output_type": "stream",
     "text": [
      "Will train until eval error hasn't decreased in 33 rounds.\n",
      "Stopping. Best iteration:\n",
      "[323]\ttrain-rmspe:0.158500\teval-rmspe:0.150203\n",
      "\n"
     ]
    },
    {
     "name": "stdout",
     "output_type": "stream",
     "text": [
      "Validating\n",
      "XGBoost模型在验证集上的RMSPE:0.151329\n",
      "-------------Trained model done: 237 seconds -------------\n",
      "----------starting to train model using paras-------\n"
     ]
    },
    {
     "data": {
      "text/plain": [
       "{'colsample_bytree': 0.79999999999999993,\n",
       " 'eta': 0.3,\n",
       " 'max_depth': 6,\n",
       " 'min_child_weight': 5,\n",
       " 'objective': 'reg:linear',\n",
       " 'seed': 42,\n",
       " 'silent': 1,\n",
       " 'subsample': 0.69999999999999996}"
      ]
     },
     "metadata": {},
     "output_type": "display_data"
    },
    {
     "name": "stdout",
     "output_type": "stream",
     "text": [
      "early_stopping_round=33\n"
     ]
    },
    {
     "name": "stderr",
     "output_type": "stream",
     "text": [
      "Will train until eval error hasn't decreased in 33 rounds.\n",
      "Stopping. Best iteration:\n",
      "[961]\ttrain-rmspe:0.140723\teval-rmspe:0.129226\n",
      "\n"
     ]
    },
    {
     "name": "stdout",
     "output_type": "stream",
     "text": [
      "Validating\n",
      "XGBoost模型在验证集上的RMSPE:0.129334\n",
      "-------------Trained model done: 757 seconds -------------\n",
      "----------starting to train model using paras-------\n"
     ]
    },
    {
     "data": {
      "text/plain": [
       "{'colsample_bytree': 0.89999999999999991,\n",
       " 'eta': 0.3,\n",
       " 'max_depth': 6,\n",
       " 'min_child_weight': 5,\n",
       " 'objective': 'reg:linear',\n",
       " 'seed': 42,\n",
       " 'silent': 1,\n",
       " 'subsample': 0.69999999999999996}"
      ]
     },
     "metadata": {},
     "output_type": "display_data"
    },
    {
     "name": "stdout",
     "output_type": "stream",
     "text": [
      "early_stopping_round=33\n"
     ]
    },
    {
     "name": "stderr",
     "output_type": "stream",
     "text": [
      "Will train until eval error hasn't decreased in 33 rounds.\n",
      "Stopping. Best iteration:\n",
      "[797]\ttrain-rmspe:0.129119\teval-rmspe:0.134688\n",
      "\n"
     ]
    },
    {
     "name": "stdout",
     "output_type": "stream",
     "text": [
      "Validating\n",
      "XGBoost模型在验证集上的RMSPE:0.134826\n",
      "-------------Trained model done: 709 seconds -------------\n",
      "----------starting to train model using paras-------\n"
     ]
    },
    {
     "data": {
      "text/plain": [
       "{'colsample_bytree': 0.59999999999999998,\n",
       " 'eta': 0.3,\n",
       " 'max_depth': 6,\n",
       " 'min_child_weight': 5,\n",
       " 'objective': 'reg:linear',\n",
       " 'seed': 42,\n",
       " 'silent': 1,\n",
       " 'subsample': 0.79999999999999993}"
      ]
     },
     "metadata": {},
     "output_type": "display_data"
    },
    {
     "name": "stdout",
     "output_type": "stream",
     "text": [
      "early_stopping_round=33\n"
     ]
    },
    {
     "name": "stderr",
     "output_type": "stream",
     "text": [
      "Will train until eval error hasn't decreased in 33 rounds.\n",
      "Stopping. Best iteration:\n",
      "[323]\ttrain-rmspe:0.168240\teval-rmspe:0.158990\n",
      "\n"
     ]
    },
    {
     "name": "stdout",
     "output_type": "stream",
     "text": [
      "Validating\n",
      "XGBoost模型在验证集上的RMSPE:0.159499\n",
      "-------------Trained model done: 196 seconds -------------\n",
      "----------starting to train model using paras-------\n"
     ]
    },
    {
     "data": {
      "text/plain": [
       "{'colsample_bytree': 0.69999999999999996,\n",
       " 'eta': 0.3,\n",
       " 'max_depth': 6,\n",
       " 'min_child_weight': 5,\n",
       " 'objective': 'reg:linear',\n",
       " 'seed': 42,\n",
       " 'silent': 1,\n",
       " 'subsample': 0.79999999999999993}"
      ]
     },
     "metadata": {},
     "output_type": "display_data"
    },
    {
     "name": "stdout",
     "output_type": "stream",
     "text": [
      "early_stopping_round=33\n"
     ]
    },
    {
     "name": "stderr",
     "output_type": "stream",
     "text": [
      "Will train until eval error hasn't decreased in 33 rounds.\n",
      "Stopping. Best iteration:\n",
      "[953]\ttrain-rmspe:0.135590\teval-rmspe:0.131188\n",
      "\n"
     ]
    },
    {
     "name": "stdout",
     "output_type": "stream",
     "text": [
      "Validating\n",
      "XGBoost模型在验证集上的RMSPE:0.131245\n",
      "-------------Trained model done: 635 seconds -------------\n",
      "----------starting to train model using paras-------\n"
     ]
    },
    {
     "data": {
      "text/plain": [
       "{'colsample_bytree': 0.79999999999999993,\n",
       " 'eta': 0.3,\n",
       " 'max_depth': 6,\n",
       " 'min_child_weight': 5,\n",
       " 'objective': 'reg:linear',\n",
       " 'seed': 42,\n",
       " 'silent': 1,\n",
       " 'subsample': 0.79999999999999993}"
      ]
     },
     "metadata": {},
     "output_type": "display_data"
    },
    {
     "name": "stdout",
     "output_type": "stream",
     "text": [
      "early_stopping_round=33\n"
     ]
    },
    {
     "name": "stderr",
     "output_type": "stream",
     "text": [
      "Will train until eval error hasn't decreased in 33 rounds.\n",
      "Stopping. Best iteration:\n",
      "[636]\ttrain-rmspe:0.146624\teval-rmspe:0.129660\n",
      "\n"
     ]
    },
    {
     "name": "stdout",
     "output_type": "stream",
     "text": [
      "Validating\n",
      "XGBoost模型在验证集上的RMSPE:0.130610\n",
      "-------------Trained model done: 487 seconds -------------\n",
      "----------starting to train model using paras-------\n"
     ]
    },
    {
     "data": {
      "text/plain": [
       "{'colsample_bytree': 0.89999999999999991,\n",
       " 'eta': 0.3,\n",
       " 'max_depth': 6,\n",
       " 'min_child_weight': 5,\n",
       " 'objective': 'reg:linear',\n",
       " 'seed': 42,\n",
       " 'silent': 1,\n",
       " 'subsample': 0.79999999999999993}"
      ]
     },
     "metadata": {},
     "output_type": "display_data"
    },
    {
     "name": "stdout",
     "output_type": "stream",
     "text": [
      "early_stopping_round=33\n"
     ]
    },
    {
     "name": "stderr",
     "output_type": "stream",
     "text": [
      "Will train until eval error hasn't decreased in 33 rounds.\n",
      "Stopping. Best iteration:\n",
      "[1023]\ttrain-rmspe:0.128044\teval-rmspe:0.127669\n",
      "\n"
     ]
    },
    {
     "name": "stdout",
     "output_type": "stream",
     "text": [
      "Validating\n",
      "XGBoost模型在验证集上的RMSPE:0.127845\n",
      "-------------Trained model done: 871 seconds -------------\n",
      "----------starting to train model using paras-------\n"
     ]
    },
    {
     "data": {
      "text/plain": [
       "{'colsample_bytree': 0.59999999999999998,\n",
       " 'eta': 0.3,\n",
       " 'max_depth': 6,\n",
       " 'min_child_weight': 5,\n",
       " 'objective': 'reg:linear',\n",
       " 'seed': 42,\n",
       " 'silent': 1,\n",
       " 'subsample': 0.89999999999999991}"
      ]
     },
     "metadata": {},
     "output_type": "display_data"
    },
    {
     "name": "stdout",
     "output_type": "stream",
     "text": [
      "early_stopping_round=33\n"
     ]
    },
    {
     "name": "stderr",
     "output_type": "stream",
     "text": [
      "Will train until eval error hasn't decreased in 33 rounds.\n",
      "Stopping. Best iteration:\n",
      "[311]\ttrain-rmspe:0.174003\teval-rmspe:0.155965\n",
      "\n"
     ]
    },
    {
     "name": "stdout",
     "output_type": "stream",
     "text": [
      "Validating\n",
      "XGBoost模型在验证集上的RMSPE:0.156422\n",
      "-------------Trained model done: 182 seconds -------------\n",
      "----------starting to train model using paras-------\n"
     ]
    },
    {
     "data": {
      "text/plain": [
       "{'colsample_bytree': 0.69999999999999996,\n",
       " 'eta': 0.3,\n",
       " 'max_depth': 6,\n",
       " 'min_child_weight': 5,\n",
       " 'objective': 'reg:linear',\n",
       " 'seed': 42,\n",
       " 'silent': 1,\n",
       " 'subsample': 0.89999999999999991}"
      ]
     },
     "metadata": {},
     "output_type": "display_data"
    },
    {
     "name": "stdout",
     "output_type": "stream",
     "text": [
      "early_stopping_round=33\n"
     ]
    },
    {
     "name": "stderr",
     "output_type": "stream",
     "text": [
      "Will train until eval error hasn't decreased in 33 rounds.\n",
      "Stopping. Best iteration:\n",
      "[1631]\ttrain-rmspe:0.109761\teval-rmspe:0.121300\n",
      "\n"
     ]
    },
    {
     "name": "stdout",
     "output_type": "stream",
     "text": [
      "Validating\n",
      "XGBoost模型在验证集上的RMSPE:0.121692\n",
      "-------------Trained model done: 1041 seconds -------------\n",
      "----------starting to train model using paras-------\n"
     ]
    },
    {
     "data": {
      "text/plain": [
       "{'colsample_bytree': 0.79999999999999993,\n",
       " 'eta': 0.3,\n",
       " 'max_depth': 6,\n",
       " 'min_child_weight': 5,\n",
       " 'objective': 'reg:linear',\n",
       " 'seed': 42,\n",
       " 'silent': 1,\n",
       " 'subsample': 0.89999999999999991}"
      ]
     },
     "metadata": {},
     "output_type": "display_data"
    },
    {
     "name": "stdout",
     "output_type": "stream",
     "text": [
      "early_stopping_round=33\n"
     ]
    },
    {
     "name": "stderr",
     "output_type": "stream",
     "text": [
      "Will train until eval error hasn't decreased in 33 rounds.\n",
      "Stopping. Best iteration:\n",
      "[336]\ttrain-rmspe:0.168960\teval-rmspe:0.143713\n",
      "\n"
     ]
    },
    {
     "name": "stdout",
     "output_type": "stream",
     "text": [
      "Validating\n",
      "XGBoost模型在验证集上的RMSPE:0.144992\n",
      "-------------Trained model done: 273 seconds -------------\n",
      "----------starting to train model using paras-------\n"
     ]
    },
    {
     "data": {
      "text/plain": [
       "{'colsample_bytree': 0.89999999999999991,\n",
       " 'eta': 0.3,\n",
       " 'max_depth': 6,\n",
       " 'min_child_weight': 5,\n",
       " 'objective': 'reg:linear',\n",
       " 'seed': 42,\n",
       " 'silent': 1,\n",
       " 'subsample': 0.89999999999999991}"
      ]
     },
     "metadata": {},
     "output_type": "display_data"
    },
    {
     "name": "stdout",
     "output_type": "stream",
     "text": [
      "early_stopping_round=33\n"
     ]
    },
    {
     "name": "stderr",
     "output_type": "stream",
     "text": [
      "Will train until eval error hasn't decreased in 33 rounds.\n",
      "Stopping. Best iteration:\n",
      "[1507]\ttrain-rmspe:0.114029\teval-rmspe:0.123075\n",
      "\n"
     ]
    },
    {
     "name": "stdout",
     "output_type": "stream",
     "text": [
      "Validating\n",
      "XGBoost模型在验证集上的RMSPE:0.123227\n",
      "-------------Trained model done: 1309 seconds -------------\n"
     ]
    }
   ],
   "source": [
    "range_subsample=np.arange(0.6,1.0,0.1)#[0.6,  0.7,  0.8,  0.9]\n",
    "range_colsample_bytree=np.arange(0.6,1.0,0.1)#[0.6,  0.7,  0.8,  0.9]\n",
    "selected_para=best_paras.copy()\n",
    "\n",
    "\n",
    "for subsample in range_subsample:\n",
    "    selected_para['subsample']=subsample\n",
    "    for colsample_bytree in range_colsample_bytree:\n",
    "        selected_para['colsample_bytree']=colsample_bytree        \n",
    "        params = dict(const_para.items() + selected_para.items())\n",
    "        output_paras=create_output_paras(params,early_stopping_round)\n",
    "        if output_paras not in dict_para_valid_model:    \n",
    "            print('----------starting to train model using paras-------')\n",
    "            start_time = time.time()\n",
    "            display(params)\n",
    "            print('early_stopping_round=%s'%early_stopping_round)\n",
    "\n",
    "            gbm_0=xgb.train(params,dtrain,num_boost_round,evals=watchlist,early_stopping_rounds=early_stopping_round,feval=rmspe_xg,verbose_eval=False)\n",
    "\n",
    "            #用训练好的模型预测验证集\n",
    "            print('Validating')\n",
    "            yhat=gbm_0.predict(xgb.DMatrix(X_valid[feature_x_list]))\n",
    "            error=rmspe(np.exp(y_valid),np.exp(yhat))\n",
    "            print('XGBoost模型在验证集上的RMSPE:{:.6f}'.format(error))\n",
    "\n",
    "            #如果新训练模型比以往模型训练效果都好，那么就需要对参数进行更新\n",
    "            if error<min_error:\n",
    "                min_error=error\n",
    "                best_early_stopping_round=early_stopping_round\n",
    "                best_paras=selected_para.copy()\n",
    "\n",
    "\n",
    "            #将模型保存到本地\n",
    "            train_time=(int)(time.time() - start_time)\n",
    "            path='model_saved'\n",
    "            file_name=create_model_name(params,early_stopping_round,error)\n",
    "            gbm_0.save_model(os.path.join(path,file_name))\n",
    "\n",
    "            dict_para_valid_model[(output_paras)]={\n",
    "                'model_name':file_name,\n",
    "                'valid_result':error,\n",
    "                'train_time':train_time}\n",
    "\n",
    "            print(\"-------------Trained model done: %s seconds -------------\" % train_time)        \n"
   ]
  },
  {
   "cell_type": "code",
   "execution_count": 13,
   "metadata": {
    "collapsed": false,
    "scrolled": false
   },
   "outputs": [
    {
     "name": "stdout",
     "output_type": "stream",
     "text": [
      "----------starting to train model using paras-------\n"
     ]
    },
    {
     "data": {
      "text/plain": [
       "{'colsample_bytree': 0.95,\n",
       " 'eta': 0.3,\n",
       " 'max_depth': 6,\n",
       " 'min_child_weight': 5,\n",
       " 'objective': 'reg:linear',\n",
       " 'seed': 42,\n",
       " 'silent': 1,\n",
       " 'subsample': 0.8999999999999999}"
      ]
     },
     "metadata": {},
     "output_type": "display_data"
    },
    {
     "name": "stdout",
     "output_type": "stream",
     "text": [
      "early_stopping_round=33\n"
     ]
    },
    {
     "name": "stderr",
     "output_type": "stream",
     "text": [
      "Will train until eval error hasn't decreased in 33 rounds.\n",
      "Stopping. Best iteration:\n",
      "[1123]\ttrain-rmspe:0.138151\teval-rmspe:0.127073\n",
      "\n"
     ]
    },
    {
     "name": "stdout",
     "output_type": "stream",
     "text": [
      "Validating\n",
      "XGBoost模型在验证集上的RMSPE:0.127134\n",
      "-------------Trained model done: 1048 seconds -------------\n",
      "----------starting to train model using paras-------\n"
     ]
    },
    {
     "data": {
      "text/plain": [
       "{'colsample_bytree': 1.0,\n",
       " 'eta': 0.3,\n",
       " 'max_depth': 6,\n",
       " 'min_child_weight': 5,\n",
       " 'objective': 'reg:linear',\n",
       " 'seed': 42,\n",
       " 'silent': 1,\n",
       " 'subsample': 0.8999999999999999}"
      ]
     },
     "metadata": {},
     "output_type": "display_data"
    },
    {
     "name": "stdout",
     "output_type": "stream",
     "text": [
      "early_stopping_round=33\n"
     ]
    },
    {
     "name": "stderr",
     "output_type": "stream",
     "text": [
      "Will train until eval error hasn't decreased in 33 rounds.\n",
      "Stopping. Best iteration:\n",
      "[1369]\ttrain-rmspe:0.111906\teval-rmspe:0.123004\n",
      "\n"
     ]
    },
    {
     "name": "stdout",
     "output_type": "stream",
     "text": [
      "Validating\n",
      "XGBoost模型在验证集上的RMSPE:0.123216\n",
      "-------------Trained model done: 1291 seconds -------------\n",
      "----------starting to train model using paras-------\n"
     ]
    },
    {
     "data": {
      "text/plain": [
       "{'colsample_bytree': 0.8999999999999999,\n",
       " 'eta': 0.3,\n",
       " 'max_depth': 6,\n",
       " 'min_child_weight': 5,\n",
       " 'objective': 'reg:linear',\n",
       " 'seed': 42,\n",
       " 'silent': 1,\n",
       " 'subsample': 0.95}"
      ]
     },
     "metadata": {},
     "output_type": "display_data"
    },
    {
     "name": "stdout",
     "output_type": "stream",
     "text": [
      "early_stopping_round=33\n"
     ]
    },
    {
     "name": "stderr",
     "output_type": "stream",
     "text": [
      "Will train until eval error hasn't decreased in 33 rounds.\n",
      "Stopping. Best iteration:\n",
      "[866]\ttrain-rmspe:0.136932\teval-rmspe:0.127394\n",
      "\n"
     ]
    },
    {
     "name": "stdout",
     "output_type": "stream",
     "text": [
      "Validating\n",
      "XGBoost模型在验证集上的RMSPE:0.127392\n",
      "-------------Trained model done: 720 seconds -------------\n",
      "----------starting to train model using paras-------\n"
     ]
    },
    {
     "data": {
      "text/plain": [
       "{'colsample_bytree': 1.0,\n",
       " 'eta': 0.3,\n",
       " 'max_depth': 6,\n",
       " 'min_child_weight': 5,\n",
       " 'objective': 'reg:linear',\n",
       " 'seed': 42,\n",
       " 'silent': 1,\n",
       " 'subsample': 0.95}"
      ]
     },
     "metadata": {},
     "output_type": "display_data"
    },
    {
     "name": "stdout",
     "output_type": "stream",
     "text": [
      "early_stopping_round=33\n"
     ]
    },
    {
     "name": "stderr",
     "output_type": "stream",
     "text": [
      "Will train until eval error hasn't decreased in 33 rounds.\n",
      "Stopping. Best iteration:\n",
      "[456]\ttrain-rmspe:0.154600\teval-rmspe:0.137686\n",
      "\n"
     ]
    },
    {
     "name": "stdout",
     "output_type": "stream",
     "text": [
      "Validating\n",
      "XGBoost模型在验证集上的RMSPE:0.137707\n",
      "-------------Trained model done: 430 seconds -------------\n",
      "----------starting to train model using paras-------\n"
     ]
    },
    {
     "data": {
      "text/plain": [
       "{'colsample_bytree': 0.8999999999999999,\n",
       " 'eta': 0.3,\n",
       " 'max_depth': 6,\n",
       " 'min_child_weight': 5,\n",
       " 'objective': 'reg:linear',\n",
       " 'seed': 42,\n",
       " 'silent': 1,\n",
       " 'subsample': 1.0}"
      ]
     },
     "metadata": {},
     "output_type": "display_data"
    },
    {
     "name": "stdout",
     "output_type": "stream",
     "text": [
      "early_stopping_round=33\n"
     ]
    },
    {
     "name": "stderr",
     "output_type": "stream",
     "text": [
      "Will train until eval error hasn't decreased in 33 rounds.\n",
      "Stopping. Best iteration:\n",
      "[793]\ttrain-rmspe:0.143143\teval-rmspe:0.125305\n",
      "\n"
     ]
    },
    {
     "name": "stdout",
     "output_type": "stream",
     "text": [
      "Validating\n",
      "XGBoost模型在验证集上的RMSPE:0.125480\n",
      "-------------Trained model done: 639 seconds -------------\n",
      "----------starting to train model using paras-------\n"
     ]
    },
    {
     "data": {
      "text/plain": [
       "{'colsample_bytree': 0.95,\n",
       " 'eta': 0.3,\n",
       " 'max_depth': 6,\n",
       " 'min_child_weight': 5,\n",
       " 'objective': 'reg:linear',\n",
       " 'seed': 42,\n",
       " 'silent': 1,\n",
       " 'subsample': 1.0}"
      ]
     },
     "metadata": {},
     "output_type": "display_data"
    },
    {
     "name": "stdout",
     "output_type": "stream",
     "text": [
      "early_stopping_round=33\n"
     ]
    },
    {
     "name": "stderr",
     "output_type": "stream",
     "text": [
      "Will train until eval error hasn't decreased in 33 rounds.\n",
      "Stopping. Best iteration:\n",
      "[793]\ttrain-rmspe:0.146430\teval-rmspe:0.129315\n",
      "\n"
     ]
    },
    {
     "name": "stdout",
     "output_type": "stream",
     "text": [
      "Validating\n",
      "XGBoost模型在验证集上的RMSPE:0.129309\n",
      "-------------Trained model done: 674 seconds -------------\n",
      "----------starting to train model using paras-------\n"
     ]
    },
    {
     "data": {
      "text/plain": [
       "{'colsample_bytree': 1.0,\n",
       " 'eta': 0.3,\n",
       " 'max_depth': 6,\n",
       " 'min_child_weight': 5,\n",
       " 'objective': 'reg:linear',\n",
       " 'seed': 42,\n",
       " 'silent': 1,\n",
       " 'subsample': 1.0}"
      ]
     },
     "metadata": {},
     "output_type": "display_data"
    },
    {
     "name": "stdout",
     "output_type": "stream",
     "text": [
      "early_stopping_round=33\n"
     ]
    },
    {
     "name": "stderr",
     "output_type": "stream",
     "text": [
      "Will train until eval error hasn't decreased in 33 rounds.\n",
      "Stopping. Best iteration:\n",
      "[1204]\ttrain-rmspe:0.119069\teval-rmspe:0.121500\n",
      "\n"
     ]
    },
    {
     "name": "stdout",
     "output_type": "stream",
     "text": [
      "Validating\n",
      "XGBoost模型在验证集上的RMSPE:0.121498\n",
      "-------------Trained model done: 1066 seconds -------------\n"
     ]
    }
   ],
   "source": [
    "range_subsample=[best_paras['subsample']-0.05,best_paras['subsample'],(best_paras['subsample']+0.05)]\n",
    "range_colsample_bytree=[(best_paras['colsample_bytree']-0.05),best_paras['colsample_bytree'],(best_paras['colsample_bytree']+0.05)]\n",
    "selected_para=best_paras.copy()\n",
    "\n",
    "\n",
    "for subsample in range_subsample:\n",
    "    selected_para['subsample']=subsample\n",
    "    for colsample_bytree in range_colsample_bytree:\n",
    "        selected_para['colsample_bytree']=colsample_bytree        \n",
    "        params = dict(const_para.items() + selected_para.items())\n",
    "        output_paras=create_output_paras(params,early_stopping_round)\n",
    "        if output_paras not in dict_para_valid_model:    \n",
    "            print('----------starting to train model using paras-------')\n",
    "            start_time = time.time()\n",
    "            display(params)\n",
    "            print('early_stopping_round=%s'%early_stopping_round)\n",
    "\n",
    "            gbm_0=xgb.train(params,dtrain,num_boost_round,evals=watchlist,early_stopping_rounds=early_stopping_round,feval=rmspe_xg,verbose_eval=False)\n",
    "\n",
    "            #用训练好的模型预测验证集\n",
    "            print('Validating')\n",
    "            yhat=gbm_0.predict(xgb.DMatrix(X_valid[feature_x_list]))\n",
    "            error=rmspe(np.exp(y_valid),np.exp(yhat))\n",
    "            print('XGBoost模型在验证集上的RMSPE:{:.6f}'.format(error))\n",
    "\n",
    "            #如果新训练模型比以往模型训练效果都好，那么就需要对参数进行更新\n",
    "            if error<min_error:\n",
    "                min_error=error\n",
    "                best_early_stopping_round=early_stopping_round\n",
    "                best_paras=selected_para.copy()\n",
    "\n",
    "\n",
    "            #将模型保存到本地\n",
    "            train_time=(int)(time.time() - start_time)\n",
    "            path='model_saved'\n",
    "            file_name=create_model_name(params,early_stopping_round,error)\n",
    "            gbm_0.save_model(os.path.join(path,file_name))\n",
    "\n",
    "            dict_para_valid_model[(output_paras)]={\n",
    "                'model_name':file_name,\n",
    "                'valid_result':error,\n",
    "                'train_time':train_time}\n",
    "\n",
    "            print(\"-------------Trained model done: %s seconds -------------\" % train_time)        \n"
   ]
  },
  {
   "cell_type": "markdown",
   "metadata": {},
   "source": [
    "#### 优化后的'colsample_bytree'为 0.95, 'subsample'为 0.95"
   ]
  },
  {
   "cell_type": "markdown",
   "metadata": {},
   "source": [
    "### 4.4 优化 eta 和 early_stop_round \n",
    "- 第一次优化挑出 eta & early_stop_round\n",
    "    - eta 可选范围 0.1,0.2,0.3\n",
    "    - early_stop_round 可选范围 10/eta,20/eta,40/eta,80/eta\n",
    "- 第二次优化\n",
    "    - eta 可选范围[eta-0.05,eta,eta+0.05]\n",
    "    - early_stop_round 可选范围 [early_stop_round/1.5,early_stop_round,early_stop_round*1.5]\n",
    "- 训练前，需要检查该参数组合是否被训练过 "
   ]
  },
  {
   "cell_type": "code",
   "execution_count": 29,
   "metadata": {
    "collapsed": false,
    "scrolled": false
   },
   "outputs": [
    {
     "name": "stdout",
     "output_type": "stream",
     "text": [
      "----------starting to train model using paras-------\n"
     ]
    },
    {
     "data": {
      "text/plain": [
       "{'colsample_bytree': 0.95,\n",
       " 'eta': 0.10000000000000001,\n",
       " 'max_depth': 6,\n",
       " 'min_child_weight': 5,\n",
       " 'objective': 'reg:linear',\n",
       " 'seed': 42,\n",
       " 'silent': 1,\n",
       " 'subsample': 0.95}"
      ]
     },
     "metadata": {},
     "output_type": "display_data"
    },
    {
     "name": "stdout",
     "output_type": "stream",
     "text": [
      "early_stopping_round=100\n"
     ]
    },
    {
     "name": "stderr",
     "output_type": "stream",
     "text": [
      "Will train until eval error hasn't decreased in 100 rounds.\n",
      "Stopping. Best iteration:\n",
      "[6119]\ttrain-rmspe:0.099586\teval-rmspe:0.117331\n",
      "\n"
     ]
    },
    {
     "name": "stdout",
     "output_type": "stream",
     "text": [
      "Validating\n",
      "XGBoost模型在验证集上的RMSPE:0.117333\n",
      "-------------Trained model done: 5224 seconds -------------\n",
      "----------starting to train model using paras-------\n"
     ]
    },
    {
     "data": {
      "text/plain": [
       "{'colsample_bytree': 0.95,\n",
       " 'eta': 0.10000000000000001,\n",
       " 'max_depth': 6,\n",
       " 'min_child_weight': 5,\n",
       " 'objective': 'reg:linear',\n",
       " 'seed': 42,\n",
       " 'silent': 1,\n",
       " 'subsample': 0.95}"
      ]
     },
     "metadata": {},
     "output_type": "display_data"
    },
    {
     "name": "stdout",
     "output_type": "stream",
     "text": [
      "early_stopping_round=200\n"
     ]
    },
    {
     "name": "stderr",
     "output_type": "stream",
     "text": [
      "Will train until eval error hasn't decreased in 200 rounds.\n",
      "Stopping. Best iteration:\n",
      "[7091]\ttrain-rmspe:0.093707\teval-rmspe:0.117003\n",
      "\n"
     ]
    },
    {
     "name": "stdout",
     "output_type": "stream",
     "text": [
      "Validating\n",
      "XGBoost模型在验证集上的RMSPE:0.117048\n",
      "-------------Trained model done: 5898 seconds -------------\n",
      "----------starting to train model using paras-------\n"
     ]
    },
    {
     "data": {
      "text/plain": [
       "{'colsample_bytree': 0.95,\n",
       " 'eta': 0.10000000000000001,\n",
       " 'max_depth': 6,\n",
       " 'min_child_weight': 5,\n",
       " 'objective': 'reg:linear',\n",
       " 'seed': 42,\n",
       " 'silent': 1,\n",
       " 'subsample': 0.95}"
      ]
     },
     "metadata": {},
     "output_type": "display_data"
    },
    {
     "name": "stdout",
     "output_type": "stream",
     "text": [
      "early_stopping_round=400\n"
     ]
    },
    {
     "name": "stderr",
     "output_type": "stream",
     "text": [
      "Will train until eval error hasn't decreased in 400 rounds.\n",
      "Stopping. Best iteration:\n",
      "[7091]\ttrain-rmspe:0.093707\teval-rmspe:0.117003\n",
      "\n"
     ]
    },
    {
     "name": "stdout",
     "output_type": "stream",
     "text": [
      "Validating\n",
      "XGBoost模型在验证集上的RMSPE:0.116992\n",
      "-------------Trained model done: 6030 seconds -------------\n",
      "----------starting to train model using paras-------\n"
     ]
    },
    {
     "data": {
      "text/plain": [
       "{'colsample_bytree': 0.95,\n",
       " 'eta': 0.10000000000000001,\n",
       " 'max_depth': 6,\n",
       " 'min_child_weight': 5,\n",
       " 'objective': 'reg:linear',\n",
       " 'seed': 42,\n",
       " 'silent': 1,\n",
       " 'subsample': 0.95}"
      ]
     },
     "metadata": {},
     "output_type": "display_data"
    },
    {
     "name": "stdout",
     "output_type": "stream",
     "text": [
      "early_stopping_round=800\n"
     ]
    },
    {
     "name": "stderr",
     "output_type": "stream",
     "text": [
      "Will train until eval error hasn't decreased in 800 rounds.\n",
      "Stopping. Best iteration:\n",
      "[9745]\ttrain-rmspe:0.083452\teval-rmspe:0.116482\n",
      "\n"
     ]
    },
    {
     "name": "stdout",
     "output_type": "stream",
     "text": [
      "Validating\n",
      "XGBoost模型在验证集上的RMSPE:0.116998\n",
      "-------------Trained model done: 8515 seconds -------------\n",
      "----------starting to train model using paras-------\n"
     ]
    },
    {
     "data": {
      "text/plain": [
       "{'colsample_bytree': 0.95,\n",
       " 'eta': 0.20000000000000001,\n",
       " 'max_depth': 6,\n",
       " 'min_child_weight': 5,\n",
       " 'objective': 'reg:linear',\n",
       " 'seed': 42,\n",
       " 'silent': 1,\n",
       " 'subsample': 0.95}"
      ]
     },
     "metadata": {},
     "output_type": "display_data"
    },
    {
     "name": "stdout",
     "output_type": "stream",
     "text": [
      "early_stopping_round=50\n"
     ]
    },
    {
     "name": "stderr",
     "output_type": "stream",
     "text": [
      "Will train until eval error hasn't decreased in 50 rounds.\n",
      "Stopping. Best iteration:\n",
      "[1239]\ttrain-rmspe:0.142048\teval-rmspe:0.127171\n",
      "\n"
     ]
    },
    {
     "name": "stdout",
     "output_type": "stream",
     "text": [
      "Validating\n",
      "XGBoost模型在验证集上的RMSPE:0.127218\n",
      "-------------Trained model done: 1099 seconds -------------\n",
      "----------starting to train model using paras-------\n"
     ]
    },
    {
     "data": {
      "text/plain": [
       "{'colsample_bytree': 0.95,\n",
       " 'eta': 0.20000000000000001,\n",
       " 'max_depth': 6,\n",
       " 'min_child_weight': 5,\n",
       " 'objective': 'reg:linear',\n",
       " 'seed': 42,\n",
       " 'silent': 1,\n",
       " 'subsample': 0.95}"
      ]
     },
     "metadata": {},
     "output_type": "display_data"
    },
    {
     "name": "stdout",
     "output_type": "stream",
     "text": [
      "early_stopping_round=100\n"
     ]
    },
    {
     "name": "stderr",
     "output_type": "stream",
     "text": [
      "Will train until eval error hasn't decreased in 100 rounds.\n",
      "Stopping. Best iteration:\n",
      "[1624]\ttrain-rmspe:0.133506\teval-rmspe:0.126017\n",
      "\n"
     ]
    },
    {
     "name": "stdout",
     "output_type": "stream",
     "text": [
      "Validating\n",
      "XGBoost模型在验证集上的RMSPE:0.126107\n",
      "-------------Trained model done: 1443 seconds -------------\n",
      "----------starting to train model using paras-------\n"
     ]
    },
    {
     "data": {
      "text/plain": [
       "{'colsample_bytree': 0.95,\n",
       " 'eta': 0.20000000000000001,\n",
       " 'max_depth': 6,\n",
       " 'min_child_weight': 5,\n",
       " 'objective': 'reg:linear',\n",
       " 'seed': 42,\n",
       " 'silent': 1,\n",
       " 'subsample': 0.95}"
      ]
     },
     "metadata": {},
     "output_type": "display_data"
    },
    {
     "name": "stdout",
     "output_type": "stream",
     "text": [
      "early_stopping_round=200\n"
     ]
    },
    {
     "name": "stderr",
     "output_type": "stream",
     "text": [
      "Will train until eval error hasn't decreased in 200 rounds.\n",
      "Stopping. Best iteration:\n",
      "[4067]\ttrain-rmspe:0.087223\teval-rmspe:0.123614\n",
      "\n"
     ]
    },
    {
     "name": "stdout",
     "output_type": "stream",
     "text": [
      "Validating\n",
      "XGBoost模型在验证集上的RMSPE:0.123774\n",
      "-------------Trained model done: 3499 seconds -------------\n",
      "----------starting to train model using paras-------\n"
     ]
    },
    {
     "data": {
      "text/plain": [
       "{'colsample_bytree': 0.95,\n",
       " 'eta': 0.20000000000000001,\n",
       " 'max_depth': 6,\n",
       " 'min_child_weight': 5,\n",
       " 'objective': 'reg:linear',\n",
       " 'seed': 42,\n",
       " 'silent': 1,\n",
       " 'subsample': 0.95}"
      ]
     },
     "metadata": {},
     "output_type": "display_data"
    },
    {
     "name": "stdout",
     "output_type": "stream",
     "text": [
      "early_stopping_round=400\n"
     ]
    },
    {
     "name": "stderr",
     "output_type": "stream",
     "text": [
      "Will train until eval error hasn't decreased in 400 rounds.\n",
      "Stopping. Best iteration:\n",
      "[4067]\ttrain-rmspe:0.087223\teval-rmspe:0.123614\n",
      "\n"
     ]
    },
    {
     "name": "stdout",
     "output_type": "stream",
     "text": [
      "Validating\n",
      "XGBoost模型在验证集上的RMSPE:0.123674\n",
      "-------------Trained model done: 3670 seconds -------------\n",
      "----------starting to train model using paras-------\n"
     ]
    },
    {
     "data": {
      "text/plain": [
       "{'colsample_bytree': 0.95,\n",
       " 'eta': 0.30000000000000004,\n",
       " 'max_depth': 6,\n",
       " 'min_child_weight': 5,\n",
       " 'objective': 'reg:linear',\n",
       " 'seed': 42,\n",
       " 'silent': 1,\n",
       " 'subsample': 0.95}"
      ]
     },
     "metadata": {},
     "output_type": "display_data"
    },
    {
     "name": "stdout",
     "output_type": "stream",
     "text": [
      "early_stopping_round=66\n"
     ]
    },
    {
     "name": "stderr",
     "output_type": "stream",
     "text": [
      "Will train until eval error hasn't decreased in 66 rounds.\n",
      "Stopping. Best iteration:\n",
      "[2190]\ttrain-rmspe:0.106240\teval-rmspe:0.120232\n",
      "\n"
     ]
    },
    {
     "name": "stdout",
     "output_type": "stream",
     "text": [
      "Validating\n",
      "XGBoost模型在验证集上的RMSPE:0.120259\n",
      "-------------Trained model done: 1841 seconds -------------\n",
      "----------starting to train model using paras-------\n"
     ]
    },
    {
     "data": {
      "text/plain": [
       "{'colsample_bytree': 0.95,\n",
       " 'eta': 0.30000000000000004,\n",
       " 'max_depth': 6,\n",
       " 'min_child_weight': 5,\n",
       " 'objective': 'reg:linear',\n",
       " 'seed': 42,\n",
       " 'silent': 1,\n",
       " 'subsample': 0.95}"
      ]
     },
     "metadata": {},
     "output_type": "display_data"
    },
    {
     "name": "stdout",
     "output_type": "stream",
     "text": [
      "early_stopping_round=133\n"
     ]
    },
    {
     "name": "stderr",
     "output_type": "stream",
     "text": [
      "Will train until eval error hasn't decreased in 133 rounds.\n",
      "Stopping. Best iteration:\n",
      "[2465]\ttrain-rmspe:0.092820\teval-rmspe:0.119796\n",
      "\n"
     ]
    },
    {
     "name": "stdout",
     "output_type": "stream",
     "text": [
      "Validating\n",
      "XGBoost模型在验证集上的RMSPE:0.120639\n",
      "-------------Trained model done: 2131 seconds -------------\n",
      "----------starting to train model using paras-------\n"
     ]
    },
    {
     "data": {
      "text/plain": [
       "{'colsample_bytree': 0.95,\n",
       " 'eta': 0.30000000000000004,\n",
       " 'max_depth': 6,\n",
       " 'min_child_weight': 5,\n",
       " 'objective': 'reg:linear',\n",
       " 'seed': 42,\n",
       " 'silent': 1,\n",
       " 'subsample': 0.95}"
      ]
     },
     "metadata": {},
     "output_type": "display_data"
    },
    {
     "name": "stdout",
     "output_type": "stream",
     "text": [
      "early_stopping_round=266\n"
     ]
    },
    {
     "name": "stderr",
     "output_type": "stream",
     "text": [
      "Will train until eval error hasn't decreased in 266 rounds.\n",
      "Stopping. Best iteration:\n",
      "[2465]\ttrain-rmspe:0.092820\teval-rmspe:0.119796\n",
      "\n"
     ]
    },
    {
     "name": "stdout",
     "output_type": "stream",
     "text": [
      "Validating\n",
      "XGBoost模型在验证集上的RMSPE:0.120516\n",
      "-------------Trained model done: 2240 seconds -------------\n"
     ]
    }
   ],
   "source": [
    "range_eta=np.arange(0.1,0.35,0.1)#[0.1,0.2,0.3]\n",
    "selected_para=best_paras.copy()\n",
    "\n",
    "for eta in range_eta:\n",
    "    selected_para['eta']=eta\n",
    "    range_early_stop_round=[(int)(10/eta),(int)(20/eta),(int)(40/eta),(int)(80/eta)]\n",
    "    for early_stopping_round in range_early_stop_round:\n",
    "        params = dict(const_para.items() + selected_para.items())\n",
    "        output_paras=create_output_paras(params,early_stopping_round)\n",
    "        if output_paras not in dict_para_valid_model:    \n",
    "            print('----------starting to train model using paras-------')\n",
    "            start_time = time.time()\n",
    "            display(params)\n",
    "            print('early_stopping_round=%s'%early_stopping_round)\n",
    "\n",
    "            gbm_0=xgb.train(params,dtrain,num_boost_round,evals=watchlist,early_stopping_rounds=early_stopping_round,feval=rmspe_xg,verbose_eval=False)\n",
    "\n",
    "            #用训练好的模型预测验证集\n",
    "            print('Validating')\n",
    "            yhat=gbm_0.predict(xgb.DMatrix(X_valid[feature_x_list]))\n",
    "            error=rmspe(np.exp(y_valid),np.exp(yhat))\n",
    "            print('XGBoost模型在验证集上的RMSPE:{:.6f}'.format(error))\n",
    "\n",
    "            #如果新训练模型比以往模型训练效果都好，那么就需要对参数进行更新\n",
    "            if error<min_error:\n",
    "                min_error=error\n",
    "                best_early_stopping_round=early_stopping_round\n",
    "                best_paras=selected_para.copy()\n",
    "\n",
    "\n",
    "            #将模型保存到本地\n",
    "            train_time=(int)(time.time() - start_time)\n",
    "            path='model_saved'\n",
    "            file_name=create_model_name(params,early_stopping_round,error)\n",
    "            gbm_0.save_model(os.path.join(path,file_name))\n",
    "\n",
    "            dict_para_valid_model[(output_paras)]={\n",
    "                'model_name':file_name,\n",
    "                'valid_result':error,\n",
    "                'train_time':train_time}\n",
    "\n",
    "            print(\"-------------Trained model done: %s seconds -------------\" % train_time)        \n"
   ]
  },
  {
   "cell_type": "code",
   "execution_count": 30,
   "metadata": {
    "collapsed": false,
    "scrolled": false
   },
   "outputs": [
    {
     "name": "stdout",
     "output_type": "stream",
     "text": [
      "----------starting to train model using paras-------\n"
     ]
    },
    {
     "data": {
      "text/plain": [
       "{'colsample_bytree': 0.95,\n",
       " 'eta': 0.050000000000000003,\n",
       " 'max_depth': 6,\n",
       " 'min_child_weight': 5,\n",
       " 'objective': 'reg:linear',\n",
       " 'seed': 42,\n",
       " 'silent': 1,\n",
       " 'subsample': 0.95}"
      ]
     },
     "metadata": {},
     "output_type": "display_data"
    },
    {
     "name": "stdout",
     "output_type": "stream",
     "text": [
      "early_stopping_round=266\n"
     ]
    },
    {
     "name": "stderr",
     "output_type": "stream",
     "text": [
      "Will train until eval error hasn't decreased in 266 rounds.\n",
      "Stopping. Best iteration:\n",
      "[15151]\ttrain-rmspe:0.094345\teval-rmspe:0.119892\n",
      "\n"
     ]
    },
    {
     "name": "stdout",
     "output_type": "stream",
     "text": [
      "Validating\n",
      "XGBoost模型在验证集上的RMSPE:0.119926\n",
      "-------------Trained model done: 12658 seconds -------------\n",
      "----------starting to train model using paras-------\n"
     ]
    },
    {
     "data": {
      "text/plain": [
       "{'colsample_bytree': 0.95,\n",
       " 'eta': 0.050000000000000003,\n",
       " 'max_depth': 6,\n",
       " 'min_child_weight': 5,\n",
       " 'objective': 'reg:linear',\n",
       " 'seed': 42,\n",
       " 'silent': 1,\n",
       " 'subsample': 0.95}"
      ]
     },
     "metadata": {},
     "output_type": "display_data"
    },
    {
     "name": "stdout",
     "output_type": "stream",
     "text": [
      "early_stopping_round=400\n"
     ]
    },
    {
     "name": "stderr",
     "output_type": "stream",
     "text": [
      "Will train until eval error hasn't decreased in 400 rounds.\n",
      "Stopping. Best iteration:\n",
      "[16097]\ttrain-rmspe:0.090737\teval-rmspe:0.119729\n",
      "\n"
     ]
    },
    {
     "name": "stdout",
     "output_type": "stream",
     "text": [
      "Validating\n",
      "XGBoost模型在验证集上的RMSPE:0.119784\n",
      "-------------Trained model done: 13709 seconds -------------\n",
      "----------starting to train model using paras-------\n"
     ]
    },
    {
     "data": {
      "text/plain": [
       "{'colsample_bytree': 0.95,\n",
       " 'eta': 0.050000000000000003,\n",
       " 'max_depth': 6,\n",
       " 'min_child_weight': 5,\n",
       " 'objective': 'reg:linear',\n",
       " 'seed': 42,\n",
       " 'silent': 1,\n",
       " 'subsample': 0.95}"
      ]
     },
     "metadata": {},
     "output_type": "display_data"
    },
    {
     "name": "stdout",
     "output_type": "stream",
     "text": [
      "early_stopping_round=600\n"
     ]
    },
    {
     "name": "stderr",
     "output_type": "stream",
     "text": [
      "Will train until eval error hasn't decreased in 600 rounds.\n",
      "Stopping. Best iteration:\n",
      "[16097]\ttrain-rmspe:0.090737\teval-rmspe:0.119729\n",
      "\n"
     ]
    },
    {
     "name": "stdout",
     "output_type": "stream",
     "text": [
      "Validating\n",
      "XGBoost模型在验证集上的RMSPE:0.119745\n",
      "-------------Trained model done: 13669 seconds -------------\n",
      "----------starting to train model using paras-------\n"
     ]
    },
    {
     "data": {
      "text/plain": [
       "{'colsample_bytree': 0.95,\n",
       " 'eta': 0.10000000000000001,\n",
       " 'max_depth': 6,\n",
       " 'min_child_weight': 5,\n",
       " 'objective': 'reg:linear',\n",
       " 'seed': 42,\n",
       " 'silent': 1,\n",
       " 'subsample': 0.95}"
      ]
     },
     "metadata": {},
     "output_type": "display_data"
    },
    {
     "name": "stdout",
     "output_type": "stream",
     "text": [
      "early_stopping_round=266\n"
     ]
    },
    {
     "name": "stderr",
     "output_type": "stream",
     "text": [
      "Will train until eval error hasn't decreased in 266 rounds.\n",
      "Stopping. Best iteration:\n",
      "[7091]\ttrain-rmspe:0.093707\teval-rmspe:0.117003\n",
      "\n"
     ]
    },
    {
     "name": "stdout",
     "output_type": "stream",
     "text": [
      "Validating\n",
      "XGBoost模型在验证集上的RMSPE:0.117040\n",
      "-------------Trained model done: 5993 seconds -------------\n",
      "----------starting to train model using paras-------\n"
     ]
    },
    {
     "data": {
      "text/plain": [
       "{'colsample_bytree': 0.95,\n",
       " 'eta': 0.10000000000000001,\n",
       " 'max_depth': 6,\n",
       " 'min_child_weight': 5,\n",
       " 'objective': 'reg:linear',\n",
       " 'seed': 42,\n",
       " 'silent': 1,\n",
       " 'subsample': 0.95}"
      ]
     },
     "metadata": {},
     "output_type": "display_data"
    },
    {
     "name": "stdout",
     "output_type": "stream",
     "text": [
      "early_stopping_round=600\n"
     ]
    },
    {
     "name": "stderr",
     "output_type": "stream",
     "text": [
      "Will train until eval error hasn't decreased in 600 rounds.\n",
      "Stopping. Best iteration:\n",
      "[9745]\ttrain-rmspe:0.083452\teval-rmspe:0.116482\n",
      "\n"
     ]
    },
    {
     "name": "stdout",
     "output_type": "stream",
     "text": [
      "Validating\n",
      "XGBoost模型在验证集上的RMSPE:0.116632\n",
      "-------------Trained model done: 8461 seconds -------------\n",
      "----------starting to train model using paras-------\n"
     ]
    },
    {
     "data": {
      "text/plain": [
       "{'colsample_bytree': 0.95,\n",
       " 'eta': 0.15000000000000002,\n",
       " 'max_depth': 6,\n",
       " 'min_child_weight': 5,\n",
       " 'objective': 'reg:linear',\n",
       " 'seed': 42,\n",
       " 'silent': 1,\n",
       " 'subsample': 0.95}"
      ]
     },
     "metadata": {},
     "output_type": "display_data"
    },
    {
     "name": "stdout",
     "output_type": "stream",
     "text": [
      "early_stopping_round=266\n"
     ]
    },
    {
     "name": "stderr",
     "output_type": "stream",
     "text": [
      "Will train until eval error hasn't decreased in 266 rounds.\n",
      "Stopping. Best iteration:\n",
      "[3771]\ttrain-rmspe:0.102822\teval-rmspe:0.122890\n",
      "\n"
     ]
    },
    {
     "name": "stdout",
     "output_type": "stream",
     "text": [
      "Validating\n",
      "XGBoost模型在验证集上的RMSPE:0.122946\n",
      "-------------Trained model done: 3287 seconds -------------\n",
      "----------starting to train model using paras-------\n"
     ]
    },
    {
     "data": {
      "text/plain": [
       "{'colsample_bytree': 0.95,\n",
       " 'eta': 0.15000000000000002,\n",
       " 'max_depth': 6,\n",
       " 'min_child_weight': 5,\n",
       " 'objective': 'reg:linear',\n",
       " 'seed': 42,\n",
       " 'silent': 1,\n",
       " 'subsample': 0.95}"
      ]
     },
     "metadata": {},
     "output_type": "display_data"
    },
    {
     "name": "stdout",
     "output_type": "stream",
     "text": [
      "early_stopping_round=400\n"
     ]
    },
    {
     "name": "stderr",
     "output_type": "stream",
     "text": [
      "Will train until eval error hasn't decreased in 400 rounds.\n",
      "Stopping. Best iteration:\n",
      "[5347]\ttrain-rmspe:0.088793\teval-rmspe:0.122306\n",
      "\n"
     ]
    },
    {
     "name": "stdout",
     "output_type": "stream",
     "text": [
      "Validating\n",
      "XGBoost模型在验证集上的RMSPE:0.122758\n",
      "-------------Trained model done: 4691 seconds -------------\n",
      "----------starting to train model using paras-------\n"
     ]
    },
    {
     "data": {
      "text/plain": [
       "{'colsample_bytree': 0.95,\n",
       " 'eta': 0.15000000000000002,\n",
       " 'max_depth': 6,\n",
       " 'min_child_weight': 5,\n",
       " 'objective': 'reg:linear',\n",
       " 'seed': 42,\n",
       " 'silent': 1,\n",
       " 'subsample': 0.95}"
      ]
     },
     "metadata": {},
     "output_type": "display_data"
    },
    {
     "name": "stdout",
     "output_type": "stream",
     "text": [
      "early_stopping_round=600\n"
     ]
    },
    {
     "name": "stderr",
     "output_type": "stream",
     "text": [
      "Will train until eval error hasn't decreased in 600 rounds.\n",
      "Stopping. Best iteration:\n",
      "[5347]\ttrain-rmspe:0.088793\teval-rmspe:0.122306\n",
      "\n"
     ]
    },
    {
     "name": "stdout",
     "output_type": "stream",
     "text": [
      "Validating\n",
      "XGBoost模型在验证集上的RMSPE:0.122642\n",
      "-------------Trained model done: 4857 seconds -------------\n"
     ]
    }
   ],
   "source": [
    "range_eta=[best_paras['eta']-0.05,best_paras['eta'],(best_paras['eta']+0.05)]\n",
    "range_early_stop_round=[(int)(best_early_stopping_round/1.5),(int)(best_early_stopping_round),(int)(best_early_stopping_round*1.5)]\n",
    "selected_para=best_paras.copy()\n",
    "\n",
    "for eta in range_eta:\n",
    "    selected_para['eta']=eta\n",
    "    for early_stopping_round in range_early_stop_round:\n",
    "        params = dict(const_para.items() + selected_para.items())\n",
    "        output_paras=create_output_paras(params,early_stopping_round)\n",
    "        if output_paras not in dict_para_valid_model:    \n",
    "            print('----------starting to train model using paras-------')\n",
    "            start_time = time.time()\n",
    "            display(params)\n",
    "            print('early_stopping_round=%s'%early_stopping_round)\n",
    "\n",
    "            gbm_0=xgb.train(params,dtrain,num_boost_round,evals=watchlist,early_stopping_rounds=early_stopping_round,feval=rmspe_xg,verbose_eval=False)\n",
    "\n",
    "            #用训练好的模型预测验证集\n",
    "            print('Validating')\n",
    "            yhat=gbm_0.predict(xgb.DMatrix(X_valid[feature_x_list]))\n",
    "            error=rmspe(np.exp(y_valid),np.exp(yhat))\n",
    "            print('XGBoost模型在验证集上的RMSPE:{:.6f}'.format(error))\n",
    "\n",
    "            #如果新训练模型比以往模型训练效果都好，那么就需要对参数进行更新\n",
    "            if error<min_error:\n",
    "                min_error=error\n",
    "                best_early_stopping_round=early_stopping_round\n",
    "                best_paras=selected_para.copy()\n",
    "\n",
    "\n",
    "            #将模型保存到本地\n",
    "            train_time=(int)(time.time() - start_time)\n",
    "            path='model_saved'\n",
    "            file_name=create_model_name(params,early_stopping_round,error)\n",
    "            gbm_0.save_model(os.path.join(path,file_name))\n",
    "\n",
    "            dict_para_valid_model[(output_paras)]={\n",
    "                'model_name':file_name,\n",
    "                'valid_result':error,\n",
    "                'train_time':train_time}\n",
    "\n",
    "            print(\"-------------Trained model done: %s seconds -------------\" % train_time)        \n"
   ]
  },
  {
   "cell_type": "markdown",
   "metadata": {},
   "source": [
    "#### 优化后的 'eta'为 0.1,'early_stopping_round'为600。"
   ]
  },
  {
   "cell_type": "markdown",
   "metadata": {},
   "source": [
    "### 4.5 将 dict_para_valid_model 用pickle保存起来"
   ]
  },
  {
   "cell_type": "code",
   "execution_count": 35,
   "metadata": {
    "collapsed": false
   },
   "outputs": [],
   "source": [
    "path='model_saved'\n",
    "file_dict_para_valid_model='dict_para_valid_model.pickle'\n",
    "pickle.dump(dict_para_valid_model,open( os.path.join(path, file_dict_para_valid_model), \"wb\" ) )"
   ]
  },
  {
   "cell_type": "markdown",
   "metadata": {},
   "source": [
    "### 4.6 将 dict_para_valid_model 读入，并转换为dataframe格式"
   ]
  },
  {
   "cell_type": "code",
   "execution_count": 36,
   "metadata": {
    "collapsed": false
   },
   "outputs": [],
   "source": [
    "path='model_saved'\n",
    "file_dict_para_valid_model='dict_para_valid_model.pickle'\n",
    "reload_dict_para_valid_model=pickle.load( open( os.path.join(path, file_dict_para_valid_model), \"rb\" ) )"
   ]
  },
  {
   "cell_type": "code",
   "execution_count": 252,
   "metadata": {
    "collapsed": false
   },
   "outputs": [
    {
     "name": "stdout",
     "output_type": "stream",
     "text": [
      "<class 'pandas.core.frame.DataFrame'>\n",
      "RangeIndex: 75 entries, 0 to 74\n",
      "Data columns (total 11 columns):\n",
      "eta                     75 non-null float64\n",
      "max_depth               75 non-null int64\n",
      "min_child_weight        75 non-null int64\n",
      "subsample               75 non-null float64\n",
      "colsample_bytree        75 non-null float64\n",
      "seed                    75 non-null int64\n",
      "early_stopping_round    75 non-null int64\n",
      "dict_key                75 non-null object\n",
      "train_time              75 non-null float64\n",
      "model_name              75 non-null object\n",
      "valid_result            75 non-null float64\n",
      "dtypes: float64(5), int64(4), object(2)\n",
      "memory usage: 6.5+ KB\n"
     ]
    }
   ],
   "source": [
    "def convert_dict_para_valid_model_toDataFrame(input_dict):\n",
    "    key_columns_name=['eta','max_depth','min_child_weight','subsample','colsample_bytree','seed','early_stopping_round']\n",
    "    # 将keys的tuple转换为几列\n",
    "    df=pd.DataFrame(input_dict.keys(),columns=key_columns_name)\n",
    "    df['dict_key']=df[key_columns_name].apply(tuple,axis=1)     \n",
    "    # value转为几列\n",
    "    for index, row in df.iterrows():\n",
    "        df.loc[index,'train_time']=input_dict[row['dict_key']]['train_time']\n",
    "        df.loc[index,'model_name']=input_dict[row['dict_key']]['model_name']\n",
    "        df.loc[index,'valid_result']=input_dict[row['dict_key']]['valid_result']\n",
    "    return df\n",
    "\n",
    "df_para_valid_model=convert_dict_para_valid_model_toDataFrame(reload_dict_para_valid_model)\n",
    "df_para_valid_model.info()"
   ]
  },
  {
   "cell_type": "code",
   "execution_count": 86,
   "metadata": {
    "collapsed": false
   },
   "outputs": [
    {
     "data": {
      "text/html": [
       "<div>\n",
       "<table border=\"1\" class=\"dataframe\">\n",
       "  <thead>\n",
       "    <tr style=\"text-align: right;\">\n",
       "      <th></th>\n",
       "      <th>eta</th>\n",
       "      <th>max_depth</th>\n",
       "      <th>min_child_weight</th>\n",
       "      <th>subsample</th>\n",
       "      <th>colsample_bytree</th>\n",
       "      <th>seed</th>\n",
       "      <th>early_stopping_round</th>\n",
       "      <th>dict_key</th>\n",
       "      <th>train_time</th>\n",
       "      <th>model_name</th>\n",
       "      <th>valid_result</th>\n",
       "    </tr>\n",
       "  </thead>\n",
       "  <tbody>\n",
       "    <tr>\n",
       "      <th>0</th>\n",
       "      <td>0.3</td>\n",
       "      <td>7</td>\n",
       "      <td>7</td>\n",
       "      <td>0.95</td>\n",
       "      <td>0.95</td>\n",
       "      <td>42</td>\n",
       "      <td>33</td>\n",
       "      <td>(0.3, 7.0, 7.0, 0.95, 0.95, 42.0, 33.0)</td>\n",
       "      <td>874.0</td>\n",
       "      <td>rsmpe12623sd42md7mcw7sd42s95cb95eta30es33.model</td>\n",
       "      <td>0.126238</td>\n",
       "    </tr>\n",
       "    <tr>\n",
       "      <th>1</th>\n",
       "      <td>0.4</td>\n",
       "      <td>6</td>\n",
       "      <td>5</td>\n",
       "      <td>0.95</td>\n",
       "      <td>0.95</td>\n",
       "      <td>42</td>\n",
       "      <td>33</td>\n",
       "      <td>(0.4, 6.0, 5.0, 0.95, 0.95, 42.0, 33.0)</td>\n",
       "      <td>825.0</td>\n",
       "      <td>rsmpe13295sd42md6mcw5sd42s95cb95eta40es33.model</td>\n",
       "      <td>0.132951</td>\n",
       "    </tr>\n",
       "  </tbody>\n",
       "</table>\n",
       "</div>"
      ],
      "text/plain": [
       "   eta  max_depth  min_child_weight  subsample  colsample_bytree  seed  \\\n",
       "0  0.3          7                 7       0.95              0.95    42   \n",
       "1  0.4          6                 5       0.95              0.95    42   \n",
       "\n",
       "   early_stopping_round                                 dict_key  train_time  \\\n",
       "0                    33  (0.3, 7.0, 7.0, 0.95, 0.95, 42.0, 33.0)       874.0   \n",
       "1                    33  (0.4, 6.0, 5.0, 0.95, 0.95, 42.0, 33.0)       825.0   \n",
       "\n",
       "                                        model_name  valid_result  \n",
       "0  rsmpe12623sd42md7mcw7sd42s95cb95eta30es33.model      0.126238  \n",
       "1  rsmpe13295sd42md6mcw5sd42s95cb95eta40es33.model      0.132951  "
      ]
     },
     "execution_count": 86,
     "metadata": {},
     "output_type": "execute_result"
    }
   ],
   "source": [
    "df_para_valid_model.head(n=2)"
   ]
  },
  {
   "cell_type": "markdown",
   "metadata": {},
   "source": [
    "### 4.7 将 参数优化grid search 过程进行Heatmap展示"
   ]
  },
  {
   "cell_type": "markdown",
   "metadata": {},
   "source": [
    "#### 4.7.1 展示 max_depth 和 min_child_weight 的grid search结果"
   ]
  },
  {
   "cell_type": "code",
   "execution_count": 309,
   "metadata": {
    "collapsed": false
   },
   "outputs": [
    {
     "data": {
      "image/png": "[encoded data removed]",
      "text/plain": [
       "<matplotlib.figure.Figure at 0x17c8cadd0>"
      ]
     },
     "metadata": {},
     "output_type": "display_data"
    }
   ],
   "source": [
    "num_col=4\n",
    "num_row=3\n",
    "index_data = {'max_depth': list(itertools.chain(*([[i]*num_row for i in [4,6,8,10]]))), \n",
    "'min_child_weight':[2,4,6]*num_col}\n",
    "frame = DataFrame(index_data)\n",
    "for index,row in frame.iterrows():\n",
    "    mask=(df_para_valid_model['max_depth']==row['max_depth']) &(df_para_valid_model['min_child_weight']==row['min_child_weight'])\\\n",
    "        &(df_para_valid_model['subsample']==0.95)&(df_para_valid_model['colsample_bytree']==0.95)\\\n",
    "        &(df_para_valid_model['eta']==0.3) &( df_para_valid_model['early_stopping_round']==33)\n",
    "    frame.loc[index,'rmspe']= df_para_valid_model.loc[mask,'valid_result'].values[0]\n",
    "\n",
    "    \n",
    "plt.figure(figsize=[2*num_col,2*num_row])\n",
    "ax=plt.axes()\n",
    "sns.heatmap(pd.pivot_table(frame,index='min_child_weight',columns='max_depth',values='rmspe'),\n",
    "            annot=True,fmt='.6f',ax=ax            \n",
    "           )\n",
    "ax.set_title('rmspe grid searc on max-depth & min_child_weight')\n",
    "plt.show()"
   ]
  },
  {
   "cell_type": "code",
   "execution_count": 310,
   "metadata": {
    "collapsed": false
   },
   "outputs": [
    {
     "data": {
      "image/png": "[encoded data removed]",
      "text/plain": [
       "<matplotlib.figure.Figure at 0x1861837d0>"
      ]
     },
     "metadata": {},
     "output_type": "display_data"
    }
   ],
   "source": [
    "num_col=3\n",
    "num_row=3\n",
    "index_data = {'max_depth': list(itertools.chain(*([[i]*num_row for i in [5,6,7]]))), \n",
    "'min_child_weight':[5,6,7]*num_col}\n",
    "frame = DataFrame(index_data)\n",
    "for index,row in frame.iterrows():\n",
    "    mask=(df_para_valid_model['max_depth']==row['max_depth']) &(df_para_valid_model['min_child_weight']==row['min_child_weight'])\\\n",
    "        &(df_para_valid_model['subsample']==0.95)&(df_para_valid_model['colsample_bytree']==0.95)\\\n",
    "        &(df_para_valid_model['eta']==0.3) &( df_para_valid_model['early_stopping_round']==33)\n",
    "    frame.loc[index,'rmspe']= df_para_valid_model.loc[mask,'valid_result'].values[0]\n",
    "\n",
    "    \n",
    "plt.figure(figsize=[2*num_col,2*num_row])\n",
    "ax=plt.axes()\n",
    "sns.heatmap(pd.pivot_table(frame,index='min_child_weight',columns='max_depth',values='rmspe'),\n",
    "            annot=True,fmt='.6f',ax=ax            \n",
    "           )\n",
    "ax.set_title('rmspe grid searc on max-depth & min_child_weight')\n",
    "plt.show()"
   ]
  },
  {
   "cell_type": "markdown",
   "metadata": {},
   "source": [
    "#### 4.7.2 展示 subsample 和 colsample_bytree 的grid search结果"
   ]
  },
  {
   "cell_type": "code",
   "execution_count": 351,
   "metadata": {
    "collapsed": false
   },
   "outputs": [
    {
     "data": {
      "image/png": "[encoded data removed]",
      "text/plain": [
       "<matplotlib.figure.Figure at 0x17c88f350>"
      ]
     },
     "metadata": {},
     "output_type": "display_data"
    }
   ],
   "source": [
    "num_col=4\n",
    "num_row=4\n",
    "index_data = {'subsample': list(itertools.chain(*([[i]*num_row for i in [0.6,0.7,0.8,0.9]]))), \n",
    "'colsample_bytree':[0.6,0.7,0.8,0.9]*num_col}\n",
    "frame = DataFrame(index_data)\n",
    "\n",
    "for index,row in frame.iterrows():\n",
    "    mask=(df_para_valid_model['max_depth']==6) &(df_para_valid_model['min_child_weight']==5)\\\n",
    "        &(df_para_valid_model['subsample']>(row['subsample']-0.001))&(df_para_valid_model['subsample']<(row['subsample']+0.001))\\\n",
    "        &(df_para_valid_model['colsample_bytree']>(row['colsample_bytree']-0.001))&(df_para_valid_model['colsample_bytree']<(row['colsample_bytree']+0.001))\\\n",
    "        &(df_para_valid_model['eta']==0.3) &( df_para_valid_model['early_stopping_round']==33)\n",
    "    assert np.sum(mask)==1\n",
    "    frame.loc[index,'rmspe']= df_para_valid_model.loc[mask,'valid_result'].values[0]\n",
    "    \n",
    "plt.figure(figsize=[2*num_col,2*num_row])\n",
    "ax=plt.axes()\n",
    "sns.heatmap(pd.pivot_table(frame,index='subsample',columns='colsample_bytree',values='rmspe'),\n",
    "            annot=True,fmt='.6f',ax=ax            \n",
    "           )\n",
    "ax.set_title('rmspe grid searc on subsample & colsample_bytree')\n",
    "plt.show()"
   ]
  },
  {
   "cell_type": "code",
   "execution_count": 352,
   "metadata": {
    "collapsed": false
   },
   "outputs": [
    {
     "data": {
      "image/png": "[encoded data removed]",
      "text/plain": [
       "<matplotlib.figure.Figure at 0x15e42c350>"
      ]
     },
     "metadata": {},
     "output_type": "display_data"
    }
   ],
   "source": [
    "num_col=3\n",
    "num_row=3\n",
    "index_data = {'subsample': list(itertools.chain(*([[i]*num_row for i in [0.9,0.95,1.0]]))), \n",
    "'colsample_bytree':[0.9,0.95,1.0]*num_col}\n",
    "frame = DataFrame(index_data)\n",
    "\n",
    "for index,row in frame.iterrows():\n",
    "    mask=(df_para_valid_model['max_depth']==6) &(df_para_valid_model['min_child_weight']==5)\\\n",
    "        &(df_para_valid_model['subsample']>(row['subsample']-0.001))&(df_para_valid_model['subsample']<(row['subsample']+0.001))\\\n",
    "        &(df_para_valid_model['colsample_bytree']>(row['colsample_bytree']-0.001))&(df_para_valid_model['colsample_bytree']<(row['colsample_bytree']+0.001))\\\n",
    "        &(df_para_valid_model['eta']==0.3) &( df_para_valid_model['early_stopping_round']==33)\n",
    "    assert np.sum(mask)==1\n",
    "    frame.loc[index,'rmspe']= df_para_valid_model.loc[mask,'valid_result'].values[0]\n",
    "    \n",
    "plt.figure(figsize=[2*num_col,2*num_row])\n",
    "ax=plt.axes()\n",
    "sns.heatmap(pd.pivot_table(frame,index='subsample',columns='colsample_bytree',values='rmspe'),\n",
    "            annot=True,fmt='.6f',ax=ax            \n",
    "           )\n",
    "ax.set_title('rmspe grid searc on subsample & colsample_bytree')\n",
    "plt.show()"
   ]
  },
  {
   "cell_type": "markdown",
   "metadata": {},
   "source": [
    "#### 4.7.3 展示 eta 和 early_stop_round 的grid search结果"
   ]
  },
  {
   "cell_type": "code",
   "execution_count": 387,
   "metadata": {
    "collapsed": false
   },
   "outputs": [
    {
     "data": {
      "image/png": "[encoded data removed]",
      "text/plain": [
       "<matplotlib.figure.Figure at 0x185db8250>"
      ]
     },
     "metadata": {},
     "output_type": "display_data"
    }
   ],
   "source": [
    "frame = DataFrame([])\n",
    "num_col=3\n",
    "num_row=4\n",
    "frame['eta']=[0.1,0.2,0.3]*num_row\n",
    "frame['ratio']=list(itertools.chain(*([[i]*num_col for i in [10,20,40,80]])))\n",
    "frame['early_stopping_round']=[int(row['ratio']/row['eta']) for index,row in frame.iterrows()]\n",
    "frame['early_stopping_round_display']=[str(int(row['ratio'])) +'/eta' for index,row in frame.iterrows()]\n",
    "\n",
    "\n",
    "\n",
    "for index,row in frame.iterrows():\n",
    "    mask=(df_para_valid_model['max_depth']==6) &(df_para_valid_model['min_child_weight']==5)\\\n",
    "        &(df_para_valid_model['subsample']>(0.95-0.001))&(df_para_valid_model['subsample']<(0.95+0.001))\\\n",
    "        &(df_para_valid_model['colsample_bytree']>(0.95-0.001))&(df_para_valid_model['colsample_bytree']<(0.95+0.001))\\\n",
    "        &(df_para_valid_model['eta']>(row['eta']-0.001))&(df_para_valid_model['eta']<(row['eta']+0.001))\\\n",
    "        &( df_para_valid_model['early_stopping_round']==row['early_stopping_round'])\n",
    "\n",
    "\n",
    "    assert np.sum(mask)<=2\n",
    "    frame.loc[index,'rmspe']= df_para_valid_model.loc[mask,'valid_result'].values[0]\n",
    "    \n",
    "plt.figure(figsize=[2*num_row,2*num_col])\n",
    "ax=plt.axes()\n",
    "sns.heatmap(pd.pivot_table(frame,columns='early_stopping_round_display',index='eta',values='rmspe'),\n",
    "            annot=True,fmt='.6f',ax=ax            \n",
    "           )\n",
    "ax.set_title('rmspe grid searc on eta & early_stop_round')\n",
    "plt.show()"
   ]
  },
  {
   "cell_type": "code",
   "execution_count": 405,
   "metadata": {
    "collapsed": false
   },
   "outputs": [
    {
     "data": {
      "image/png": "[encoded data removed]",
      "text/plain": [
       "<matplotlib.figure.Figure at 0x187e40350>"
      ]
     },
     "metadata": {},
     "output_type": "display_data"
    }
   ],
   "source": [
    "frame = DataFrame([])\n",
    "num_col=3\n",
    "num_row=3\n",
    "\n",
    "frame['eta']=[0.05,0.1,0.15]*num_row\n",
    "frame['early_stopping_round']=list(itertools.chain(*([[i]*num_col for i in [266,400,600]])))\n",
    "\n",
    "for index,row in frame.iterrows():\n",
    "    mask=(df_para_valid_model['max_depth']==6) &(df_para_valid_model['min_child_weight']==5)\\\n",
    "        &(df_para_valid_model['subsample']>(0.95-0.001))&(df_para_valid_model['subsample']<(0.95+0.001))\\\n",
    "        &(df_para_valid_model['colsample_bytree']>(0.95-0.001))&(df_para_valid_model['colsample_bytree']<(0.95+0.001))\\\n",
    "        &(df_para_valid_model['eta']>(row['eta']-0.001))&(df_para_valid_model['eta']<(row['eta']+0.001))\\\n",
    "        &( df_para_valid_model['early_stopping_round']==row['early_stopping_round'])\n",
    "\n",
    "    assert np.sum(mask)==1\n",
    "    frame.loc[index,'rmspe']= df_para_valid_model.loc[mask,'valid_result'].values[0]\n",
    "    \n",
    "plt.figure(figsize=[2*num_row,2*num_col])\n",
    "ax=plt.axes()\n",
    "sns.heatmap(pd.pivot_table(frame,columns='early_stopping_round',index='eta',values='rmspe'),\n",
    "            annot=True,fmt='.6f',ax=ax            \n",
    "           )\n",
    "ax.set_title('rmspe grid searc on eta & early_stop_round')\n",
    "plt.show()"
   ]
  },
  {
   "cell_type": "markdown",
   "metadata": {},
   "source": [
    "### 4.8 将在验证集上效果最好的10个模型用来预测测试集，并输出\n",
    "- 将输出的结果提交到kaggle上，并记录Leader board的得分"
   ]
  },
  {
   "cell_type": "code",
   "execution_count": 105,
   "metadata": {
    "collapsed": false
   },
   "outputs": [
    {
     "name": "stdout",
     "output_type": "stream",
     "text": [
      "-------Start to predict using model：rsmpe11663sd42md6mcw5sd42s95cb95eta10es600.model\n",
      "-------Start to predict using model：rsmpe11699sd42md6mcw5sd42s95cb95eta10es400.model\n",
      "-------Start to predict using model：rsmpe11699sd42md6mcw5sd42s95cb95eta10es800.model\n",
      "-------Start to predict using model：rsmpe11704sd42md6mcw5sd42s95cb95eta10es266.model\n",
      "-------Start to predict using model：rsmpe11704sd42md6mcw5sd42s95cb95eta10es200.model\n",
      "-------Start to predict using model：rsmpe11733sd42md6mcw5sd42s95cb95eta10es100.model\n",
      "-------Start to predict using model：rsmpe11974sd42md6mcw5sd42s95cb95eta5es600.model\n",
      "-------Start to predict using model：rsmpe11978sd42md6mcw5sd42s95cb95eta5es400.model\n",
      "-------Start to predict using model：rsmpe11992sd42md6mcw5sd42s95cb95eta5es266.model\n",
      "-------Start to predict using model：rsmpe12025sd42md6mcw5sd42s95cb95eta30es66.model\n"
     ]
    }
   ],
   "source": [
    "num_test=10\n",
    "top_models=df_para_valid_model.sort_values(['valid_result'])[:num_test]['model_name']\n",
    "\n",
    "#数据准备\n",
    "mask_test=(modified_test_store_raw_df['Open']==1)\n",
    "X_test=modified_test_store_raw_df.loc[mask_test,feature_x_list]\n",
    "dtest=xgb.DMatrix(X_test[feature_x_list])\n",
    "for i in top_models:\n",
    "    print('-------Start to predict using model：'+i)\n",
    "    #reload model from local\n",
    "    reload_xgb_model=xgb.Booster()\n",
    "    reload_xgb_model.load_model(os.path.join('model_saved',i) )\n",
    "    \n",
    "    #预测测试集\n",
    "    test_data=modified_test_store_raw_df.copy()\n",
    "    mask_test=(test_data['Open']==1)\n",
    "    test_probs=reload_xgb_model.predict(dtest)\n",
    "    test_data['Sales_Predicted']=0\n",
    "    test_data.loc[mask_test,'Sales_Predicted']=test_probs\n",
    "\n",
    "    #make submission\n",
    "    result=pd.DataFrame({\"Id\":test_data['Id'],'Sales':np.expm1(test_data['Sales_Predicted'])})\n",
    "    path='output_csv'\n",
    "    file_name=os.path.splitext(i)[0]+'.csv'\n",
    "    result.to_csv(os.path.join(path,file_name),index=False)"
   ]
  },
  {
   "cell_type": "code",
   "execution_count": null,
   "metadata": {
    "collapsed": true
   },
   "outputs": [],
   "source": []
  },
  {
   "cell_type": "markdown",
   "metadata": {},
   "source": [
    "### 4.8 使用验证集效果最好的模型作为xgboost的基准模型\n",
    "#### 4.8.1 保存模型，输出预测结果"
   ]
  },
  {
   "cell_type": "code",
   "execution_count": 121,
   "metadata": {
    "collapsed": false
   },
   "outputs": [],
   "source": [
    "#加载benchmark model\n",
    "benchmark_xgboost_model=xgb.Booster()\n",
    "benchmark_xgboost_model_name=top_models.values[0]\n",
    "benchmark_xgboost_model.load_model(os.path.join('model_saved',benchmark_xgboost_model_name) )\n",
    "#预测测试集\n",
    "test_data=modified_test_store_raw_df.copy()\n",
    "mask_test=(test_data['Open']==1)\n",
    "test_probs=benchmark_xgboost_model.predict(dtest)\n",
    "test_data['Sales_Predicted']=0\n",
    "test_data.loc[mask_test,'Sales_Predicted']=test_probs\n",
    "\n",
    "#make submission\n",
    "result=pd.DataFrame({\"Id\":test_data['Id'],'Sales':np.expm1(test_data['Sales_Predicted'])})\n",
    "path='output_csv'\n",
    "file_name='benchmark_xgboost_model.csv'\n",
    "result.to_csv(os.path.join(path,file_name),index=False)\n",
    "\n",
    "# save model\n",
    "benchmark_xgboost_model.save_model(os.path.join('model_saved','benchmark_xgboost_model.model'))"
   ]
  },
  {
   "cell_type": "code",
   "execution_count": 124,
   "metadata": {
    "collapsed": false,
    "scrolled": false
   },
   "outputs": [
    {
     "name": "stdout",
     "output_type": "stream",
     "text": [
      "Paras for benchmark_xgboost_model:\n"
     ]
    },
    {
     "data": {
      "text/html": [
       "<div>\n",
       "<table border=\"1\" class=\"dataframe\">\n",
       "  <thead>\n",
       "    <tr style=\"text-align: right;\">\n",
       "      <th></th>\n",
       "      <th>eta</th>\n",
       "      <th>max_depth</th>\n",
       "      <th>min_child_weight</th>\n",
       "      <th>subsample</th>\n",
       "      <th>colsample_bytree</th>\n",
       "      <th>seed</th>\n",
       "      <th>early_stopping_round</th>\n",
       "      <th>dict_key</th>\n",
       "      <th>train_time</th>\n",
       "      <th>model_name</th>\n",
       "      <th>valid_result</th>\n",
       "    </tr>\n",
       "  </thead>\n",
       "  <tbody>\n",
       "    <tr>\n",
       "      <th>56</th>\n",
       "      <td>0.1</td>\n",
       "      <td>6</td>\n",
       "      <td>5</td>\n",
       "      <td>0.95</td>\n",
       "      <td>0.95</td>\n",
       "      <td>42</td>\n",
       "      <td>600</td>\n",
       "      <td>(0.1, 6.0, 5.0, 0.95, 0.95, 42.0, 600.0)</td>\n",
       "      <td>8461.0</td>\n",
       "      <td>rsmpe11663sd42md6mcw5sd42s95cb95eta10es600.model</td>\n",
       "      <td>0.116632</td>\n",
       "    </tr>\n",
       "  </tbody>\n",
       "</table>\n",
       "</div>"
      ],
      "text/plain": [
       "    eta  max_depth  min_child_weight  subsample  colsample_bytree  seed  \\\n",
       "56  0.1          6                 5       0.95              0.95    42   \n",
       "\n",
       "    early_stopping_round                                  dict_key  \\\n",
       "56                   600  (0.1, 6.0, 5.0, 0.95, 0.95, 42.0, 600.0)   \n",
       "\n",
       "    train_time                                        model_name  valid_result  \n",
       "56      8461.0  rsmpe11663sd42md6mcw5sd42s95cb95eta10es600.model      0.116632  "
      ]
     },
     "metadata": {},
     "output_type": "display_data"
    }
   ],
   "source": [
    "print('Paras for benchmark_xgboost_model:')\n",
    "display(df_para_valid_model.sort_values(['valid_result'])[:1])"
   ]
  },
  {
   "cell_type": "code",
   "execution_count": 472,
   "metadata": {
    "collapsed": false
   },
   "outputs": [
    {
     "name": "stdout",
     "output_type": "stream",
     "text": [
      "Total training time=156820.0 seconds\n",
      "Total training time=2613.7 minutes\n",
      "Total training time=43.6 hours\n"
     ]
    }
   ],
   "source": [
    "print('Total training time=%.1f seconds'%np.sum(df_para_valid_model.train_time))\n",
    "print('Total training time=%.1f minutes'%((np.sum(df_para_valid_model.train_time))/60))\n",
    "print('Total training time=%.1f hours'%((np.sum(df_para_valid_model.train_time))/3600))"
   ]
  },
  {
   "cell_type": "markdown",
   "metadata": {},
   "source": [
    "#### 4.8.2 保存最优参数"
   ]
  },
  {
   "cell_type": "code",
   "execution_count": 222,
   "metadata": {
    "collapsed": false
   },
   "outputs": [],
   "source": [
    "param_xgboost_benchmark=dict(const_para.items() + best_paras.items())\n",
    "param_xgboost_benchmark['best_early_stopping_round']=best_early_stopping_round\n",
    "\n",
    "path='model_saved'\n",
    "file_param_xgboost_benchmark='param_xgboost_benchmark.pickle'\n",
    "pickle.dump( param_xgboost_benchmark, open( os.path.join(path, file_param_xgboost_benchmark), \"wb\" ) )"
   ]
  },
  {
   "cell_type": "code",
   "execution_count": 223,
   "metadata": {
    "collapsed": false
   },
   "outputs": [
    {
     "data": {
      "text/plain": [
       "({'colsample_bytree': 0.95,\n",
       "  'eta': 0.10000000000000001,\n",
       "  'max_depth': 6,\n",
       "  'min_child_weight': 5,\n",
       "  'objective': 'reg:linear',\n",
       "  'seed': 42,\n",
       "  'silent': 1,\n",
       "  'subsample': 0.95},\n",
       " 600)"
      ]
     },
     "execution_count": 223,
     "metadata": {},
     "output_type": "execute_result"
    }
   ],
   "source": [
    "def load_param_earlyStopRound(file_add):\n",
    "    data=pickle.load( open( file_add, \"rb\" ) )\n",
    "    early_top_round=data['best_early_stopping_round']\n",
    "    del data['best_early_stopping_round']\n",
    "    return data,early_top_round\n",
    "    \n",
    "load_param_earlyStopRound(os.path.join(path, file_param_xgboost_benchmark))"
   ]
  },
  {
   "cell_type": "markdown",
   "metadata": {},
   "source": [
    "测试集的Public Score和Private Score为0.11547和0.12153"
   ]
  },
  {
   "cell_type": "markdown",
   "metadata": {},
   "source": [
    "### 4.9 最终模型结果分析\n",
    "#### 4.9.1 feature importance"
   ]
  },
  {
   "cell_type": "code",
   "execution_count": 125,
   "metadata": {
    "collapsed": false,
    "scrolled": false
   },
   "outputs": [
    {
     "data": {
      "text/plain": [
       "<matplotlib.text.Text at 0x114b13a90>"
      ]
     },
     "execution_count": 125,
     "metadata": {},
     "output_type": "execute_result"
    },
    {
     "data": {
      "image/png": "[encoded data removed]",
      "text/plain": [
       "<matplotlib.figure.Figure at 0x115460250>"
      ]
     },
     "metadata": {},
     "output_type": "display_data"
    }
   ],
   "source": [
    "# XGB feature importances\n",
    "# Based on https://www.kaggle.com/mmueller/liberty-mutual-group-property-inspection-prediction/xgb-feature-importance-python/code\n",
    "features=feature_x_list\n",
    "def create_feature_map(features):\n",
    "    outfile=open('xgb.fmap','w')\n",
    "    for i, feat in enumerate(features):\n",
    "        outfile.write('{0}\\t{1}\\tq\\n'.format(i,feat))\n",
    "    outfile.close()\n",
    "create_feature_map(features)\n",
    "importance=benchmark_xgboost_model.get_fscore(fmap='xgb.fmap')\n",
    "importance=sorted(importance.items(),key=operator.itemgetter(1))\n",
    "\n",
    "df=pd.DataFrame(importance,columns=['feature','fscore'])\n",
    "df['fscore']=df['fscore']/df['fscore'].sum()\n",
    "\n",
    "featp=df.plot(kind='barh',x='feature',y='fscore',legend=False,figsize=(6,10))\n",
    "plt.title('XGBoost Feature Importance')\n",
    "plt.xlabel('relative importance')\n",
    "# fig_featp=featp.get_figure()\n",
    "# fig_featp.savefig('Kaggle_Kernel_3_XGBoost_Feature_Importance/feature_importance_xgb.png',bbox_inches='tight',pad_inches=1)\n"
   ]
  },
  {
   "cell_type": "markdown",
   "metadata": {},
   "source": [
    "#### 4.10 分析benchmark_xgboost_model模型训练集上的的误差值\n",
    "##### 4.10.1 计算得到 Sales_Predicted, Abs_Percent_Error"
   ]
  },
  {
   "cell_type": "code",
   "execution_count": 128,
   "metadata": {
    "collapsed": true
   },
   "outputs": [],
   "source": [
    "# 定义mask_valid\n",
    "startValidDate='2015-06-15'\n",
    "mask_valid=(modified_train_store_raw_df['Date']>=startValidDate)\\\n",
    "            & (modified_train_store_raw_df['Open']==1)\\\n",
    "            & (modified_train_store_raw_df['Sales']>0)\n",
    "# 使用benchmark_xgboost_model对dvalid进行预测，并赋值给valid_data\n",
    "valid_data=modified_train_store_raw_df.copy()\n",
    "valid_data['Sales_Predicted']=0\n",
    "valid_prediction=benchmark_xgboost_model.predict(dvalid)\n",
    "valid_data.loc[mask_valid,'Sales_Predicted']=np.expm1(valid_prediction)"
   ]
  },
  {
   "cell_type": "code",
   "execution_count": 132,
   "metadata": {
    "collapsed": true
   },
   "outputs": [],
   "source": [
    "valid_data['Abs_Percent_Error']=0\n",
    "valid_data.loc[mask_valid,'Abs_Percent_Error']=abs(valid_data.loc[mask_valid,'Sales_Predicted']-valid_data.loc[mask_valid,'Sales'])/valid_data.loc[mask_valid,'Sales']"
   ]
  },
  {
   "cell_type": "markdown",
   "metadata": {},
   "source": [
    "##### 4.10.2 对 Abs_Percent_Error 进行可视化"
   ]
  },
  {
   "cell_type": "code",
   "execution_count": 424,
   "metadata": {
    "collapsed": false
   },
   "outputs": [
    {
     "data": {
      "image/png": "[encoded data removed]",
      "text/plain": [
       "<matplotlib.figure.Figure at 0x14355e290>"
      ]
     },
     "metadata": {},
     "output_type": "display_data"
    }
   ],
   "source": [
    "mask=(modified_train_store_raw_df['Date']>=startValidDate) & valid_data.Sales>0\n",
    "RMSPE_Sales_days=valid_data[mask].groupby('Date')['Abs_Percent_Error'].apply(np.mean\n",
    "                                                                            )\n",
    "\n",
    "fig,(axis1)=plt.subplots(1,1,sharex=True,figsize=(15,5))\n",
    "\n",
    "#plot average sales abs percent error\n",
    "ax1=RMSPE_Sales_days.plot(legend=True,ax=axis1,ylim=[0,0.2],marker='o',title='RMSPE Average of Sales Percent Error on days')\n",
    "ax1.set_xticks(range(len(RMSPE_Sales_days)))\n",
    "ax1.set_xticklabels(RMSPE_Sales_days.index.tolist(),rotation=90)\n",
    "plt.show()"
   ]
  },
  {
   "cell_type": "code",
   "execution_count": 425,
   "metadata": {
    "collapsed": false
   },
   "outputs": [
    {
     "data": {
      "image/png": "[encoded data removed]",
      "text/plain": [
       "<matplotlib.figure.Figure at 0x186067590>"
      ]
     },
     "metadata": {},
     "output_type": "display_data"
    }
   ],
   "source": [
    "mask=(modified_train_store_raw_df['Date']>=startValidDate) & valid_data.Sales>0\n",
    "RMSPE_Sales_days=valid_data[mask].groupby('Date')['Abs_Percent_Error'].apply(np.std\n",
    "                                                                            )\n",
    "\n",
    "fig,(axis1)=plt.subplots(1,1,sharex=True,figsize=(15,5))\n",
    "\n",
    "#plot average sales abs percent error\n",
    "ax1=RMSPE_Sales_days.plot(legend=True,ax=axis1,ylim=[0,0.2],marker='o',title='RMSPE Std of Sales Percent Error on days')\n",
    "ax1.set_xticks(range(len(RMSPE_Sales_days)))\n",
    "ax1.set_xticklabels(RMSPE_Sales_days.index.tolist(),rotation=90)\n",
    "plt.show()"
   ]
  },
  {
   "cell_type": "code",
   "execution_count": 446,
   "metadata": {
    "collapsed": false
   },
   "outputs": [
    {
     "data": {
      "image/png": "[encoded data removed]",
      "text/plain": [
       "<matplotlib.figure.Figure at 0x187b94b50>"
      ]
     },
     "metadata": {},
     "output_type": "display_data"
    }
   ],
   "source": [
    "mask=(modified_train_store_raw_df['Date']>=startValidDate) & valid_data.Sales>0\n",
    "\n",
    "RMSPE_Sales_store=valid_data[mask].groupby('Store')['Abs_Percent_Error'].apply(np.mean)\n",
    "\n",
    "fig,(axis1)=plt.subplots(1,1,sharex=True,figsize=(15,5))\n",
    "\n",
    "#plot average sales abs percent error\n",
    "ax1=RMSPE_Sales_store.plot(legend=True,ax=axis1,ylim=[0,1.0],marker='o',title='RMSPE Average of Sales on store')\n",
    "\n",
    "plt.show()"
   ]
  },
  {
   "cell_type": "code",
   "execution_count": 463,
   "metadata": {
    "collapsed": false
   },
   "outputs": [
    {
     "data": {
      "image/png": "[encoded data removed]",
      "text/plain": [
       "<matplotlib.figure.Figure at 0x190420890>"
      ]
     },
     "metadata": {},
     "output_type": "display_data"
    }
   ],
   "source": [
    "RMSPE_Sales_store.plot(kind='hist',figsize=[7,4])\n",
    "plt.title('Hist of RMSPE Average on Store')\n",
    "plt.show()"
   ]
  },
  {
   "cell_type": "code",
   "execution_count": 464,
   "metadata": {
    "collapsed": false
   },
   "outputs": [
    {
     "data": {
      "text/plain": [
       "1051"
      ]
     },
     "execution_count": 464,
     "metadata": {},
     "output_type": "execute_result"
    }
   ],
   "source": [
    "np.sum(RMSPE_Sales_store<0.1)"
   ]
  },
  {
   "cell_type": "code",
   "execution_count": 447,
   "metadata": {
    "collapsed": false,
    "scrolled": true
   },
   "outputs": [
    {
     "data": {
      "text/plain": [
       "Store\n",
       "908     0.862703\n",
       "721     0.289193\n",
       "594     0.287250\n",
       "549     0.280113\n",
       "875     0.268749\n",
       "1038    0.239938\n",
       "559     0.233098\n",
       "291     0.228918\n",
       "273     0.228608\n",
       "138     0.203011\n",
       "Name: Abs_Percent_Error, dtype: float64"
      ]
     },
     "execution_count": 447,
     "metadata": {},
     "output_type": "execute_result"
    }
   ],
   "source": [
    "# 显示\n",
    "list_avg_store=RMSPE_Sales_store.sort_values(ascending=False)[:10]\n",
    "list_avg_store"
   ]
  },
  {
   "cell_type": "code",
   "execution_count": 448,
   "metadata": {
    "collapsed": false
   },
   "outputs": [
    {
     "data": {
      "image/png": "[encoded data removed]",
      "text/plain": [
       "<matplotlib.figure.Figure at 0x185e1cc90>"
      ]
     },
     "metadata": {},
     "output_type": "display_data"
    }
   ],
   "source": [
    "mask=(modified_train_store_raw_df['Date']>=startValidDate) & valid_data.Sales>0\n",
    "\n",
    "RMSPE_Sales_store=valid_data[mask].groupby('Store')['Abs_Percent_Error'].apply(np.std)\n",
    "\n",
    "fig,(axis1)=plt.subplots(1,1,sharex=True,figsize=(15,5))\n",
    "\n",
    "#plot average sales abs percent error\n",
    "ax1=RMSPE_Sales_store.plot(legend=True,ax=axis1,ylim=[0,1.0],marker='o',title='RMSPE Std of Sales on store')\n",
    "\n",
    "plt.show()"
   ]
  },
  {
   "cell_type": "code",
   "execution_count": 449,
   "metadata": {
    "collapsed": false
   },
   "outputs": [
    {
     "data": {
      "text/plain": [
       "Store\n",
       "908     0.840774\n",
       "875     0.354612\n",
       "291     0.303157\n",
       "500     0.207377\n",
       "138     0.198867\n",
       "182     0.197418\n",
       "549     0.182847\n",
       "268     0.175509\n",
       "946     0.164848\n",
       "1038    0.155006\n",
       "Name: Abs_Percent_Error, dtype: float64"
      ]
     },
     "execution_count": 449,
     "metadata": {},
     "output_type": "execute_result"
    }
   ],
   "source": [
    "# 显示\n",
    "list_std_store=RMSPE_Sales_store.sort_values(ascending=False)[:10]\n",
    "list_std_store"
   ]
  },
  {
   "cell_type": "code",
   "execution_count": 450,
   "metadata": {
    "collapsed": false
   },
   "outputs": [
    {
     "name": "stdout",
     "output_type": "stream",
     "text": [
      "Num Of Same Element=6\n"
     ]
    }
   ],
   "source": [
    "print ('Num Of Same Element='+str(len((set(list(list_avg_store.keys())))&(set(list(list_std_store.keys()))))))"
   ]
  },
  {
   "cell_type": "markdown",
   "metadata": {},
   "source": [
    "#### 4.10.3 在验证集上，使用benchmark_xgboost_model的预测值与实际值差值绝对值"
   ]
  },
  {
   "cell_type": "code",
   "execution_count": null,
   "metadata": {
    "collapsed": true
   },
   "outputs": [],
   "source": []
  },
  {
   "cell_type": "code",
   "execution_count": 415,
   "metadata": {
    "collapsed": false
   },
   "outputs": [
    {
     "name": "stdout",
     "output_type": "stream",
     "text": [
      "mean=628.1\n",
      "median=448.9\n",
      "max=32622.6\n",
      "min=0.0\n",
      "sum=28799726.0\n",
      "sum_percent=8.79%\n",
      "median_percent=6.84%\n"
     ]
    },
    {
     "data": {
      "image/png": "[encoded data removed]",
      "text/plain": [
       "<matplotlib.figure.Figure at 0x186e36a50>"
      ]
     },
     "metadata": {},
     "output_type": "display_data"
    }
   ],
   "source": [
    "mask=(modified_train_store_raw_df['Date']>=startValidDate) & (valid_data.Open==1)\n",
    "y_diff=np.abs(valid_data[mask]['Sales']- valid_data[mask]['Sales_Predicted'])\n",
    "print 'mean={:.1f}'.format(y_diff.mean())\n",
    "print 'median={:.1f}'.format(y_diff.median())\n",
    "print 'max={:.1f}'.format(y_diff.max())\n",
    "print 'min={:.1f}'.format(y_diff.min())\n",
    "print 'sum={:.1f}'.format(y_diff.sum())\n",
    "print 'sum_percent={:.2f}%'.format(100.0*y_diff.sum()/abs(np.sum(valid_data[mask]['Sales'])))\n",
    "print 'median_percent={:.2f}%'.format(100.0*y_diff.median()/abs(np.median(valid_data[mask]['Sales'])))\n",
    "\n",
    "\n",
    "fig,(axis1)=plt.subplots(1,1,figsize=(7,5))\n",
    "#Sales\n",
    "_ =y_diff.plot(kind='hist',bins=100,xlim=(0,10000),ax=axis1,title='Distribution of (Prediction Sales -Actual Sales)')\n",
    "\n"
   ]
  },
  {
   "cell_type": "markdown",
   "metadata": {},
   "source": [
    "### 4.11 训练数据不适用outlier"
   ]
  },
  {
   "cell_type": "markdown",
   "metadata": {},
   "source": [
    "#### 4.11.1 构造train_df数据，valid_df数据,test_df数据"
   ]
  },
  {
   "cell_type": "code",
   "execution_count": 234,
   "metadata": {
    "collapsed": false
   },
   "outputs": [],
   "source": [
    "startValidDate='2015-06-15'\n",
    "\n",
    "mask_train_Outlier=(modified_train_store_raw_df['Date']<startValidDate)  \\\n",
    "            & (modified_train_store_raw_df['Open']==1) & (modified_train_store_raw_df['Sales']>0)\n",
    "    \n",
    "df_train_Outlier=modified_train_store_raw_df.loc[mask_train_Outlier,feature_x_list]"
   ]
  },
  {
   "cell_type": "markdown",
   "metadata": {},
   "source": [
    "#### 4.11.2 构造XGBoost模型所需要的train, valid数据"
   ]
  },
  {
   "cell_type": "code",
   "execution_count": 235,
   "metadata": {
    "collapsed": false
   },
   "outputs": [],
   "source": [
    "X_train_Outlier=df_train_Outlier\n",
    "\n",
    "y_train_Outlier=modified_train_store_raw_df.loc[mask_train_Outlier,'SalesLog']"
   ]
  },
  {
   "cell_type": "markdown",
   "metadata": {},
   "source": [
    "#### 4.11.3 验证valid数据中每个feature是否有不包含在train数据中的unique数值"
   ]
  },
  {
   "cell_type": "code",
   "execution_count": 236,
   "metadata": {
    "collapsed": false
   },
   "outputs": [
    {
     "name": "stdout",
     "output_type": "stream",
     "text": [
      "Store                          = 1\n",
      "DayOfWeek                      = 1\n",
      "Year                           = 1\n",
      "Month                          = 1\n",
      "Day                            = 1\n",
      "DayOfYear                      = 1\n",
      "StoreType_cat                  = 1\n",
      "Assortment_cat                 = 1\n",
      "StateHoliday_cat               = 1\n",
      "SchoolHoliday                  = 1\n",
      "Promo                          = 1\n",
      "Promo2                         = 1\n",
      "InPromo2Today                  = 1\n",
      "DaysCountSinceCompetition_log  = 1\n",
      "InCompetition                  = 1\n",
      "InCompetitionToday             = 1\n",
      "CompetitionDistance_log        = 1\n",
      "DaysCountSincePromo2_log       = 1\n"
     ]
    }
   ],
   "source": [
    "mask_test=(modified_test_store_raw_df['Open']==1)\n",
    "\n",
    "for ii in feature_x_list:\n",
    "    set_unique_train_Outlier=set(df_train_Outlier[ii].unique())\n",
    "    set_unique_valid=set(df_valid[ii].unique())\n",
    "    set_unique_test=set((modified_test_store_raw_df[mask_test][ii]).unique())\n",
    "\n",
    "    \n",
    "    if set_unique_train_Outlier.issuperset(set_unique_valid) &(set_unique_train_Outlier.issuperset(set_unique_test) ):\n",
    "        print '{0: <30}'.format(ii),'= 1'\n",
    "    else:\n",
    "        print '{0: <30}'.format(ii),'= 0'"
   ]
  },
  {
   "cell_type": "markdown",
   "metadata": {},
   "source": [
    "#### 4.11.4 使用 xgboost_benchmark_model的参数来训练模型"
   ]
  },
  {
   "cell_type": "code",
   "execution_count": 237,
   "metadata": {
    "collapsed": true
   },
   "outputs": [],
   "source": [
    "path='model_saved'\n",
    "file_param_xgboost_benchmark='param_xgboost_benchmark.pickle'\n",
    "para_xgboost_benchmark,earlyStopRound_xgboost_benchmark=load_param_earlyStopRound(os.path.join(path, file_param_xgboost_benchmark))"
   ]
  },
  {
   "cell_type": "code",
   "execution_count": 238,
   "metadata": {
    "collapsed": false
   },
   "outputs": [
    {
     "data": {
      "text/plain": [
       "600"
      ]
     },
     "execution_count": 238,
     "metadata": {},
     "output_type": "execute_result"
    }
   ],
   "source": [
    "earlyStopRound_xgboost_benchmark"
   ]
  },
  {
   "cell_type": "code",
   "execution_count": 239,
   "metadata": {
    "collapsed": false
   },
   "outputs": [
    {
     "data": {
      "text/plain": [
       "{'colsample_bytree': 0.95,\n",
       " 'eta': 0.10000000000000001,\n",
       " 'max_depth': 6,\n",
       " 'min_child_weight': 5,\n",
       " 'objective': 'reg:linear',\n",
       " 'seed': 42,\n",
       " 'silent': 1,\n",
       " 'subsample': 0.95}"
      ]
     },
     "execution_count": 239,
     "metadata": {},
     "output_type": "execute_result"
    }
   ],
   "source": [
    "para_xgboost_benchmark"
   ]
  },
  {
   "cell_type": "code",
   "execution_count": 240,
   "metadata": {
    "collapsed": false
   },
   "outputs": [
    {
     "name": "stdout",
     "output_type": "stream",
     "text": [
      "----------starting to train model using paras-------\n"
     ]
    },
    {
     "data": {
      "text/plain": [
       "{'colsample_bytree': 0.95,\n",
       " 'eta': 0.10000000000000001,\n",
       " 'max_depth': 6,\n",
       " 'min_child_weight': 5,\n",
       " 'objective': 'reg:linear',\n",
       " 'seed': 42,\n",
       " 'silent': 1,\n",
       " 'subsample': 0.95}"
      ]
     },
     "metadata": {},
     "output_type": "display_data"
    },
    {
     "name": "stdout",
     "output_type": "stream",
     "text": [
      "early_stopping_round=600\n"
     ]
    },
    {
     "name": "stderr",
     "output_type": "stream",
     "text": [
      "Will train until eval error hasn't decreased in 600 rounds.\n",
      "Stopping. Best iteration:\n",
      "[5602]\ttrain-rmspe:0.107143\teval-rmspe:0.123070\n",
      "\n"
     ]
    },
    {
     "name": "stdout",
     "output_type": "stream",
     "text": [
      "Validating\n",
      "XGBoost模型在验证集上的RMSPE:0.123204\n",
      "-------------Trained model done: 5408 seconds -------------\n"
     ]
    }
   ],
   "source": [
    "#构造xgboost所需要的训练集和预测集\n",
    "dtrain_Outlier=xgb.DMatrix(X_train_Outlier[feature_x_list],y_train_Outlier)\n",
    "\n",
    "watchlist=[(dtrain_Outlier,'train'),(dvalid,'eval')]\n",
    "num_boost_round=20000 #最大训练次数\n",
    "\n",
    "\n",
    "\n",
    "print('----------starting to train model using paras-------')\n",
    "start_time = time.time()\n",
    "display(para_xgboost_benchmark)\n",
    "print('early_stopping_round=%s'%earlyStopRound_xgboost_benchmark)\n",
    "\n",
    "gbm_0=xgb.train(para_xgboost_benchmark,dtrain_Outlier,num_boost_round,evals=watchlist,early_stopping_rounds=earlyStopRound_xgboost_benchmark,feval=rmspe_xg,verbose_eval=False)\n",
    "\n",
    "#用训练好的模型预测验证集\n",
    "print('Validating')\n",
    "yhat=gbm_0.predict(xgb.DMatrix(X_valid[feature_x_list]))\n",
    "error=rmspe(np.exp(y_valid),np.exp(yhat))\n",
    "print('XGBoost模型在验证集上的RMSPE:{:.6f}'.format(error))\n",
    "\n",
    "\n",
    "#将模型保存到本地\n",
    "train_time=(int)(time.time() - start_time)\n",
    "print(\"-------------Trained model done: %s seconds -------------\" % train_time)\n"
   ]
  },
  {
   "cell_type": "code",
   "execution_count": null,
   "metadata": {
    "collapsed": true
   },
   "outputs": [],
   "source": []
  }
 ],
 "metadata": {
  "anaconda-cloud": {},
  "kernelspec": {
   "display_name": "Python [Root]",
   "language": "python",
   "name": "Python [Root]"
  },
  "language_info": {
   "codemirror_mode": {
    "name": "ipython",
    "version": 2
   },
   "file_extension": ".py",
   "mimetype": "text/x-python",
   "name": "python",
   "nbconvert_exporter": "python",
   "pygments_lexer": "ipython2",
   "version": "2.7.12"
  }
 },
 "nbformat": 4,
 "nbformat_minor": 0
}
